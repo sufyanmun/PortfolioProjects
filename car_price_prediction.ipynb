{
 "cells": [
  {
   "cell_type": "code",
   "execution_count": 1,
   "id": "1b900225",
   "metadata": {
    "_cell_guid": "b1076dfc-b9ad-4769-8c92-a6c4dae69d19",
    "_uuid": "8f2839f25d086af736a60e9eeb907d3b93b6e0e5",
    "execution": {
     "iopub.execute_input": "2022-12-19T19:24:42.199238Z",
     "iopub.status.busy": "2022-12-19T19:24:42.198293Z",
     "iopub.status.idle": "2022-12-19T19:24:43.513695Z",
     "shell.execute_reply": "2022-12-19T19:24:43.512568Z"
    },
    "papermill": {
     "duration": 1.327814,
     "end_time": "2022-12-19T19:24:43.516460",
     "exception": false,
     "start_time": "2022-12-19T19:24:42.188646",
     "status": "completed"
    },
    "tags": []
   },
   "outputs": [],
   "source": [
    "# Importing the libaries & dependencies \n",
    "import pandas as pd\n",
    "import matplotlib.pyplot as plt\n",
    "import seaborn as sns\n",
    "from sklearn.model_selection import train_test_split\n",
    "from sklearn.linear_model import LinearRegression\n",
    "from sklearn.linear_model import Lasso\n",
    "from sklearn import metrics "
   ]
  },
  {
   "cell_type": "code",
   "execution_count": 2,
   "id": "f2323e48",
   "metadata": {
    "execution": {
     "iopub.execute_input": "2022-12-19T19:24:43.530747Z",
     "iopub.status.busy": "2022-12-19T19:24:43.530325Z",
     "iopub.status.idle": "2022-12-19T19:24:43.551421Z",
     "shell.execute_reply": "2022-12-19T19:24:43.550311Z"
    },
    "papermill": {
     "duration": 0.031397,
     "end_time": "2022-12-19T19:24:43.554325",
     "exception": false,
     "start_time": "2022-12-19T19:24:43.522928",
     "status": "completed"
    },
    "tags": []
   },
   "outputs": [],
   "source": [
    "# Adding the data (Data Collection & Processing)\n",
    "car_dataset = pd.read_csv('/kaggle/input/vehicle-dataset-from-cardekho/car data.csv')\n"
   ]
  },
  {
   "cell_type": "code",
   "execution_count": 3,
   "id": "e568c09c",
   "metadata": {
    "execution": {
     "iopub.execute_input": "2022-12-19T19:24:43.568165Z",
     "iopub.status.busy": "2022-12-19T19:24:43.567762Z",
     "iopub.status.idle": "2022-12-19T19:24:43.589758Z",
     "shell.execute_reply": "2022-12-19T19:24:43.588612Z"
    },
    "papermill": {
     "duration": 0.032198,
     "end_time": "2022-12-19T19:24:43.592772",
     "exception": false,
     "start_time": "2022-12-19T19:24:43.560574",
     "status": "completed"
    },
    "tags": []
   },
   "outputs": [
    {
     "data": {
      "text/html": [
       "<div>\n",
       "<style scoped>\n",
       "    .dataframe tbody tr th:only-of-type {\n",
       "        vertical-align: middle;\n",
       "    }\n",
       "\n",
       "    .dataframe tbody tr th {\n",
       "        vertical-align: top;\n",
       "    }\n",
       "\n",
       "    .dataframe thead th {\n",
       "        text-align: right;\n",
       "    }\n",
       "</style>\n",
       "<table border=\"1\" class=\"dataframe\">\n",
       "  <thead>\n",
       "    <tr style=\"text-align: right;\">\n",
       "      <th></th>\n",
       "      <th>Car_Name</th>\n",
       "      <th>Year</th>\n",
       "      <th>Selling_Price</th>\n",
       "      <th>Present_Price</th>\n",
       "      <th>Kms_Driven</th>\n",
       "      <th>Fuel_Type</th>\n",
       "      <th>Seller_Type</th>\n",
       "      <th>Transmission</th>\n",
       "      <th>Owner</th>\n",
       "    </tr>\n",
       "  </thead>\n",
       "  <tbody>\n",
       "    <tr>\n",
       "      <th>0</th>\n",
       "      <td>ritz</td>\n",
       "      <td>2014</td>\n",
       "      <td>3.35</td>\n",
       "      <td>5.59</td>\n",
       "      <td>27000</td>\n",
       "      <td>Petrol</td>\n",
       "      <td>Dealer</td>\n",
       "      <td>Manual</td>\n",
       "      <td>0</td>\n",
       "    </tr>\n",
       "    <tr>\n",
       "      <th>1</th>\n",
       "      <td>sx4</td>\n",
       "      <td>2013</td>\n",
       "      <td>4.75</td>\n",
       "      <td>9.54</td>\n",
       "      <td>43000</td>\n",
       "      <td>Diesel</td>\n",
       "      <td>Dealer</td>\n",
       "      <td>Manual</td>\n",
       "      <td>0</td>\n",
       "    </tr>\n",
       "    <tr>\n",
       "      <th>2</th>\n",
       "      <td>ciaz</td>\n",
       "      <td>2017</td>\n",
       "      <td>7.25</td>\n",
       "      <td>9.85</td>\n",
       "      <td>6900</td>\n",
       "      <td>Petrol</td>\n",
       "      <td>Dealer</td>\n",
       "      <td>Manual</td>\n",
       "      <td>0</td>\n",
       "    </tr>\n",
       "    <tr>\n",
       "      <th>3</th>\n",
       "      <td>wagon r</td>\n",
       "      <td>2011</td>\n",
       "      <td>2.85</td>\n",
       "      <td>4.15</td>\n",
       "      <td>5200</td>\n",
       "      <td>Petrol</td>\n",
       "      <td>Dealer</td>\n",
       "      <td>Manual</td>\n",
       "      <td>0</td>\n",
       "    </tr>\n",
       "    <tr>\n",
       "      <th>4</th>\n",
       "      <td>swift</td>\n",
       "      <td>2014</td>\n",
       "      <td>4.60</td>\n",
       "      <td>6.87</td>\n",
       "      <td>42450</td>\n",
       "      <td>Diesel</td>\n",
       "      <td>Dealer</td>\n",
       "      <td>Manual</td>\n",
       "      <td>0</td>\n",
       "    </tr>\n",
       "  </tbody>\n",
       "</table>\n",
       "</div>"
      ],
      "text/plain": [
       "  Car_Name  Year  Selling_Price  Present_Price  Kms_Driven Fuel_Type  \\\n",
       "0     ritz  2014           3.35           5.59       27000    Petrol   \n",
       "1      sx4  2013           4.75           9.54       43000    Diesel   \n",
       "2     ciaz  2017           7.25           9.85        6900    Petrol   \n",
       "3  wagon r  2011           2.85           4.15        5200    Petrol   \n",
       "4    swift  2014           4.60           6.87       42450    Diesel   \n",
       "\n",
       "  Seller_Type Transmission  Owner  \n",
       "0      Dealer       Manual      0  \n",
       "1      Dealer       Manual      0  \n",
       "2      Dealer       Manual      0  \n",
       "3      Dealer       Manual      0  \n",
       "4      Dealer       Manual      0  "
      ]
     },
     "execution_count": 3,
     "metadata": {},
     "output_type": "execute_result"
    }
   ],
   "source": [
    "# Checking the first 5 rows of the dataset\n",
    "car_dataset.head()"
   ]
  },
  {
   "cell_type": "code",
   "execution_count": 4,
   "id": "17c05031",
   "metadata": {
    "execution": {
     "iopub.execute_input": "2022-12-19T19:24:43.606577Z",
     "iopub.status.busy": "2022-12-19T19:24:43.606192Z",
     "iopub.status.idle": "2022-12-19T19:24:43.613300Z",
     "shell.execute_reply": "2022-12-19T19:24:43.612174Z"
    },
    "papermill": {
     "duration": 0.016775,
     "end_time": "2022-12-19T19:24:43.615701",
     "exception": false,
     "start_time": "2022-12-19T19:24:43.598926",
     "status": "completed"
    },
    "tags": []
   },
   "outputs": [
    {
     "data": {
      "text/plain": [
       "(301, 9)"
      ]
     },
     "execution_count": 4,
     "metadata": {},
     "output_type": "execute_result"
    }
   ],
   "source": [
    "# Viewing the number of rows & columns\n",
    "car_dataset.shape"
   ]
  },
  {
   "cell_type": "code",
   "execution_count": 5,
   "id": "2be1cc6b",
   "metadata": {
    "execution": {
     "iopub.execute_input": "2022-12-19T19:24:43.630282Z",
     "iopub.status.busy": "2022-12-19T19:24:43.629890Z",
     "iopub.status.idle": "2022-12-19T19:24:43.653370Z",
     "shell.execute_reply": "2022-12-19T19:24:43.652430Z"
    },
    "papermill": {
     "duration": 0.033768,
     "end_time": "2022-12-19T19:24:43.656057",
     "exception": false,
     "start_time": "2022-12-19T19:24:43.622289",
     "status": "completed"
    },
    "tags": []
   },
   "outputs": [
    {
     "name": "stdout",
     "output_type": "stream",
     "text": [
      "<class 'pandas.core.frame.DataFrame'>\n",
      "RangeIndex: 301 entries, 0 to 300\n",
      "Data columns (total 9 columns):\n",
      " #   Column         Non-Null Count  Dtype  \n",
      "---  ------         --------------  -----  \n",
      " 0   Car_Name       301 non-null    object \n",
      " 1   Year           301 non-null    int64  \n",
      " 2   Selling_Price  301 non-null    float64\n",
      " 3   Present_Price  301 non-null    float64\n",
      " 4   Kms_Driven     301 non-null    int64  \n",
      " 5   Fuel_Type      301 non-null    object \n",
      " 6   Seller_Type    301 non-null    object \n",
      " 7   Transmission   301 non-null    object \n",
      " 8   Owner          301 non-null    int64  \n",
      "dtypes: float64(2), int64(3), object(4)\n",
      "memory usage: 21.3+ KB\n"
     ]
    }
   ],
   "source": [
    "# Retrieving more info about the dataset\n",
    "car_dataset.info()"
   ]
  },
  {
   "cell_type": "code",
   "execution_count": 6,
   "id": "1ae44356",
   "metadata": {
    "execution": {
     "iopub.execute_input": "2022-12-19T19:24:43.671043Z",
     "iopub.status.busy": "2022-12-19T19:24:43.669972Z",
     "iopub.status.idle": "2022-12-19T19:24:43.679632Z",
     "shell.execute_reply": "2022-12-19T19:24:43.678308Z"
    },
    "papermill": {
     "duration": 0.019347,
     "end_time": "2022-12-19T19:24:43.681853",
     "exception": false,
     "start_time": "2022-12-19T19:24:43.662506",
     "status": "completed"
    },
    "tags": []
   },
   "outputs": [
    {
     "data": {
      "text/plain": [
       "Car_Name         0\n",
       "Year             0\n",
       "Selling_Price    0\n",
       "Present_Price    0\n",
       "Kms_Driven       0\n",
       "Fuel_Type        0\n",
       "Seller_Type      0\n",
       "Transmission     0\n",
       "Owner            0\n",
       "dtype: int64"
      ]
     },
     "execution_count": 6,
     "metadata": {},
     "output_type": "execute_result"
    }
   ],
   "source": [
    "# Check to see if we have missing values (Null values)\n",
    "car_dataset.isnull().sum()"
   ]
  },
  {
   "cell_type": "code",
   "execution_count": 7,
   "id": "e25bca71",
   "metadata": {
    "execution": {
     "iopub.execute_input": "2022-12-19T19:24:43.696742Z",
     "iopub.status.busy": "2022-12-19T19:24:43.696134Z",
     "iopub.status.idle": "2022-12-19T19:24:43.706648Z",
     "shell.execute_reply": "2022-12-19T19:24:43.705387Z"
    },
    "papermill": {
     "duration": 0.021106,
     "end_time": "2022-12-19T19:24:43.709480",
     "exception": false,
     "start_time": "2022-12-19T19:24:43.688374",
     "status": "completed"
    },
    "tags": []
   },
   "outputs": [
    {
     "name": "stdout",
     "output_type": "stream",
     "text": [
      "Petrol    239\n",
      "Diesel     60\n",
      "CNG         2\n",
      "Name: Fuel_Type, dtype: int64\n",
      "Dealer        195\n",
      "Individual    106\n",
      "Name: Seller_Type, dtype: int64\n",
      "Manual       261\n",
      "Automatic     40\n",
      "Name: Transmission, dtype: int64\n"
     ]
    }
   ],
   "source": [
    "# Seeing the distribution of categorical data \n",
    "print(car_dataset.Fuel_Type.value_counts())\n",
    "print(car_dataset.Seller_Type.value_counts())\n",
    "print(car_dataset.Transmission.value_counts())"
   ]
  },
  {
   "cell_type": "markdown",
   "id": "652ec353",
   "metadata": {
    "papermill": {
     "duration": 0.007866,
     "end_time": "2022-12-19T19:24:43.724191",
     "exception": false,
     "start_time": "2022-12-19T19:24:43.716325",
     "status": "completed"
    },
    "tags": []
   },
   "source": [
    "# **Encoding the categorical data**"
   ]
  },
  {
   "cell_type": "code",
   "execution_count": 8,
   "id": "edd28654",
   "metadata": {
    "execution": {
     "iopub.execute_input": "2022-12-19T19:24:43.738915Z",
     "iopub.status.busy": "2022-12-19T19:24:43.738536Z",
     "iopub.status.idle": "2022-12-19T19:24:43.750729Z",
     "shell.execute_reply": "2022-12-19T19:24:43.749579Z"
    },
    "papermill": {
     "duration": 0.022341,
     "end_time": "2022-12-19T19:24:43.753051",
     "exception": false,
     "start_time": "2022-12-19T19:24:43.730710",
     "status": "completed"
    },
    "tags": []
   },
   "outputs": [],
   "source": [
    " # Encoding the categorical data for fuel type column\n",
    "car_dataset.replace({'Fuel_Type':{'Petrol':0, 'Diesel':1, 'CNG':2, }},inplace=True)\n",
    "\n",
    " # Encoding the categorical data for seller type column\n",
    "car_dataset.replace({'Seller_Type':{'Dealer':0, 'Individual':1}},inplace=True)\n",
    "\n",
    " # Encoding the categorical data for transmission column\n",
    "car_dataset.replace({'Transmission':{'Manual':0, 'Automatic':1}},inplace=True)"
   ]
  },
  {
   "cell_type": "code",
   "execution_count": 9,
   "id": "2ca16386",
   "metadata": {
    "execution": {
     "iopub.execute_input": "2022-12-19T19:24:43.768071Z",
     "iopub.status.busy": "2022-12-19T19:24:43.767307Z",
     "iopub.status.idle": "2022-12-19T19:24:43.781423Z",
     "shell.execute_reply": "2022-12-19T19:24:43.780360Z"
    },
    "papermill": {
     "duration": 0.0241,
     "end_time": "2022-12-19T19:24:43.783687",
     "exception": false,
     "start_time": "2022-12-19T19:24:43.759587",
     "status": "completed"
    },
    "tags": []
   },
   "outputs": [
    {
     "data": {
      "text/html": [
       "<div>\n",
       "<style scoped>\n",
       "    .dataframe tbody tr th:only-of-type {\n",
       "        vertical-align: middle;\n",
       "    }\n",
       "\n",
       "    .dataframe tbody tr th {\n",
       "        vertical-align: top;\n",
       "    }\n",
       "\n",
       "    .dataframe thead th {\n",
       "        text-align: right;\n",
       "    }\n",
       "</style>\n",
       "<table border=\"1\" class=\"dataframe\">\n",
       "  <thead>\n",
       "    <tr style=\"text-align: right;\">\n",
       "      <th></th>\n",
       "      <th>Car_Name</th>\n",
       "      <th>Year</th>\n",
       "      <th>Selling_Price</th>\n",
       "      <th>Present_Price</th>\n",
       "      <th>Kms_Driven</th>\n",
       "      <th>Fuel_Type</th>\n",
       "      <th>Seller_Type</th>\n",
       "      <th>Transmission</th>\n",
       "      <th>Owner</th>\n",
       "    </tr>\n",
       "  </thead>\n",
       "  <tbody>\n",
       "    <tr>\n",
       "      <th>0</th>\n",
       "      <td>ritz</td>\n",
       "      <td>2014</td>\n",
       "      <td>3.35</td>\n",
       "      <td>5.59</td>\n",
       "      <td>27000</td>\n",
       "      <td>0</td>\n",
       "      <td>0</td>\n",
       "      <td>0</td>\n",
       "      <td>0</td>\n",
       "    </tr>\n",
       "    <tr>\n",
       "      <th>1</th>\n",
       "      <td>sx4</td>\n",
       "      <td>2013</td>\n",
       "      <td>4.75</td>\n",
       "      <td>9.54</td>\n",
       "      <td>43000</td>\n",
       "      <td>1</td>\n",
       "      <td>0</td>\n",
       "      <td>0</td>\n",
       "      <td>0</td>\n",
       "    </tr>\n",
       "    <tr>\n",
       "      <th>2</th>\n",
       "      <td>ciaz</td>\n",
       "      <td>2017</td>\n",
       "      <td>7.25</td>\n",
       "      <td>9.85</td>\n",
       "      <td>6900</td>\n",
       "      <td>0</td>\n",
       "      <td>0</td>\n",
       "      <td>0</td>\n",
       "      <td>0</td>\n",
       "    </tr>\n",
       "    <tr>\n",
       "      <th>3</th>\n",
       "      <td>wagon r</td>\n",
       "      <td>2011</td>\n",
       "      <td>2.85</td>\n",
       "      <td>4.15</td>\n",
       "      <td>5200</td>\n",
       "      <td>0</td>\n",
       "      <td>0</td>\n",
       "      <td>0</td>\n",
       "      <td>0</td>\n",
       "    </tr>\n",
       "    <tr>\n",
       "      <th>4</th>\n",
       "      <td>swift</td>\n",
       "      <td>2014</td>\n",
       "      <td>4.60</td>\n",
       "      <td>6.87</td>\n",
       "      <td>42450</td>\n",
       "      <td>1</td>\n",
       "      <td>0</td>\n",
       "      <td>0</td>\n",
       "      <td>0</td>\n",
       "    </tr>\n",
       "  </tbody>\n",
       "</table>\n",
       "</div>"
      ],
      "text/plain": [
       "  Car_Name  Year  Selling_Price  Present_Price  Kms_Driven  Fuel_Type  \\\n",
       "0     ritz  2014           3.35           5.59       27000          0   \n",
       "1      sx4  2013           4.75           9.54       43000          1   \n",
       "2     ciaz  2017           7.25           9.85        6900          0   \n",
       "3  wagon r  2011           2.85           4.15        5200          0   \n",
       "4    swift  2014           4.60           6.87       42450          1   \n",
       "\n",
       "   Seller_Type  Transmission  Owner  \n",
       "0            0             0      0  \n",
       "1            0             0      0  \n",
       "2            0             0      0  \n",
       "3            0             0      0  \n",
       "4            0             0      0  "
      ]
     },
     "execution_count": 9,
     "metadata": {},
     "output_type": "execute_result"
    }
   ],
   "source": [
    "# Checking if the encoding was done correctly \n",
    "car_dataset.head()"
   ]
  },
  {
   "cell_type": "code",
   "execution_count": 10,
   "id": "a0bd1083",
   "metadata": {
    "execution": {
     "iopub.execute_input": "2022-12-19T19:24:43.799020Z",
     "iopub.status.busy": "2022-12-19T19:24:43.798665Z",
     "iopub.status.idle": "2022-12-19T19:24:43.806327Z",
     "shell.execute_reply": "2022-12-19T19:24:43.805448Z"
    },
    "papermill": {
     "duration": 0.019658,
     "end_time": "2022-12-19T19:24:43.810141",
     "exception": false,
     "start_time": "2022-12-19T19:24:43.790483",
     "status": "completed"
    },
    "tags": []
   },
   "outputs": [],
   "source": [
    "# Splitting the data into X & Y (Independant & dependant variable)\n",
    "X = car_dataset.drop(['Car_Name','Selling_Price'], axis=1)\n",
    "Y = car_dataset['Selling_Price']"
   ]
  },
  {
   "cell_type": "code",
   "execution_count": 11,
   "id": "77233437",
   "metadata": {
    "execution": {
     "iopub.execute_input": "2022-12-19T19:24:43.832253Z",
     "iopub.status.busy": "2022-12-19T19:24:43.831696Z",
     "iopub.status.idle": "2022-12-19T19:24:43.846092Z",
     "shell.execute_reply": "2022-12-19T19:24:43.844453Z"
    },
    "papermill": {
     "duration": 0.028312,
     "end_time": "2022-12-19T19:24:43.848636",
     "exception": false,
     "start_time": "2022-12-19T19:24:43.820324",
     "status": "completed"
    },
    "tags": []
   },
   "outputs": [
    {
     "data": {
      "text/html": [
       "<div>\n",
       "<style scoped>\n",
       "    .dataframe tbody tr th:only-of-type {\n",
       "        vertical-align: middle;\n",
       "    }\n",
       "\n",
       "    .dataframe tbody tr th {\n",
       "        vertical-align: top;\n",
       "    }\n",
       "\n",
       "    .dataframe thead th {\n",
       "        text-align: right;\n",
       "    }\n",
       "</style>\n",
       "<table border=\"1\" class=\"dataframe\">\n",
       "  <thead>\n",
       "    <tr style=\"text-align: right;\">\n",
       "      <th></th>\n",
       "      <th>Year</th>\n",
       "      <th>Present_Price</th>\n",
       "      <th>Kms_Driven</th>\n",
       "      <th>Fuel_Type</th>\n",
       "      <th>Seller_Type</th>\n",
       "      <th>Transmission</th>\n",
       "      <th>Owner</th>\n",
       "    </tr>\n",
       "  </thead>\n",
       "  <tbody>\n",
       "    <tr>\n",
       "      <th>0</th>\n",
       "      <td>2014</td>\n",
       "      <td>5.59</td>\n",
       "      <td>27000</td>\n",
       "      <td>0</td>\n",
       "      <td>0</td>\n",
       "      <td>0</td>\n",
       "      <td>0</td>\n",
       "    </tr>\n",
       "    <tr>\n",
       "      <th>1</th>\n",
       "      <td>2013</td>\n",
       "      <td>9.54</td>\n",
       "      <td>43000</td>\n",
       "      <td>1</td>\n",
       "      <td>0</td>\n",
       "      <td>0</td>\n",
       "      <td>0</td>\n",
       "    </tr>\n",
       "    <tr>\n",
       "      <th>2</th>\n",
       "      <td>2017</td>\n",
       "      <td>9.85</td>\n",
       "      <td>6900</td>\n",
       "      <td>0</td>\n",
       "      <td>0</td>\n",
       "      <td>0</td>\n",
       "      <td>0</td>\n",
       "    </tr>\n",
       "    <tr>\n",
       "      <th>3</th>\n",
       "      <td>2011</td>\n",
       "      <td>4.15</td>\n",
       "      <td>5200</td>\n",
       "      <td>0</td>\n",
       "      <td>0</td>\n",
       "      <td>0</td>\n",
       "      <td>0</td>\n",
       "    </tr>\n",
       "    <tr>\n",
       "      <th>4</th>\n",
       "      <td>2014</td>\n",
       "      <td>6.87</td>\n",
       "      <td>42450</td>\n",
       "      <td>1</td>\n",
       "      <td>0</td>\n",
       "      <td>0</td>\n",
       "      <td>0</td>\n",
       "    </tr>\n",
       "  </tbody>\n",
       "</table>\n",
       "</div>"
      ],
      "text/plain": [
       "   Year  Present_Price  Kms_Driven  Fuel_Type  Seller_Type  Transmission  \\\n",
       "0  2014           5.59       27000          0            0             0   \n",
       "1  2013           9.54       43000          1            0             0   \n",
       "2  2017           9.85        6900          0            0             0   \n",
       "3  2011           4.15        5200          0            0             0   \n",
       "4  2014           6.87       42450          1            0             0   \n",
       "\n",
       "   Owner  \n",
       "0      0  \n",
       "1      0  \n",
       "2      0  \n",
       "3      0  \n",
       "4      0  "
      ]
     },
     "execution_count": 11,
     "metadata": {},
     "output_type": "execute_result"
    }
   ],
   "source": [
    "# Viewing the split data (independant & dependant variables)\n",
    "X.head()"
   ]
  },
  {
   "cell_type": "code",
   "execution_count": 12,
   "id": "8e6ba283",
   "metadata": {
    "execution": {
     "iopub.execute_input": "2022-12-19T19:24:43.870830Z",
     "iopub.status.busy": "2022-12-19T19:24:43.870155Z",
     "iopub.status.idle": "2022-12-19T19:24:43.879316Z",
     "shell.execute_reply": "2022-12-19T19:24:43.878070Z"
    },
    "papermill": {
     "duration": 0.024388,
     "end_time": "2022-12-19T19:24:43.881648",
     "exception": false,
     "start_time": "2022-12-19T19:24:43.857260",
     "status": "completed"
    },
    "tags": []
   },
   "outputs": [
    {
     "name": "stdout",
     "output_type": "stream",
     "text": [
      "0       3.35\n",
      "1       4.75\n",
      "2       7.25\n",
      "3       2.85\n",
      "4       4.60\n",
      "       ...  \n",
      "296     9.50\n",
      "297     4.00\n",
      "298     3.35\n",
      "299    11.50\n",
      "300     5.30\n",
      "Name: Selling_Price, Length: 301, dtype: float64\n"
     ]
    }
   ],
   "source": [
    "# We can use either head or print to view the data\n",
    "print(Y)"
   ]
  },
  {
   "cell_type": "code",
   "execution_count": 13,
   "id": "c0aae068",
   "metadata": {
    "execution": {
     "iopub.execute_input": "2022-12-19T19:24:43.898376Z",
     "iopub.status.busy": "2022-12-19T19:24:43.897662Z",
     "iopub.status.idle": "2022-12-19T19:24:43.903356Z",
     "shell.execute_reply": "2022-12-19T19:24:43.902508Z"
    },
    "papermill": {
     "duration": 0.01671,
     "end_time": "2022-12-19T19:24:43.905729",
     "exception": false,
     "start_time": "2022-12-19T19:24:43.889019",
     "status": "completed"
    },
    "tags": []
   },
   "outputs": [],
   "source": [
    "# Splitting the data intro training and test data\n",
    "X_train, X_test, Y_train, Y_test = train_test_split(X, Y, test_size = 0.05)\n"
   ]
  },
  {
   "cell_type": "code",
   "execution_count": 14,
   "id": "8c68d106",
   "metadata": {
    "execution": {
     "iopub.execute_input": "2022-12-19T19:24:43.922150Z",
     "iopub.status.busy": "2022-12-19T19:24:43.921471Z",
     "iopub.status.idle": "2022-12-19T19:24:43.925560Z",
     "shell.execute_reply": "2022-12-19T19:24:43.924723Z"
    },
    "papermill": {
     "duration": 0.014657,
     "end_time": "2022-12-19T19:24:43.927612",
     "exception": false,
     "start_time": "2022-12-19T19:24:43.912955",
     "status": "completed"
    },
    "tags": []
   },
   "outputs": [],
   "source": [
    "# Loading the Linear Regression Model \n",
    "lin_reg_model = LinearRegression()"
   ]
  },
  {
   "cell_type": "code",
   "execution_count": 15,
   "id": "1ed6f958",
   "metadata": {
    "execution": {
     "iopub.execute_input": "2022-12-19T19:24:43.943594Z",
     "iopub.status.busy": "2022-12-19T19:24:43.942937Z",
     "iopub.status.idle": "2022-12-19T19:24:43.968045Z",
     "shell.execute_reply": "2022-12-19T19:24:43.966744Z"
    },
    "papermill": {
     "duration": 0.03649,
     "end_time": "2022-12-19T19:24:43.971061",
     "exception": false,
     "start_time": "2022-12-19T19:24:43.934571",
     "status": "completed"
    },
    "tags": []
   },
   "outputs": [
    {
     "data": {
      "text/plain": [
       "LinearRegression()"
      ]
     },
     "execution_count": 15,
     "metadata": {},
     "output_type": "execute_result"
    }
   ],
   "source": [
    "#  Fitting our data into the Linear Regression Model (Training our model)\n",
    "lin_reg_model.fit(X_train, Y_train)"
   ]
  },
  {
   "cell_type": "markdown",
   "id": "3c6a31ad",
   "metadata": {
    "papermill": {
     "duration": 0.006765,
     "end_time": "2022-12-19T19:24:43.985277",
     "exception": false,
     "start_time": "2022-12-19T19:24:43.978512",
     "status": "completed"
    },
    "tags": []
   },
   "source": [
    "# **Linear Regression Model Evaluation**"
   ]
  },
  {
   "cell_type": "code",
   "execution_count": 16,
   "id": "62d235d0",
   "metadata": {
    "execution": {
     "iopub.execute_input": "2022-12-19T19:24:44.001756Z",
     "iopub.status.busy": "2022-12-19T19:24:44.000980Z",
     "iopub.status.idle": "2022-12-19T19:24:44.009602Z",
     "shell.execute_reply": "2022-12-19T19:24:44.008384Z"
    },
    "papermill": {
     "duration": 0.020102,
     "end_time": "2022-12-19T19:24:44.012493",
     "exception": false,
     "start_time": "2022-12-19T19:24:43.992391",
     "status": "completed"
    },
    "tags": []
   },
   "outputs": [],
   "source": [
    "# Predicitions on training data\n",
    "training_data_prediction = lin_reg_model.predict(X_train)"
   ]
  },
  {
   "cell_type": "code",
   "execution_count": 17,
   "id": "3e26eb43",
   "metadata": {
    "execution": {
     "iopub.execute_input": "2022-12-19T19:24:44.029309Z",
     "iopub.status.busy": "2022-12-19T19:24:44.028906Z",
     "iopub.status.idle": "2022-12-19T19:24:44.035960Z",
     "shell.execute_reply": "2022-12-19T19:24:44.034633Z"
    },
    "papermill": {
     "duration": 0.019636,
     "end_time": "2022-12-19T19:24:44.039553",
     "exception": false,
     "start_time": "2022-12-19T19:24:44.019917",
     "status": "completed"
    },
    "tags": []
   },
   "outputs": [
    {
     "name": "stdout",
     "output_type": "stream",
     "text": [
      "R Scored Error:  0.8842364889173431\n"
     ]
    }
   ],
   "source": [
    "# Testing the accuracy of our model (R Squared Error)\n",
    "error_score = metrics.r2_score(Y_train, training_data_prediction)\n",
    "print(\"R Scored Error: \", error_score)"
   ]
  },
  {
   "cell_type": "markdown",
   "id": "d40bedd4",
   "metadata": {
    "papermill": {
     "duration": 0.007006,
     "end_time": "2022-12-19T19:24:44.054900",
     "exception": false,
     "start_time": "2022-12-19T19:24:44.047894",
     "status": "completed"
    },
    "tags": []
   },
   "source": [
    "# Visualizing the actual price & predicited prices  "
   ]
  },
  {
   "cell_type": "code",
   "execution_count": 18,
   "id": "98130dba",
   "metadata": {
    "execution": {
     "iopub.execute_input": "2022-12-19T19:24:44.071282Z",
     "iopub.status.busy": "2022-12-19T19:24:44.070516Z",
     "iopub.status.idle": "2022-12-19T19:24:44.320328Z",
     "shell.execute_reply": "2022-12-19T19:24:44.319262Z"
    },
    "papermill": {
     "duration": 0.260716,
     "end_time": "2022-12-19T19:24:44.322746",
     "exception": false,
     "start_time": "2022-12-19T19:24:44.062030",
     "status": "completed"
    },
    "tags": []
   },
   "outputs": [
    {
     "data": {
      "text/plain": [
       "<function matplotlib.pyplot.show(close=None, block=None)>"
      ]
     },
     "execution_count": 18,
     "metadata": {},
     "output_type": "execute_result"
    },
    {
     "data": {
      "image/png": "[encoded data removed]",
      "text/plain": [
       "<Figure size 432x288 with 1 Axes>"
      ]
     },
     "metadata": {
      "needs_background": "light"
     },
     "output_type": "display_data"
    }
   ],
   "source": [
    "plt.scatter(Y_train, training_data_prediction)\n",
    "plt.xlabel(\"Actual Price\")\n",
    "plt.ylabel(\"Predicted Price\")\n",
    "plt.title(\"Predicted Vs Actual\")\n",
    "plt.show"
   ]
  },
  {
   "cell_type": "code",
   "execution_count": 19,
   "id": "bcc29792",
   "metadata": {
    "execution": {
     "iopub.execute_input": "2022-12-19T19:24:44.339807Z",
     "iopub.status.busy": "2022-12-19T19:24:44.339438Z",
     "iopub.status.idle": "2022-12-19T19:24:44.345922Z",
     "shell.execute_reply": "2022-12-19T19:24:44.344748Z"
    },
    "papermill": {
     "duration": 0.017524,
     "end_time": "2022-12-19T19:24:44.348021",
     "exception": false,
     "start_time": "2022-12-19T19:24:44.330497",
     "status": "completed"
    },
    "tags": []
   },
   "outputs": [],
   "source": [
    "# Prediction on Test Data\n",
    "test_data_prediction = lin_reg_model.predict(X_test)"
   ]
  },
  {
   "cell_type": "code",
   "execution_count": 20,
   "id": "ba8acbb3",
   "metadata": {
    "execution": {
     "iopub.execute_input": "2022-12-19T19:24:44.366830Z",
     "iopub.status.busy": "2022-12-19T19:24:44.365763Z",
     "iopub.status.idle": "2022-12-19T19:24:44.372869Z",
     "shell.execute_reply": "2022-12-19T19:24:44.371307Z"
    },
    "papermill": {
     "duration": 0.019596,
     "end_time": "2022-12-19T19:24:44.375098",
     "exception": false,
     "start_time": "2022-12-19T19:24:44.355502",
     "status": "completed"
    },
    "tags": []
   },
   "outputs": [
    {
     "name": "stdout",
     "output_type": "stream",
     "text": [
      "R Scored Error:  0.8283359587505577\n"
     ]
    }
   ],
   "source": [
    "# R Squared Error of predictions on Test Data\n",
    "error_score = metrics.r2_score(Y_test, test_data_prediction)\n",
    "print(\"R Scored Error: \", error_score)"
   ]
  },
  {
   "cell_type": "code",
   "execution_count": 21,
   "id": "3cc9be5b",
   "metadata": {
    "execution": {
     "iopub.execute_input": "2022-12-19T19:24:44.392290Z",
     "iopub.status.busy": "2022-12-19T19:24:44.391828Z",
     "iopub.status.idle": "2022-12-19T19:24:44.557067Z",
     "shell.execute_reply": "2022-12-19T19:24:44.555876Z"
    },
    "papermill": {
     "duration": 0.176623,
     "end_time": "2022-12-19T19:24:44.559561",
     "exception": false,
     "start_time": "2022-12-19T19:24:44.382938",
     "status": "completed"
    },
    "tags": []
   },
   "outputs": [
    {
     "data": {
      "text/plain": [
       "<function matplotlib.pyplot.show(close=None, block=None)>"
      ]
     },
     "execution_count": 21,
     "metadata": {},
     "output_type": "execute_result"
    },
    {
     "data": {
      "image/png": "[encoded data removed]",
      "text/plain": [
       "<Figure size 432x288 with 1 Axes>"
      ]
     },
     "metadata": {
      "needs_background": "light"
     },
     "output_type": "display_data"
    }
   ],
   "source": [
    "# Plotting the test data predictions vs actual \n",
    "plt.scatter(Y_test, test_data_prediction)\n",
    "plt.xlabel(\"Actual Price\")\n",
    "plt.ylabel(\"Predicted Price\")\n",
    "plt.title(\"Predicted Vs Actual\")\n",
    "plt.show"
   ]
  }
 ],
 "metadata": {
  "kernelspec": {
   "display_name": "Python 3",
   "language": "python",
   "name": "python3"
  },
  "language_info": {
   "codemirror_mode": {
    "name": "ipython",
    "version": 3
   },
   "file_extension": ".py",
   "mimetype": "text/x-python",
   "name": "python",
   "nbconvert_exporter": "python",
   "pygments_lexer": "ipython3",
   "version": "3.7.12"
  },
  "papermill": {
   "default_parameters": {},
   "duration": 11.82003,
   "end_time": "2022-12-19T19:24:45.389757",
   "environment_variables": {},
   "exception": null,
   "input_path": "__notebook__.ipynb",
   "output_path": "__notebook__.ipynb",
   "parameters": {},
   "start_time": "2022-12-19T19:24:33.569727",
   "version": "2.3.4"
  }
 },
 "nbformat": 4,
 "nbformat_minor": 5
}
