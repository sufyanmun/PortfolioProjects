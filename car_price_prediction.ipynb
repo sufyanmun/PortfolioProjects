{
 "cells": [
  {
   "cell_type": "code",
   "execution_count": 1,
   "id": "767a4d93",
   "metadata": {
    "_cell_guid": "b1076dfc-b9ad-4769-8c92-a6c4dae69d19",
    "_uuid": "8f2839f25d086af736a60e9eeb907d3b93b6e0e5",
    "execution": {
     "iopub.execute_input": "2022-12-19T19:08:27.562428Z",
     "iopub.status.busy": "2022-12-19T19:08:27.561792Z",
     "iopub.status.idle": "2022-12-19T19:08:29.125208Z",
     "shell.execute_reply": "2022-12-19T19:08:29.123589Z"
    },
    "papermill": {
     "duration": 1.575637,
     "end_time": "2022-12-19T19:08:29.128654",
     "exception": false,
     "start_time": "2022-12-19T19:08:27.553017",
     "status": "completed"
    },
    "tags": []
   },
   "outputs": [],
   "source": [
    "# Importing the libaries & dependencies \n",
    "import pandas as pd\n",
    "import matplotlib.pyplot as plt\n",
    "import seaborn as sns\n",
    "from sklearn.model_selection import train_test_split\n",
    "from sklearn.linear_model import LinearRegression\n",
    "from sklearn.linear_model import Lasso\n",
    "from sklearn import metrics "
   ]
  },
  {
   "cell_type": "code",
   "execution_count": 2,
   "id": "6bda9a87",
   "metadata": {
    "execution": {
     "iopub.execute_input": "2022-12-19T19:08:29.142558Z",
     "iopub.status.busy": "2022-12-19T19:08:29.142071Z",
     "iopub.status.idle": "2022-12-19T19:08:29.171885Z",
     "shell.execute_reply": "2022-12-19T19:08:29.170572Z"
    },
    "papermill": {
     "duration": 0.040213,
     "end_time": "2022-12-19T19:08:29.174584",
     "exception": false,
     "start_time": "2022-12-19T19:08:29.134371",
     "status": "completed"
    },
    "tags": []
   },
   "outputs": [],
   "source": [
    "# Adding the data (Data Collection & Processing)\n",
    "car_dataset = pd.read_csv('/kaggle/input/vehicle-dataset-from-cardekho/car data.csv')\n"
   ]
  },
  {
   "cell_type": "code",
   "execution_count": 3,
   "id": "f2ebe4e6",
   "metadata": {
    "execution": {
     "iopub.execute_input": "2022-12-19T19:08:29.187877Z",
     "iopub.status.busy": "2022-12-19T19:08:29.187346Z",
     "iopub.status.idle": "2022-12-19T19:08:29.215768Z",
     "shell.execute_reply": "2022-12-19T19:08:29.214010Z"
    },
    "papermill": {
     "duration": 0.039086,
     "end_time": "2022-12-19T19:08:29.219141",
     "exception": false,
     "start_time": "2022-12-19T19:08:29.180055",
     "status": "completed"
    },
    "tags": []
   },
   "outputs": [
    {
     "data": {
      "text/html": [
       "<div>\n",
       "<style scoped>\n",
       "    .dataframe tbody tr th:only-of-type {\n",
       "        vertical-align: middle;\n",
       "    }\n",
       "\n",
       "    .dataframe tbody tr th {\n",
       "        vertical-align: top;\n",
       "    }\n",
       "\n",
       "    .dataframe thead th {\n",
       "        text-align: right;\n",
       "    }\n",
       "</style>\n",
       "<table border=\"1\" class=\"dataframe\">\n",
       "  <thead>\n",
       "    <tr style=\"text-align: right;\">\n",
       "      <th></th>\n",
       "      <th>Car_Name</th>\n",
       "      <th>Year</th>\n",
       "      <th>Selling_Price</th>\n",
       "      <th>Present_Price</th>\n",
       "      <th>Kms_Driven</th>\n",
       "      <th>Fuel_Type</th>\n",
       "      <th>Seller_Type</th>\n",
       "      <th>Transmission</th>\n",
       "      <th>Owner</th>\n",
       "    </tr>\n",
       "  </thead>\n",
       "  <tbody>\n",
       "    <tr>\n",
       "      <th>0</th>\n",
       "      <td>ritz</td>\n",
       "      <td>2014</td>\n",
       "      <td>3.35</td>\n",
       "      <td>5.59</td>\n",
       "      <td>27000</td>\n",
       "      <td>Petrol</td>\n",
       "      <td>Dealer</td>\n",
       "      <td>Manual</td>\n",
       "      <td>0</td>\n",
       "    </tr>\n",
       "    <tr>\n",
       "      <th>1</th>\n",
       "      <td>sx4</td>\n",
       "      <td>2013</td>\n",
       "      <td>4.75</td>\n",
       "      <td>9.54</td>\n",
       "      <td>43000</td>\n",
       "      <td>Diesel</td>\n",
       "      <td>Dealer</td>\n",
       "      <td>Manual</td>\n",
       "      <td>0</td>\n",
       "    </tr>\n",
       "    <tr>\n",
       "      <th>2</th>\n",
       "      <td>ciaz</td>\n",
       "      <td>2017</td>\n",
       "      <td>7.25</td>\n",
       "      <td>9.85</td>\n",
       "      <td>6900</td>\n",
       "      <td>Petrol</td>\n",
       "      <td>Dealer</td>\n",
       "      <td>Manual</td>\n",
       "      <td>0</td>\n",
       "    </tr>\n",
       "    <tr>\n",
       "      <th>3</th>\n",
       "      <td>wagon r</td>\n",
       "      <td>2011</td>\n",
       "      <td>2.85</td>\n",
       "      <td>4.15</td>\n",
       "      <td>5200</td>\n",
       "      <td>Petrol</td>\n",
       "      <td>Dealer</td>\n",
       "      <td>Manual</td>\n",
       "      <td>0</td>\n",
       "    </tr>\n",
       "    <tr>\n",
       "      <th>4</th>\n",
       "      <td>swift</td>\n",
       "      <td>2014</td>\n",
       "      <td>4.60</td>\n",
       "      <td>6.87</td>\n",
       "      <td>42450</td>\n",
       "      <td>Diesel</td>\n",
       "      <td>Dealer</td>\n",
       "      <td>Manual</td>\n",
       "      <td>0</td>\n",
       "    </tr>\n",
       "  </tbody>\n",
       "</table>\n",
       "</div>"
      ],
      "text/plain": [
       "  Car_Name  Year  Selling_Price  Present_Price  Kms_Driven Fuel_Type  \\\n",
       "0     ritz  2014           3.35           5.59       27000    Petrol   \n",
       "1      sx4  2013           4.75           9.54       43000    Diesel   \n",
       "2     ciaz  2017           7.25           9.85        6900    Petrol   \n",
       "3  wagon r  2011           2.85           4.15        5200    Petrol   \n",
       "4    swift  2014           4.60           6.87       42450    Diesel   \n",
       "\n",
       "  Seller_Type Transmission  Owner  \n",
       "0      Dealer       Manual      0  \n",
       "1      Dealer       Manual      0  \n",
       "2      Dealer       Manual      0  \n",
       "3      Dealer       Manual      0  \n",
       "4      Dealer       Manual      0  "
      ]
     },
     "execution_count": 3,
     "metadata": {},
     "output_type": "execute_result"
    }
   ],
   "source": [
    "# Checking the first 5 rows of the dataset\n",
    "car_dataset.head()"
   ]
  },
  {
   "cell_type": "code",
   "execution_count": 4,
   "id": "96e2b885",
   "metadata": {
    "execution": {
     "iopub.execute_input": "2022-12-19T19:08:29.233063Z",
     "iopub.status.busy": "2022-12-19T19:08:29.232644Z",
     "iopub.status.idle": "2022-12-19T19:08:29.240835Z",
     "shell.execute_reply": "2022-12-19T19:08:29.239310Z"
    },
    "papermill": {
     "duration": 0.018428,
     "end_time": "2022-12-19T19:08:29.243796",
     "exception": false,
     "start_time": "2022-12-19T19:08:29.225368",
     "status": "completed"
    },
    "tags": []
   },
   "outputs": [
    {
     "data": {
      "text/plain": [
       "(301, 9)"
      ]
     },
     "execution_count": 4,
     "metadata": {},
     "output_type": "execute_result"
    }
   ],
   "source": [
    "# Viewing the number of rows & columns\n",
    "car_dataset.shape"
   ]
  },
  {
   "cell_type": "code",
   "execution_count": 5,
   "id": "7a3fab13",
   "metadata": {
    "execution": {
     "iopub.execute_input": "2022-12-19T19:08:29.258743Z",
     "iopub.status.busy": "2022-12-19T19:08:29.258216Z",
     "iopub.status.idle": "2022-12-19T19:08:29.290570Z",
     "shell.execute_reply": "2022-12-19T19:08:29.289166Z"
    },
    "papermill": {
     "duration": 0.043165,
     "end_time": "2022-12-19T19:08:29.293500",
     "exception": false,
     "start_time": "2022-12-19T19:08:29.250335",
     "status": "completed"
    },
    "tags": []
   },
   "outputs": [
    {
     "name": "stdout",
     "output_type": "stream",
     "text": [
      "<class 'pandas.core.frame.DataFrame'>\n",
      "RangeIndex: 301 entries, 0 to 300\n",
      "Data columns (total 9 columns):\n",
      " #   Column         Non-Null Count  Dtype  \n",
      "---  ------         --------------  -----  \n",
      " 0   Car_Name       301 non-null    object \n",
      " 1   Year           301 non-null    int64  \n",
      " 2   Selling_Price  301 non-null    float64\n",
      " 3   Present_Price  301 non-null    float64\n",
      " 4   Kms_Driven     301 non-null    int64  \n",
      " 5   Fuel_Type      301 non-null    object \n",
      " 6   Seller_Type    301 non-null    object \n",
      " 7   Transmission   301 non-null    object \n",
      " 8   Owner          301 non-null    int64  \n",
      "dtypes: float64(2), int64(3), object(4)\n",
      "memory usage: 21.3+ KB\n"
     ]
    }
   ],
   "source": [
    "# Retrieving more info about the dataset\n",
    "car_dataset.info()"
   ]
  },
  {
   "cell_type": "code",
   "execution_count": 6,
   "id": "424678e7",
   "metadata": {
    "execution": {
     "iopub.execute_input": "2022-12-19T19:08:29.308807Z",
     "iopub.status.busy": "2022-12-19T19:08:29.308281Z",
     "iopub.status.idle": "2022-12-19T19:08:29.320302Z",
     "shell.execute_reply": "2022-12-19T19:08:29.318966Z"
    },
    "papermill": {
     "duration": 0.023363,
     "end_time": "2022-12-19T19:08:29.323298",
     "exception": false,
     "start_time": "2022-12-19T19:08:29.299935",
     "status": "completed"
    },
    "tags": []
   },
   "outputs": [
    {
     "data": {
      "text/plain": [
       "Car_Name         0\n",
       "Year             0\n",
       "Selling_Price    0\n",
       "Present_Price    0\n",
       "Kms_Driven       0\n",
       "Fuel_Type        0\n",
       "Seller_Type      0\n",
       "Transmission     0\n",
       "Owner            0\n",
       "dtype: int64"
      ]
     },
     "execution_count": 6,
     "metadata": {},
     "output_type": "execute_result"
    }
   ],
   "source": [
    "# Check to see if we have missing values (Null values)\n",
    "car_dataset.isnull().sum()"
   ]
  },
  {
   "cell_type": "code",
   "execution_count": 7,
   "id": "9f9dae02",
   "metadata": {
    "execution": {
     "iopub.execute_input": "2022-12-19T19:08:29.337951Z",
     "iopub.status.busy": "2022-12-19T19:08:29.337400Z",
     "iopub.status.idle": "2022-12-19T19:08:29.349278Z",
     "shell.execute_reply": "2022-12-19T19:08:29.347924Z"
    },
    "papermill": {
     "duration": 0.023617,
     "end_time": "2022-12-19T19:08:29.353154",
     "exception": false,
     "start_time": "2022-12-19T19:08:29.329537",
     "status": "completed"
    },
    "tags": []
   },
   "outputs": [
    {
     "name": "stdout",
     "output_type": "stream",
     "text": [
      "Petrol    239\n",
      "Diesel     60\n",
      "CNG         2\n",
      "Name: Fuel_Type, dtype: int64\n",
      "Dealer        195\n",
      "Individual    106\n",
      "Name: Seller_Type, dtype: int64\n",
      "Manual       261\n",
      "Automatic     40\n",
      "Name: Transmission, dtype: int64\n"
     ]
    }
   ],
   "source": [
    "# Seeing the distribution of categorical data \n",
    "print(car_dataset.Fuel_Type.value_counts())\n",
    "print(car_dataset.Seller_Type.value_counts())\n",
    "print(car_dataset.Transmission.value_counts())"
   ]
  },
  {
   "cell_type": "markdown",
   "id": "4d530a01",
   "metadata": {
    "papermill": {
     "duration": 0.005881,
     "end_time": "2022-12-19T19:08:29.366258",
     "exception": false,
     "start_time": "2022-12-19T19:08:29.360377",
     "status": "completed"
    },
    "tags": []
   },
   "source": [
    "**Encoding the categorical data**"
   ]
  },
  {
   "cell_type": "code",
   "execution_count": 8,
   "id": "26b876b3",
   "metadata": {
    "execution": {
     "iopub.execute_input": "2022-12-19T19:08:29.383424Z",
     "iopub.status.busy": "2022-12-19T19:08:29.381996Z",
     "iopub.status.idle": "2022-12-19T19:08:29.396979Z",
     "shell.execute_reply": "2022-12-19T19:08:29.395630Z"
    },
    "papermill": {
     "duration": 0.02535,
     "end_time": "2022-12-19T19:08:29.399782",
     "exception": false,
     "start_time": "2022-12-19T19:08:29.374432",
     "status": "completed"
    },
    "tags": []
   },
   "outputs": [],
   "source": [
    " # Encoding the categorical data for fuel type column\n",
    "car_dataset.replace({'Fuel_Type':{'Petrol':0, 'Diesel':1, 'CNG':2, }},inplace=True)\n",
    "\n",
    " # Encoding the categorical data for seller type column\n",
    "car_dataset.replace({'Seller_Type':{'Dealer':0, 'Individual':1}},inplace=True)\n",
    "\n",
    " # Encoding the categorical data for transmission column\n",
    "car_dataset.replace({'Transmission':{'Manual':0, 'Automatic':1}},inplace=True)"
   ]
  },
  {
   "cell_type": "code",
   "execution_count": 9,
   "id": "8a8b02cc",
   "metadata": {
    "execution": {
     "iopub.execute_input": "2022-12-19T19:08:29.415528Z",
     "iopub.status.busy": "2022-12-19T19:08:29.414050Z",
     "iopub.status.idle": "2022-12-19T19:08:29.430137Z",
     "shell.execute_reply": "2022-12-19T19:08:29.428870Z"
    },
    "papermill": {
     "duration": 0.026197,
     "end_time": "2022-12-19T19:08:29.432617",
     "exception": false,
     "start_time": "2022-12-19T19:08:29.406420",
     "status": "completed"
    },
    "tags": []
   },
   "outputs": [
    {
     "data": {
      "text/html": [
       "<div>\n",
       "<style scoped>\n",
       "    .dataframe tbody tr th:only-of-type {\n",
       "        vertical-align: middle;\n",
       "    }\n",
       "\n",
       "    .dataframe tbody tr th {\n",
       "        vertical-align: top;\n",
       "    }\n",
       "\n",
       "    .dataframe thead th {\n",
       "        text-align: right;\n",
       "    }\n",
       "</style>\n",
       "<table border=\"1\" class=\"dataframe\">\n",
       "  <thead>\n",
       "    <tr style=\"text-align: right;\">\n",
       "      <th></th>\n",
       "      <th>Car_Name</th>\n",
       "      <th>Year</th>\n",
       "      <th>Selling_Price</th>\n",
       "      <th>Present_Price</th>\n",
       "      <th>Kms_Driven</th>\n",
       "      <th>Fuel_Type</th>\n",
       "      <th>Seller_Type</th>\n",
       "      <th>Transmission</th>\n",
       "      <th>Owner</th>\n",
       "    </tr>\n",
       "  </thead>\n",
       "  <tbody>\n",
       "    <tr>\n",
       "      <th>0</th>\n",
       "      <td>ritz</td>\n",
       "      <td>2014</td>\n",
       "      <td>3.35</td>\n",
       "      <td>5.59</td>\n",
       "      <td>27000</td>\n",
       "      <td>0</td>\n",
       "      <td>0</td>\n",
       "      <td>0</td>\n",
       "      <td>0</td>\n",
       "    </tr>\n",
       "    <tr>\n",
       "      <th>1</th>\n",
       "      <td>sx4</td>\n",
       "      <td>2013</td>\n",
       "      <td>4.75</td>\n",
       "      <td>9.54</td>\n",
       "      <td>43000</td>\n",
       "      <td>1</td>\n",
       "      <td>0</td>\n",
       "      <td>0</td>\n",
       "      <td>0</td>\n",
       "    </tr>\n",
       "    <tr>\n",
       "      <th>2</th>\n",
       "      <td>ciaz</td>\n",
       "      <td>2017</td>\n",
       "      <td>7.25</td>\n",
       "      <td>9.85</td>\n",
       "      <td>6900</td>\n",
       "      <td>0</td>\n",
       "      <td>0</td>\n",
       "      <td>0</td>\n",
       "      <td>0</td>\n",
       "    </tr>\n",
       "    <tr>\n",
       "      <th>3</th>\n",
       "      <td>wagon r</td>\n",
       "      <td>2011</td>\n",
       "      <td>2.85</td>\n",
       "      <td>4.15</td>\n",
       "      <td>5200</td>\n",
       "      <td>0</td>\n",
       "      <td>0</td>\n",
       "      <td>0</td>\n",
       "      <td>0</td>\n",
       "    </tr>\n",
       "    <tr>\n",
       "      <th>4</th>\n",
       "      <td>swift</td>\n",
       "      <td>2014</td>\n",
       "      <td>4.60</td>\n",
       "      <td>6.87</td>\n",
       "      <td>42450</td>\n",
       "      <td>1</td>\n",
       "      <td>0</td>\n",
       "      <td>0</td>\n",
       "      <td>0</td>\n",
       "    </tr>\n",
       "  </tbody>\n",
       "</table>\n",
       "</div>"
      ],
      "text/plain": [
       "  Car_Name  Year  Selling_Price  Present_Price  Kms_Driven  Fuel_Type  \\\n",
       "0     ritz  2014           3.35           5.59       27000          0   \n",
       "1      sx4  2013           4.75           9.54       43000          1   \n",
       "2     ciaz  2017           7.25           9.85        6900          0   \n",
       "3  wagon r  2011           2.85           4.15        5200          0   \n",
       "4    swift  2014           4.60           6.87       42450          1   \n",
       "\n",
       "   Seller_Type  Transmission  Owner  \n",
       "0            0             0      0  \n",
       "1            0             0      0  \n",
       "2            0             0      0  \n",
       "3            0             0      0  \n",
       "4            0             0      0  "
      ]
     },
     "execution_count": 9,
     "metadata": {},
     "output_type": "execute_result"
    }
   ],
   "source": [
    "# Checking if the encoding was done correctly \n",
    "car_dataset.head()"
   ]
  },
  {
   "cell_type": "code",
   "execution_count": 10,
   "id": "6cb00b42",
   "metadata": {
    "execution": {
     "iopub.execute_input": "2022-12-19T19:08:29.447294Z",
     "iopub.status.busy": "2022-12-19T19:08:29.446817Z",
     "iopub.status.idle": "2022-12-19T19:08:29.455903Z",
     "shell.execute_reply": "2022-12-19T19:08:29.454239Z"
    },
    "papermill": {
     "duration": 0.019723,
     "end_time": "2022-12-19T19:08:29.458739",
     "exception": false,
     "start_time": "2022-12-19T19:08:29.439016",
     "status": "completed"
    },
    "tags": []
   },
   "outputs": [],
   "source": [
    "# Splitting the data into X & Y (Independant & dependant variable)\n",
    "X = car_dataset.drop(['Car_Name','Selling_Price'], axis=1)\n",
    "Y = car_dataset['Selling_Price']"
   ]
  },
  {
   "cell_type": "code",
   "execution_count": 11,
   "id": "8a7012a3",
   "metadata": {
    "execution": {
     "iopub.execute_input": "2022-12-19T19:08:29.473769Z",
     "iopub.status.busy": "2022-12-19T19:08:29.473340Z",
     "iopub.status.idle": "2022-12-19T19:08:29.488680Z",
     "shell.execute_reply": "2022-12-19T19:08:29.487233Z"
    },
    "papermill": {
     "duration": 0.026066,
     "end_time": "2022-12-19T19:08:29.491503",
     "exception": false,
     "start_time": "2022-12-19T19:08:29.465437",
     "status": "completed"
    },
    "tags": []
   },
   "outputs": [
    {
     "data": {
      "text/html": [
       "<div>\n",
       "<style scoped>\n",
       "    .dataframe tbody tr th:only-of-type {\n",
       "        vertical-align: middle;\n",
       "    }\n",
       "\n",
       "    .dataframe tbody tr th {\n",
       "        vertical-align: top;\n",
       "    }\n",
       "\n",
       "    .dataframe thead th {\n",
       "        text-align: right;\n",
       "    }\n",
       "</style>\n",
       "<table border=\"1\" class=\"dataframe\">\n",
       "  <thead>\n",
       "    <tr style=\"text-align: right;\">\n",
       "      <th></th>\n",
       "      <th>Year</th>\n",
       "      <th>Present_Price</th>\n",
       "      <th>Kms_Driven</th>\n",
       "      <th>Fuel_Type</th>\n",
       "      <th>Seller_Type</th>\n",
       "      <th>Transmission</th>\n",
       "      <th>Owner</th>\n",
       "    </tr>\n",
       "  </thead>\n",
       "  <tbody>\n",
       "    <tr>\n",
       "      <th>0</th>\n",
       "      <td>2014</td>\n",
       "      <td>5.59</td>\n",
       "      <td>27000</td>\n",
       "      <td>0</td>\n",
       "      <td>0</td>\n",
       "      <td>0</td>\n",
       "      <td>0</td>\n",
       "    </tr>\n",
       "    <tr>\n",
       "      <th>1</th>\n",
       "      <td>2013</td>\n",
       "      <td>9.54</td>\n",
       "      <td>43000</td>\n",
       "      <td>1</td>\n",
       "      <td>0</td>\n",
       "      <td>0</td>\n",
       "      <td>0</td>\n",
       "    </tr>\n",
       "    <tr>\n",
       "      <th>2</th>\n",
       "      <td>2017</td>\n",
       "      <td>9.85</td>\n",
       "      <td>6900</td>\n",
       "      <td>0</td>\n",
       "      <td>0</td>\n",
       "      <td>0</td>\n",
       "      <td>0</td>\n",
       "    </tr>\n",
       "    <tr>\n",
       "      <th>3</th>\n",
       "      <td>2011</td>\n",
       "      <td>4.15</td>\n",
       "      <td>5200</td>\n",
       "      <td>0</td>\n",
       "      <td>0</td>\n",
       "      <td>0</td>\n",
       "      <td>0</td>\n",
       "    </tr>\n",
       "    <tr>\n",
       "      <th>4</th>\n",
       "      <td>2014</td>\n",
       "      <td>6.87</td>\n",
       "      <td>42450</td>\n",
       "      <td>1</td>\n",
       "      <td>0</td>\n",
       "      <td>0</td>\n",
       "      <td>0</td>\n",
       "    </tr>\n",
       "  </tbody>\n",
       "</table>\n",
       "</div>"
      ],
      "text/plain": [
       "   Year  Present_Price  Kms_Driven  Fuel_Type  Seller_Type  Transmission  \\\n",
       "0  2014           5.59       27000          0            0             0   \n",
       "1  2013           9.54       43000          1            0             0   \n",
       "2  2017           9.85        6900          0            0             0   \n",
       "3  2011           4.15        5200          0            0             0   \n",
       "4  2014           6.87       42450          1            0             0   \n",
       "\n",
       "   Owner  \n",
       "0      0  \n",
       "1      0  \n",
       "2      0  \n",
       "3      0  \n",
       "4      0  "
      ]
     },
     "execution_count": 11,
     "metadata": {},
     "output_type": "execute_result"
    }
   ],
   "source": [
    "# Viewing the split data (independant & dependant variables)\n",
    "X.head()"
   ]
  },
  {
   "cell_type": "code",
   "execution_count": 12,
   "id": "8057ca5a",
   "metadata": {
    "execution": {
     "iopub.execute_input": "2022-12-19T19:08:29.507308Z",
     "iopub.status.busy": "2022-12-19T19:08:29.506856Z",
     "iopub.status.idle": "2022-12-19T19:08:29.515057Z",
     "shell.execute_reply": "2022-12-19T19:08:29.513637Z"
    },
    "papermill": {
     "duration": 0.019318,
     "end_time": "2022-12-19T19:08:29.517961",
     "exception": false,
     "start_time": "2022-12-19T19:08:29.498643",
     "status": "completed"
    },
    "tags": []
   },
   "outputs": [
    {
     "name": "stdout",
     "output_type": "stream",
     "text": [
      "0       3.35\n",
      "1       4.75\n",
      "2       7.25\n",
      "3       2.85\n",
      "4       4.60\n",
      "       ...  \n",
      "296     9.50\n",
      "297     4.00\n",
      "298     3.35\n",
      "299    11.50\n",
      "300     5.30\n",
      "Name: Selling_Price, Length: 301, dtype: float64\n"
     ]
    }
   ],
   "source": [
    "# We can use either head or print to view the data\n",
    "print(Y)"
   ]
  },
  {
   "cell_type": "code",
   "execution_count": 13,
   "id": "542eb568",
   "metadata": {
    "execution": {
     "iopub.execute_input": "2022-12-19T19:08:29.533427Z",
     "iopub.status.busy": "2022-12-19T19:08:29.532943Z",
     "iopub.status.idle": "2022-12-19T19:08:29.540404Z",
     "shell.execute_reply": "2022-12-19T19:08:29.539072Z"
    },
    "papermill": {
     "duration": 0.018766,
     "end_time": "2022-12-19T19:08:29.543559",
     "exception": false,
     "start_time": "2022-12-19T19:08:29.524793",
     "status": "completed"
    },
    "tags": []
   },
   "outputs": [],
   "source": [
    "# Splitting the data intro training and test data\n",
    "X_train, X_test, Y_train, Y_test = train_test_split(X, Y, test_size = 0.05)\n"
   ]
  },
  {
   "cell_type": "markdown",
   "id": "2f5a18c3",
   "metadata": {
    "papermill": {
     "duration": 0.006298,
     "end_time": "2022-12-19T19:08:29.556885",
     "exception": false,
     "start_time": "2022-12-19T19:08:29.550587",
     "status": "completed"
    },
    "tags": []
   },
   "source": [
    "Model Training"
   ]
  },
  {
   "cell_type": "code",
   "execution_count": 14,
   "id": "95dc982a",
   "metadata": {
    "execution": {
     "iopub.execute_input": "2022-12-19T19:08:29.572241Z",
     "iopub.status.busy": "2022-12-19T19:08:29.571782Z",
     "iopub.status.idle": "2022-12-19T19:08:29.577515Z",
     "shell.execute_reply": "2022-12-19T19:08:29.575914Z"
    },
    "papermill": {
     "duration": 0.016652,
     "end_time": "2022-12-19T19:08:29.580249",
     "exception": false,
     "start_time": "2022-12-19T19:08:29.563597",
     "status": "completed"
    },
    "tags": []
   },
   "outputs": [],
   "source": [
    "# Loading the Linear Regression Model \n",
    "lin_reg_model = LinearRegression()"
   ]
  },
  {
   "cell_type": "code",
   "execution_count": 15,
   "id": "b2888c13",
   "metadata": {
    "execution": {
     "iopub.execute_input": "2022-12-19T19:08:29.597028Z",
     "iopub.status.busy": "2022-12-19T19:08:29.596316Z",
     "iopub.status.idle": "2022-12-19T19:08:29.630467Z",
     "shell.execute_reply": "2022-12-19T19:08:29.629435Z"
    },
    "papermill": {
     "duration": 0.04735,
     "end_time": "2022-12-19T19:08:29.634667",
     "exception": false,
     "start_time": "2022-12-19T19:08:29.587317",
     "status": "completed"
    },
    "tags": []
   },
   "outputs": [
    {
     "data": {
      "text/plain": [
       "LinearRegression()"
      ]
     },
     "execution_count": 15,
     "metadata": {},
     "output_type": "execute_result"
    }
   ],
   "source": [
    "lin_reg_model.fit(X_train, Y_train)"
   ]
  },
  {
   "cell_type": "markdown",
   "id": "5bd21ec4",
   "metadata": {
    "papermill": {
     "duration": 0.006972,
     "end_time": "2022-12-19T19:08:29.648703",
     "exception": false,
     "start_time": "2022-12-19T19:08:29.641731",
     "status": "completed"
    },
    "tags": []
   },
   "source": [
    "**Linear Regression Model Evaluation**"
   ]
  },
  {
   "cell_type": "code",
   "execution_count": 16,
   "id": "dc44514e",
   "metadata": {
    "execution": {
     "iopub.execute_input": "2022-12-19T19:08:29.673611Z",
     "iopub.status.busy": "2022-12-19T19:08:29.672333Z",
     "iopub.status.idle": "2022-12-19T19:08:29.683893Z",
     "shell.execute_reply": "2022-12-19T19:08:29.682448Z"
    },
    "papermill": {
     "duration": 0.029081,
     "end_time": "2022-12-19T19:08:29.689507",
     "exception": false,
     "start_time": "2022-12-19T19:08:29.660426",
     "status": "completed"
    },
    "tags": []
   },
   "outputs": [],
   "source": [
    "# Predicitions\n",
    "training_data_prediction = lin_reg_model.predict(X_train)"
   ]
  },
  {
   "cell_type": "code",
   "execution_count": 17,
   "id": "cb17bbb6",
   "metadata": {
    "execution": {
     "iopub.execute_input": "2022-12-19T19:08:29.710537Z",
     "iopub.status.busy": "2022-12-19T19:08:29.709582Z",
     "iopub.status.idle": "2022-12-19T19:08:29.719978Z",
     "shell.execute_reply": "2022-12-19T19:08:29.717919Z"
    },
    "papermill": {
     "duration": 0.026936,
     "end_time": "2022-12-19T19:08:29.724031",
     "exception": false,
     "start_time": "2022-12-19T19:08:29.697095",
     "status": "completed"
    },
    "tags": []
   },
   "outputs": [
    {
     "name": "stdout",
     "output_type": "stream",
     "text": [
      "R Scored Error:  0.875216126903834\n"
     ]
    }
   ],
   "source": [
    "# Testing our model (R Squared Error)\n",
    "error_score = metrics.r2_score(Y_train, training_data_prediction)\n",
    "print(\"R Scored Error: \", error_score)"
   ]
  }
 ],
 "metadata": {
  "kernelspec": {
   "display_name": "Python 3",
   "language": "python",
   "name": "python3"
  },
  "language_info": {
   "codemirror_mode": {
    "name": "ipython",
    "version": 3
   },
   "file_extension": ".py",
   "mimetype": "text/x-python",
   "name": "python",
   "nbconvert_exporter": "python",
   "pygments_lexer": "ipython3",
   "version": "3.7.12"
  },
  "papermill": {
   "default_parameters": {},
   "duration": 12.958433,
   "end_time": "2022-12-19T19:08:30.657839",
   "environment_variables": {},
   "exception": null,
   "input_path": "__notebook__.ipynb",
   "output_path": "__notebook__.ipynb",
   "parameters": {},
   "start_time": "2022-12-19T19:08:17.699406",
   "version": "2.3.4"
  }
 },
 "nbformat": 4,
 "nbformat_minor": 5
}
