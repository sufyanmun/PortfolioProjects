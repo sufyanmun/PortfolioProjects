{
 "cells": [
  {
   "cell_type": "code",
   "execution_count": 1,
   "id": "eb4498a7",
   "metadata": {
    "_cell_guid": "b1076dfc-b9ad-4769-8c92-a6c4dae69d19",
    "_uuid": "8f2839f25d086af736a60e9eeb907d3b93b6e0e5",
    "execution": {
     "iopub.execute_input": "2022-12-19T19:11:16.753245Z",
     "iopub.status.busy": "2022-12-19T19:11:16.752789Z",
     "iopub.status.idle": "2022-12-19T19:11:18.040655Z",
     "shell.execute_reply": "2022-12-19T19:11:18.039413Z"
    },
    "papermill": {
     "duration": 1.299536,
     "end_time": "2022-12-19T19:11:18.044045",
     "exception": false,
     "start_time": "2022-12-19T19:11:16.744509",
     "status": "completed"
    },
    "tags": []
   },
   "outputs": [],
   "source": [
    "# Importing the libaries & dependencies \n",
    "import pandas as pd\n",
    "import matplotlib.pyplot as plt\n",
    "import seaborn as sns\n",
    "from sklearn.model_selection import train_test_split\n",
    "from sklearn.linear_model import LinearRegression\n",
    "from sklearn.linear_model import Lasso\n",
    "from sklearn import metrics "
   ]
  },
  {
   "cell_type": "code",
   "execution_count": 2,
   "id": "018404dd",
   "metadata": {
    "execution": {
     "iopub.execute_input": "2022-12-19T19:11:18.055752Z",
     "iopub.status.busy": "2022-12-19T19:11:18.055352Z",
     "iopub.status.idle": "2022-12-19T19:11:18.078499Z",
     "shell.execute_reply": "2022-12-19T19:11:18.077541Z"
    },
    "papermill": {
     "duration": 0.032016,
     "end_time": "2022-12-19T19:11:18.081301",
     "exception": false,
     "start_time": "2022-12-19T19:11:18.049285",
     "status": "completed"
    },
    "tags": []
   },
   "outputs": [],
   "source": [
    "# Adding the data (Data Collection & Processing)\n",
    "car_dataset = pd.read_csv('/kaggle/input/vehicle-dataset-from-cardekho/car data.csv')\n"
   ]
  },
  {
   "cell_type": "code",
   "execution_count": 3,
   "id": "4ec8b61f",
   "metadata": {
    "execution": {
     "iopub.execute_input": "2022-12-19T19:11:18.093252Z",
     "iopub.status.busy": "2022-12-19T19:11:18.092847Z",
     "iopub.status.idle": "2022-12-19T19:11:18.114757Z",
     "shell.execute_reply": "2022-12-19T19:11:18.113975Z"
    },
    "papermill": {
     "duration": 0.031221,
     "end_time": "2022-12-19T19:11:18.117695",
     "exception": false,
     "start_time": "2022-12-19T19:11:18.086474",
     "status": "completed"
    },
    "tags": []
   },
   "outputs": [
    {
     "data": {
      "text/html": [
       "<div>\n",
       "<style scoped>\n",
       "    .dataframe tbody tr th:only-of-type {\n",
       "        vertical-align: middle;\n",
       "    }\n",
       "\n",
       "    .dataframe tbody tr th {\n",
       "        vertical-align: top;\n",
       "    }\n",
       "\n",
       "    .dataframe thead th {\n",
       "        text-align: right;\n",
       "    }\n",
       "</style>\n",
       "<table border=\"1\" class=\"dataframe\">\n",
       "  <thead>\n",
       "    <tr style=\"text-align: right;\">\n",
       "      <th></th>\n",
       "      <th>Car_Name</th>\n",
       "      <th>Year</th>\n",
       "      <th>Selling_Price</th>\n",
       "      <th>Present_Price</th>\n",
       "      <th>Kms_Driven</th>\n",
       "      <th>Fuel_Type</th>\n",
       "      <th>Seller_Type</th>\n",
       "      <th>Transmission</th>\n",
       "      <th>Owner</th>\n",
       "    </tr>\n",
       "  </thead>\n",
       "  <tbody>\n",
       "    <tr>\n",
       "      <th>0</th>\n",
       "      <td>ritz</td>\n",
       "      <td>2014</td>\n",
       "      <td>3.35</td>\n",
       "      <td>5.59</td>\n",
       "      <td>27000</td>\n",
       "      <td>Petrol</td>\n",
       "      <td>Dealer</td>\n",
       "      <td>Manual</td>\n",
       "      <td>0</td>\n",
       "    </tr>\n",
       "    <tr>\n",
       "      <th>1</th>\n",
       "      <td>sx4</td>\n",
       "      <td>2013</td>\n",
       "      <td>4.75</td>\n",
       "      <td>9.54</td>\n",
       "      <td>43000</td>\n",
       "      <td>Diesel</td>\n",
       "      <td>Dealer</td>\n",
       "      <td>Manual</td>\n",
       "      <td>0</td>\n",
       "    </tr>\n",
       "    <tr>\n",
       "      <th>2</th>\n",
       "      <td>ciaz</td>\n",
       "      <td>2017</td>\n",
       "      <td>7.25</td>\n",
       "      <td>9.85</td>\n",
       "      <td>6900</td>\n",
       "      <td>Petrol</td>\n",
       "      <td>Dealer</td>\n",
       "      <td>Manual</td>\n",
       "      <td>0</td>\n",
       "    </tr>\n",
       "    <tr>\n",
       "      <th>3</th>\n",
       "      <td>wagon r</td>\n",
       "      <td>2011</td>\n",
       "      <td>2.85</td>\n",
       "      <td>4.15</td>\n",
       "      <td>5200</td>\n",
       "      <td>Petrol</td>\n",
       "      <td>Dealer</td>\n",
       "      <td>Manual</td>\n",
       "      <td>0</td>\n",
       "    </tr>\n",
       "    <tr>\n",
       "      <th>4</th>\n",
       "      <td>swift</td>\n",
       "      <td>2014</td>\n",
       "      <td>4.60</td>\n",
       "      <td>6.87</td>\n",
       "      <td>42450</td>\n",
       "      <td>Diesel</td>\n",
       "      <td>Dealer</td>\n",
       "      <td>Manual</td>\n",
       "      <td>0</td>\n",
       "    </tr>\n",
       "  </tbody>\n",
       "</table>\n",
       "</div>"
      ],
      "text/plain": [
       "  Car_Name  Year  Selling_Price  Present_Price  Kms_Driven Fuel_Type  \\\n",
       "0     ritz  2014           3.35           5.59       27000    Petrol   \n",
       "1      sx4  2013           4.75           9.54       43000    Diesel   \n",
       "2     ciaz  2017           7.25           9.85        6900    Petrol   \n",
       "3  wagon r  2011           2.85           4.15        5200    Petrol   \n",
       "4    swift  2014           4.60           6.87       42450    Diesel   \n",
       "\n",
       "  Seller_Type Transmission  Owner  \n",
       "0      Dealer       Manual      0  \n",
       "1      Dealer       Manual      0  \n",
       "2      Dealer       Manual      0  \n",
       "3      Dealer       Manual      0  \n",
       "4      Dealer       Manual      0  "
      ]
     },
     "execution_count": 3,
     "metadata": {},
     "output_type": "execute_result"
    }
   ],
   "source": [
    "# Checking the first 5 rows of the dataset\n",
    "car_dataset.head()"
   ]
  },
  {
   "cell_type": "code",
   "execution_count": 4,
   "id": "4e445fb7",
   "metadata": {
    "execution": {
     "iopub.execute_input": "2022-12-19T19:11:18.130441Z",
     "iopub.status.busy": "2022-12-19T19:11:18.130018Z",
     "iopub.status.idle": "2022-12-19T19:11:18.136433Z",
     "shell.execute_reply": "2022-12-19T19:11:18.135389Z"
    },
    "papermill": {
     "duration": 0.015608,
     "end_time": "2022-12-19T19:11:18.138652",
     "exception": false,
     "start_time": "2022-12-19T19:11:18.123044",
     "status": "completed"
    },
    "tags": []
   },
   "outputs": [
    {
     "data": {
      "text/plain": [
       "(301, 9)"
      ]
     },
     "execution_count": 4,
     "metadata": {},
     "output_type": "execute_result"
    }
   ],
   "source": [
    "# Viewing the number of rows & columns\n",
    "car_dataset.shape"
   ]
  },
  {
   "cell_type": "code",
   "execution_count": 5,
   "id": "199b953b",
   "metadata": {
    "execution": {
     "iopub.execute_input": "2022-12-19T19:11:18.151497Z",
     "iopub.status.busy": "2022-12-19T19:11:18.151070Z",
     "iopub.status.idle": "2022-12-19T19:11:18.175126Z",
     "shell.execute_reply": "2022-12-19T19:11:18.173139Z"
    },
    "papermill": {
     "duration": 0.034578,
     "end_time": "2022-12-19T19:11:18.178611",
     "exception": false,
     "start_time": "2022-12-19T19:11:18.144033",
     "status": "completed"
    },
    "tags": []
   },
   "outputs": [
    {
     "name": "stdout",
     "output_type": "stream",
     "text": [
      "<class 'pandas.core.frame.DataFrame'>\n",
      "RangeIndex: 301 entries, 0 to 300\n",
      "Data columns (total 9 columns):\n",
      " #   Column         Non-Null Count  Dtype  \n",
      "---  ------         --------------  -----  \n",
      " 0   Car_Name       301 non-null    object \n",
      " 1   Year           301 non-null    int64  \n",
      " 2   Selling_Price  301 non-null    float64\n",
      " 3   Present_Price  301 non-null    float64\n",
      " 4   Kms_Driven     301 non-null    int64  \n",
      " 5   Fuel_Type      301 non-null    object \n",
      " 6   Seller_Type    301 non-null    object \n",
      " 7   Transmission   301 non-null    object \n",
      " 8   Owner          301 non-null    int64  \n",
      "dtypes: float64(2), int64(3), object(4)\n",
      "memory usage: 21.3+ KB\n"
     ]
    }
   ],
   "source": [
    "# Retrieving more info about the dataset\n",
    "car_dataset.info()"
   ]
  },
  {
   "cell_type": "code",
   "execution_count": 6,
   "id": "aa381ef2",
   "metadata": {
    "execution": {
     "iopub.execute_input": "2022-12-19T19:11:18.191881Z",
     "iopub.status.busy": "2022-12-19T19:11:18.191207Z",
     "iopub.status.idle": "2022-12-19T19:11:18.200288Z",
     "shell.execute_reply": "2022-12-19T19:11:18.199496Z"
    },
    "papermill": {
     "duration": 0.018114,
     "end_time": "2022-12-19T19:11:18.202476",
     "exception": false,
     "start_time": "2022-12-19T19:11:18.184362",
     "status": "completed"
    },
    "tags": []
   },
   "outputs": [
    {
     "data": {
      "text/plain": [
       "Car_Name         0\n",
       "Year             0\n",
       "Selling_Price    0\n",
       "Present_Price    0\n",
       "Kms_Driven       0\n",
       "Fuel_Type        0\n",
       "Seller_Type      0\n",
       "Transmission     0\n",
       "Owner            0\n",
       "dtype: int64"
      ]
     },
     "execution_count": 6,
     "metadata": {},
     "output_type": "execute_result"
    }
   ],
   "source": [
    "# Check to see if we have missing values (Null values)\n",
    "car_dataset.isnull().sum()"
   ]
  },
  {
   "cell_type": "code",
   "execution_count": 7,
   "id": "88de2f50",
   "metadata": {
    "execution": {
     "iopub.execute_input": "2022-12-19T19:11:18.215680Z",
     "iopub.status.busy": "2022-12-19T19:11:18.214952Z",
     "iopub.status.idle": "2022-12-19T19:11:18.224174Z",
     "shell.execute_reply": "2022-12-19T19:11:18.222891Z"
    },
    "papermill": {
     "duration": 0.019233,
     "end_time": "2022-12-19T19:11:18.227233",
     "exception": false,
     "start_time": "2022-12-19T19:11:18.208000",
     "status": "completed"
    },
    "tags": []
   },
   "outputs": [
    {
     "name": "stdout",
     "output_type": "stream",
     "text": [
      "Petrol    239\n",
      "Diesel     60\n",
      "CNG         2\n",
      "Name: Fuel_Type, dtype: int64\n",
      "Dealer        195\n",
      "Individual    106\n",
      "Name: Seller_Type, dtype: int64\n",
      "Manual       261\n",
      "Automatic     40\n",
      "Name: Transmission, dtype: int64\n"
     ]
    }
   ],
   "source": [
    "# Seeing the distribution of categorical data \n",
    "print(car_dataset.Fuel_Type.value_counts())\n",
    "print(car_dataset.Seller_Type.value_counts())\n",
    "print(car_dataset.Transmission.value_counts())"
   ]
  },
  {
   "cell_type": "markdown",
   "id": "fc18b69e",
   "metadata": {
    "papermill": {
     "duration": 0.005385,
     "end_time": "2022-12-19T19:11:18.238499",
     "exception": false,
     "start_time": "2022-12-19T19:11:18.233114",
     "status": "completed"
    },
    "tags": []
   },
   "source": [
    "**Encoding the categorical data**"
   ]
  },
  {
   "cell_type": "code",
   "execution_count": 8,
   "id": "ffc50212",
   "metadata": {
    "execution": {
     "iopub.execute_input": "2022-12-19T19:11:18.251767Z",
     "iopub.status.busy": "2022-12-19T19:11:18.251355Z",
     "iopub.status.idle": "2022-12-19T19:11:18.263868Z",
     "shell.execute_reply": "2022-12-19T19:11:18.262897Z"
    },
    "papermill": {
     "duration": 0.022126,
     "end_time": "2022-12-19T19:11:18.266326",
     "exception": false,
     "start_time": "2022-12-19T19:11:18.244200",
     "status": "completed"
    },
    "tags": []
   },
   "outputs": [],
   "source": [
    " # Encoding the categorical data for fuel type column\n",
    "car_dataset.replace({'Fuel_Type':{'Petrol':0, 'Diesel':1, 'CNG':2, }},inplace=True)\n",
    "\n",
    " # Encoding the categorical data for seller type column\n",
    "car_dataset.replace({'Seller_Type':{'Dealer':0, 'Individual':1}},inplace=True)\n",
    "\n",
    " # Encoding the categorical data for transmission column\n",
    "car_dataset.replace({'Transmission':{'Manual':0, 'Automatic':1}},inplace=True)"
   ]
  },
  {
   "cell_type": "code",
   "execution_count": 9,
   "id": "82aea41f",
   "metadata": {
    "execution": {
     "iopub.execute_input": "2022-12-19T19:11:18.281121Z",
     "iopub.status.busy": "2022-12-19T19:11:18.280736Z",
     "iopub.status.idle": "2022-12-19T19:11:18.294768Z",
     "shell.execute_reply": "2022-12-19T19:11:18.293582Z"
    },
    "papermill": {
     "duration": 0.023466,
     "end_time": "2022-12-19T19:11:18.297159",
     "exception": false,
     "start_time": "2022-12-19T19:11:18.273693",
     "status": "completed"
    },
    "tags": []
   },
   "outputs": [
    {
     "data": {
      "text/html": [
       "<div>\n",
       "<style scoped>\n",
       "    .dataframe tbody tr th:only-of-type {\n",
       "        vertical-align: middle;\n",
       "    }\n",
       "\n",
       "    .dataframe tbody tr th {\n",
       "        vertical-align: top;\n",
       "    }\n",
       "\n",
       "    .dataframe thead th {\n",
       "        text-align: right;\n",
       "    }\n",
       "</style>\n",
       "<table border=\"1\" class=\"dataframe\">\n",
       "  <thead>\n",
       "    <tr style=\"text-align: right;\">\n",
       "      <th></th>\n",
       "      <th>Car_Name</th>\n",
       "      <th>Year</th>\n",
       "      <th>Selling_Price</th>\n",
       "      <th>Present_Price</th>\n",
       "      <th>Kms_Driven</th>\n",
       "      <th>Fuel_Type</th>\n",
       "      <th>Seller_Type</th>\n",
       "      <th>Transmission</th>\n",
       "      <th>Owner</th>\n",
       "    </tr>\n",
       "  </thead>\n",
       "  <tbody>\n",
       "    <tr>\n",
       "      <th>0</th>\n",
       "      <td>ritz</td>\n",
       "      <td>2014</td>\n",
       "      <td>3.35</td>\n",
       "      <td>5.59</td>\n",
       "      <td>27000</td>\n",
       "      <td>0</td>\n",
       "      <td>0</td>\n",
       "      <td>0</td>\n",
       "      <td>0</td>\n",
       "    </tr>\n",
       "    <tr>\n",
       "      <th>1</th>\n",
       "      <td>sx4</td>\n",
       "      <td>2013</td>\n",
       "      <td>4.75</td>\n",
       "      <td>9.54</td>\n",
       "      <td>43000</td>\n",
       "      <td>1</td>\n",
       "      <td>0</td>\n",
       "      <td>0</td>\n",
       "      <td>0</td>\n",
       "    </tr>\n",
       "    <tr>\n",
       "      <th>2</th>\n",
       "      <td>ciaz</td>\n",
       "      <td>2017</td>\n",
       "      <td>7.25</td>\n",
       "      <td>9.85</td>\n",
       "      <td>6900</td>\n",
       "      <td>0</td>\n",
       "      <td>0</td>\n",
       "      <td>0</td>\n",
       "      <td>0</td>\n",
       "    </tr>\n",
       "    <tr>\n",
       "      <th>3</th>\n",
       "      <td>wagon r</td>\n",
       "      <td>2011</td>\n",
       "      <td>2.85</td>\n",
       "      <td>4.15</td>\n",
       "      <td>5200</td>\n",
       "      <td>0</td>\n",
       "      <td>0</td>\n",
       "      <td>0</td>\n",
       "      <td>0</td>\n",
       "    </tr>\n",
       "    <tr>\n",
       "      <th>4</th>\n",
       "      <td>swift</td>\n",
       "      <td>2014</td>\n",
       "      <td>4.60</td>\n",
       "      <td>6.87</td>\n",
       "      <td>42450</td>\n",
       "      <td>1</td>\n",
       "      <td>0</td>\n",
       "      <td>0</td>\n",
       "      <td>0</td>\n",
       "    </tr>\n",
       "  </tbody>\n",
       "</table>\n",
       "</div>"
      ],
      "text/plain": [
       "  Car_Name  Year  Selling_Price  Present_Price  Kms_Driven  Fuel_Type  \\\n",
       "0     ritz  2014           3.35           5.59       27000          0   \n",
       "1      sx4  2013           4.75           9.54       43000          1   \n",
       "2     ciaz  2017           7.25           9.85        6900          0   \n",
       "3  wagon r  2011           2.85           4.15        5200          0   \n",
       "4    swift  2014           4.60           6.87       42450          1   \n",
       "\n",
       "   Seller_Type  Transmission  Owner  \n",
       "0            0             0      0  \n",
       "1            0             0      0  \n",
       "2            0             0      0  \n",
       "3            0             0      0  \n",
       "4            0             0      0  "
      ]
     },
     "execution_count": 9,
     "metadata": {},
     "output_type": "execute_result"
    }
   ],
   "source": [
    "# Checking if the encoding was done correctly \n",
    "car_dataset.head()"
   ]
  },
  {
   "cell_type": "code",
   "execution_count": 10,
   "id": "d5498401",
   "metadata": {
    "execution": {
     "iopub.execute_input": "2022-12-19T19:11:18.310564Z",
     "iopub.status.busy": "2022-12-19T19:11:18.310140Z",
     "iopub.status.idle": "2022-12-19T19:11:18.319005Z",
     "shell.execute_reply": "2022-12-19T19:11:18.317633Z"
    },
    "papermill": {
     "duration": 0.019303,
     "end_time": "2022-12-19T19:11:18.322223",
     "exception": false,
     "start_time": "2022-12-19T19:11:18.302920",
     "status": "completed"
    },
    "tags": []
   },
   "outputs": [],
   "source": [
    "# Splitting the data into X & Y (Independant & dependant variable)\n",
    "X = car_dataset.drop(['Car_Name','Selling_Price'], axis=1)\n",
    "Y = car_dataset['Selling_Price']"
   ]
  },
  {
   "cell_type": "code",
   "execution_count": 11,
   "id": "df992f08",
   "metadata": {
    "execution": {
     "iopub.execute_input": "2022-12-19T19:11:18.339681Z",
     "iopub.status.busy": "2022-12-19T19:11:18.338201Z",
     "iopub.status.idle": "2022-12-19T19:11:18.352821Z",
     "shell.execute_reply": "2022-12-19T19:11:18.351618Z"
    },
    "papermill": {
     "duration": 0.026809,
     "end_time": "2022-12-19T19:11:18.355488",
     "exception": false,
     "start_time": "2022-12-19T19:11:18.328679",
     "status": "completed"
    },
    "tags": []
   },
   "outputs": [
    {
     "data": {
      "text/html": [
       "<div>\n",
       "<style scoped>\n",
       "    .dataframe tbody tr th:only-of-type {\n",
       "        vertical-align: middle;\n",
       "    }\n",
       "\n",
       "    .dataframe tbody tr th {\n",
       "        vertical-align: top;\n",
       "    }\n",
       "\n",
       "    .dataframe thead th {\n",
       "        text-align: right;\n",
       "    }\n",
       "</style>\n",
       "<table border=\"1\" class=\"dataframe\">\n",
       "  <thead>\n",
       "    <tr style=\"text-align: right;\">\n",
       "      <th></th>\n",
       "      <th>Year</th>\n",
       "      <th>Present_Price</th>\n",
       "      <th>Kms_Driven</th>\n",
       "      <th>Fuel_Type</th>\n",
       "      <th>Seller_Type</th>\n",
       "      <th>Transmission</th>\n",
       "      <th>Owner</th>\n",
       "    </tr>\n",
       "  </thead>\n",
       "  <tbody>\n",
       "    <tr>\n",
       "      <th>0</th>\n",
       "      <td>2014</td>\n",
       "      <td>5.59</td>\n",
       "      <td>27000</td>\n",
       "      <td>0</td>\n",
       "      <td>0</td>\n",
       "      <td>0</td>\n",
       "      <td>0</td>\n",
       "    </tr>\n",
       "    <tr>\n",
       "      <th>1</th>\n",
       "      <td>2013</td>\n",
       "      <td>9.54</td>\n",
       "      <td>43000</td>\n",
       "      <td>1</td>\n",
       "      <td>0</td>\n",
       "      <td>0</td>\n",
       "      <td>0</td>\n",
       "    </tr>\n",
       "    <tr>\n",
       "      <th>2</th>\n",
       "      <td>2017</td>\n",
       "      <td>9.85</td>\n",
       "      <td>6900</td>\n",
       "      <td>0</td>\n",
       "      <td>0</td>\n",
       "      <td>0</td>\n",
       "      <td>0</td>\n",
       "    </tr>\n",
       "    <tr>\n",
       "      <th>3</th>\n",
       "      <td>2011</td>\n",
       "      <td>4.15</td>\n",
       "      <td>5200</td>\n",
       "      <td>0</td>\n",
       "      <td>0</td>\n",
       "      <td>0</td>\n",
       "      <td>0</td>\n",
       "    </tr>\n",
       "    <tr>\n",
       "      <th>4</th>\n",
       "      <td>2014</td>\n",
       "      <td>6.87</td>\n",
       "      <td>42450</td>\n",
       "      <td>1</td>\n",
       "      <td>0</td>\n",
       "      <td>0</td>\n",
       "      <td>0</td>\n",
       "    </tr>\n",
       "  </tbody>\n",
       "</table>\n",
       "</div>"
      ],
      "text/plain": [
       "   Year  Present_Price  Kms_Driven  Fuel_Type  Seller_Type  Transmission  \\\n",
       "0  2014           5.59       27000          0            0             0   \n",
       "1  2013           9.54       43000          1            0             0   \n",
       "2  2017           9.85        6900          0            0             0   \n",
       "3  2011           4.15        5200          0            0             0   \n",
       "4  2014           6.87       42450          1            0             0   \n",
       "\n",
       "   Owner  \n",
       "0      0  \n",
       "1      0  \n",
       "2      0  \n",
       "3      0  \n",
       "4      0  "
      ]
     },
     "execution_count": 11,
     "metadata": {},
     "output_type": "execute_result"
    }
   ],
   "source": [
    "# Viewing the split data (independant & dependant variables)\n",
    "X.head()"
   ]
  },
  {
   "cell_type": "code",
   "execution_count": 12,
   "id": "8c069776",
   "metadata": {
    "execution": {
     "iopub.execute_input": "2022-12-19T19:11:18.373169Z",
     "iopub.status.busy": "2022-12-19T19:11:18.372798Z",
     "iopub.status.idle": "2022-12-19T19:11:18.380717Z",
     "shell.execute_reply": "2022-12-19T19:11:18.379230Z"
    },
    "papermill": {
     "duration": 0.020034,
     "end_time": "2022-12-19T19:11:18.384052",
     "exception": false,
     "start_time": "2022-12-19T19:11:18.364018",
     "status": "completed"
    },
    "tags": []
   },
   "outputs": [
    {
     "name": "stdout",
     "output_type": "stream",
     "text": [
      "0       3.35\n",
      "1       4.75\n",
      "2       7.25\n",
      "3       2.85\n",
      "4       4.60\n",
      "       ...  \n",
      "296     9.50\n",
      "297     4.00\n",
      "298     3.35\n",
      "299    11.50\n",
      "300     5.30\n",
      "Name: Selling_Price, Length: 301, dtype: float64\n"
     ]
    }
   ],
   "source": [
    "# We can use either head or print to view the data\n",
    "print(Y)"
   ]
  },
  {
   "cell_type": "code",
   "execution_count": 13,
   "id": "550978c6",
   "metadata": {
    "execution": {
     "iopub.execute_input": "2022-12-19T19:11:18.399026Z",
     "iopub.status.busy": "2022-12-19T19:11:18.398647Z",
     "iopub.status.idle": "2022-12-19T19:11:18.405184Z",
     "shell.execute_reply": "2022-12-19T19:11:18.404087Z"
    },
    "papermill": {
     "duration": 0.016439,
     "end_time": "2022-12-19T19:11:18.407573",
     "exception": false,
     "start_time": "2022-12-19T19:11:18.391134",
     "status": "completed"
    },
    "tags": []
   },
   "outputs": [],
   "source": [
    "# Splitting the data intro training and test data\n",
    "X_train, X_test, Y_train, Y_test = train_test_split(X, Y, test_size = 0.1, random_state = 2)\n"
   ]
  },
  {
   "cell_type": "code",
   "execution_count": 14,
   "id": "d19ffac6",
   "metadata": {
    "execution": {
     "iopub.execute_input": "2022-12-19T19:11:18.421686Z",
     "iopub.status.busy": "2022-12-19T19:11:18.421259Z",
     "iopub.status.idle": "2022-12-19T19:11:18.425918Z",
     "shell.execute_reply": "2022-12-19T19:11:18.424752Z"
    },
    "papermill": {
     "duration": 0.014654,
     "end_time": "2022-12-19T19:11:18.428261",
     "exception": false,
     "start_time": "2022-12-19T19:11:18.413607",
     "status": "completed"
    },
    "tags": []
   },
   "outputs": [],
   "source": [
    "# Loading the Linear Regression Model \n",
    "lin_reg_model = LinearRegression()"
   ]
  },
  {
   "cell_type": "code",
   "execution_count": 15,
   "id": "dbcbcd85",
   "metadata": {
    "execution": {
     "iopub.execute_input": "2022-12-19T19:11:18.442620Z",
     "iopub.status.busy": "2022-12-19T19:11:18.442201Z",
     "iopub.status.idle": "2022-12-19T19:11:18.469858Z",
     "shell.execute_reply": "2022-12-19T19:11:18.468318Z"
    },
    "papermill": {
     "duration": 0.03803,
     "end_time": "2022-12-19T19:11:18.472473",
     "exception": false,
     "start_time": "2022-12-19T19:11:18.434443",
     "status": "completed"
    },
    "tags": []
   },
   "outputs": [
    {
     "data": {
      "text/plain": [
       "LinearRegression()"
      ]
     },
     "execution_count": 15,
     "metadata": {},
     "output_type": "execute_result"
    }
   ],
   "source": [
    "#  Fitting our data into the Linear Regression Model (Training our model)\n",
    "lin_reg_model.fit(X_train, Y_train)"
   ]
  },
  {
   "cell_type": "markdown",
   "id": "e02b0a49",
   "metadata": {
    "papermill": {
     "duration": 0.006426,
     "end_time": "2022-12-19T19:11:18.485212",
     "exception": false,
     "start_time": "2022-12-19T19:11:18.478786",
     "status": "completed"
    },
    "tags": []
   },
   "source": [
    "# **Linear Regression Model Evaluation**"
   ]
  },
  {
   "cell_type": "code",
   "execution_count": 16,
   "id": "f4dd16eb",
   "metadata": {
    "execution": {
     "iopub.execute_input": "2022-12-19T19:11:18.499792Z",
     "iopub.status.busy": "2022-12-19T19:11:18.499401Z",
     "iopub.status.idle": "2022-12-19T19:11:18.507409Z",
     "shell.execute_reply": "2022-12-19T19:11:18.506326Z"
    },
    "papermill": {
     "duration": 0.017759,
     "end_time": "2022-12-19T19:11:18.509655",
     "exception": false,
     "start_time": "2022-12-19T19:11:18.491896",
     "status": "completed"
    },
    "tags": []
   },
   "outputs": [],
   "source": [
    "# Predicitions on training data\n",
    "training_data_prediction = lin_reg_model.predict(X_train)"
   ]
  },
  {
   "cell_type": "code",
   "execution_count": 17,
   "id": "25c92930",
   "metadata": {
    "execution": {
     "iopub.execute_input": "2022-12-19T19:11:18.523639Z",
     "iopub.status.busy": "2022-12-19T19:11:18.523198Z",
     "iopub.status.idle": "2022-12-19T19:11:18.530423Z",
     "shell.execute_reply": "2022-12-19T19:11:18.529004Z"
    },
    "papermill": {
     "duration": 0.017855,
     "end_time": "2022-12-19T19:11:18.533631",
     "exception": false,
     "start_time": "2022-12-19T19:11:18.515776",
     "status": "completed"
    },
    "tags": []
   },
   "outputs": [
    {
     "name": "stdout",
     "output_type": "stream",
     "text": [
      "R Scored Error:  0.8799451660493711\n"
     ]
    }
   ],
   "source": [
    "# Testing the accuracy of our model (R Squared Error)\n",
    "error_score = metrics.r2_score(Y_train, training_data_prediction)\n",
    "print(\"R Scored Error: \", error_score)"
   ]
  }
 ],
 "metadata": {
  "kernelspec": {
   "display_name": "Python 3",
   "language": "python",
   "name": "python3"
  },
  "language_info": {
   "codemirror_mode": {
    "name": "ipython",
    "version": 3
   },
   "file_extension": ".py",
   "mimetype": "text/x-python",
   "name": "python",
   "nbconvert_exporter": "python",
   "pygments_lexer": "ipython3",
   "version": "3.7.12"
  },
  "papermill": {
   "default_parameters": {},
   "duration": 11.333638,
   "end_time": "2022-12-19T19:11:19.362906",
   "environment_variables": {},
   "exception": null,
   "input_path": "__notebook__.ipynb",
   "output_path": "__notebook__.ipynb",
   "parameters": {},
   "start_time": "2022-12-19T19:11:08.029268",
   "version": "2.3.4"
  }
 },
 "nbformat": 4,
 "nbformat_minor": 5
}
