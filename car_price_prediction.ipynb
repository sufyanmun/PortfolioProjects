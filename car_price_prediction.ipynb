{
 "cells": [
  {
   "cell_type": "markdown",
   "id": "6c739d25",
   "metadata": {
    "papermill": {
     "duration": 0.00771,
     "end_time": "2022-12-19T19:28:38.237792",
     "exception": false,
     "start_time": "2022-12-19T19:28:38.230082",
     "status": "completed"
    },
    "tags": []
   },
   "source": [
    "# Importing the libaries & dependencies "
   ]
  },
  {
   "cell_type": "code",
   "execution_count": 1,
   "id": "a041c10d",
   "metadata": {
    "_cell_guid": "b1076dfc-b9ad-4769-8c92-a6c4dae69d19",
    "_uuid": "8f2839f25d086af736a60e9eeb907d3b93b6e0e5",
    "execution": {
     "iopub.execute_input": "2022-12-19T19:28:38.253766Z",
     "iopub.status.busy": "2022-12-19T19:28:38.252690Z",
     "iopub.status.idle": "2022-12-19T19:28:39.753874Z",
     "shell.execute_reply": "2022-12-19T19:28:39.752490Z"
    },
    "papermill": {
     "duration": 1.512471,
     "end_time": "2022-12-19T19:28:39.757024",
     "exception": false,
     "start_time": "2022-12-19T19:28:38.244553",
     "status": "completed"
    },
    "tags": []
   },
   "outputs": [],
   "source": [
    "# Importing the libaries & dependencies \n",
    "import pandas as pd\n",
    "import matplotlib.pyplot as plt\n",
    "import seaborn as sns\n",
    "from sklearn.model_selection import train_test_split\n",
    "from sklearn.linear_model import LinearRegression\n",
    "from sklearn.linear_model import Lasso\n",
    "from sklearn import metrics "
   ]
  },
  {
   "cell_type": "code",
   "execution_count": 2,
   "id": "33c376b0",
   "metadata": {
    "execution": {
     "iopub.execute_input": "2022-12-19T19:28:39.773397Z",
     "iopub.status.busy": "2022-12-19T19:28:39.772813Z",
     "iopub.status.idle": "2022-12-19T19:28:39.795751Z",
     "shell.execute_reply": "2022-12-19T19:28:39.794510Z"
    },
    "papermill": {
     "duration": 0.034273,
     "end_time": "2022-12-19T19:28:39.798560",
     "exception": false,
     "start_time": "2022-12-19T19:28:39.764287",
     "status": "completed"
    },
    "tags": []
   },
   "outputs": [],
   "source": [
    "# Adding the data (Data Collection & Processing)\n",
    "car_dataset = pd.read_csv('/kaggle/input/vehicle-dataset-from-cardekho/car data.csv')\n"
   ]
  },
  {
   "cell_type": "markdown",
   "id": "fd2c3b2f",
   "metadata": {
    "papermill": {
     "duration": 0.00616,
     "end_time": "2022-12-19T19:28:39.811376",
     "exception": false,
     "start_time": "2022-12-19T19:28:39.805216",
     "status": "completed"
    },
    "tags": []
   },
   "source": [
    "# Data Exploration "
   ]
  },
  {
   "cell_type": "code",
   "execution_count": 3,
   "id": "9c8311bd",
   "metadata": {
    "execution": {
     "iopub.execute_input": "2022-12-19T19:28:39.826180Z",
     "iopub.status.busy": "2022-12-19T19:28:39.825770Z",
     "iopub.status.idle": "2022-12-19T19:28:39.848664Z",
     "shell.execute_reply": "2022-12-19T19:28:39.847803Z"
    },
    "papermill": {
     "duration": 0.033304,
     "end_time": "2022-12-19T19:28:39.851219",
     "exception": false,
     "start_time": "2022-12-19T19:28:39.817915",
     "status": "completed"
    },
    "tags": []
   },
   "outputs": [
    {
     "data": {
      "text/html": [
       "<div>\n",
       "<style scoped>\n",
       "    .dataframe tbody tr th:only-of-type {\n",
       "        vertical-align: middle;\n",
       "    }\n",
       "\n",
       "    .dataframe tbody tr th {\n",
       "        vertical-align: top;\n",
       "    }\n",
       "\n",
       "    .dataframe thead th {\n",
       "        text-align: right;\n",
       "    }\n",
       "</style>\n",
       "<table border=\"1\" class=\"dataframe\">\n",
       "  <thead>\n",
       "    <tr style=\"text-align: right;\">\n",
       "      <th></th>\n",
       "      <th>Car_Name</th>\n",
       "      <th>Year</th>\n",
       "      <th>Selling_Price</th>\n",
       "      <th>Present_Price</th>\n",
       "      <th>Kms_Driven</th>\n",
       "      <th>Fuel_Type</th>\n",
       "      <th>Seller_Type</th>\n",
       "      <th>Transmission</th>\n",
       "      <th>Owner</th>\n",
       "    </tr>\n",
       "  </thead>\n",
       "  <tbody>\n",
       "    <tr>\n",
       "      <th>0</th>\n",
       "      <td>ritz</td>\n",
       "      <td>2014</td>\n",
       "      <td>3.35</td>\n",
       "      <td>5.59</td>\n",
       "      <td>27000</td>\n",
       "      <td>Petrol</td>\n",
       "      <td>Dealer</td>\n",
       "      <td>Manual</td>\n",
       "      <td>0</td>\n",
       "    </tr>\n",
       "    <tr>\n",
       "      <th>1</th>\n",
       "      <td>sx4</td>\n",
       "      <td>2013</td>\n",
       "      <td>4.75</td>\n",
       "      <td>9.54</td>\n",
       "      <td>43000</td>\n",
       "      <td>Diesel</td>\n",
       "      <td>Dealer</td>\n",
       "      <td>Manual</td>\n",
       "      <td>0</td>\n",
       "    </tr>\n",
       "    <tr>\n",
       "      <th>2</th>\n",
       "      <td>ciaz</td>\n",
       "      <td>2017</td>\n",
       "      <td>7.25</td>\n",
       "      <td>9.85</td>\n",
       "      <td>6900</td>\n",
       "      <td>Petrol</td>\n",
       "      <td>Dealer</td>\n",
       "      <td>Manual</td>\n",
       "      <td>0</td>\n",
       "    </tr>\n",
       "    <tr>\n",
       "      <th>3</th>\n",
       "      <td>wagon r</td>\n",
       "      <td>2011</td>\n",
       "      <td>2.85</td>\n",
       "      <td>4.15</td>\n",
       "      <td>5200</td>\n",
       "      <td>Petrol</td>\n",
       "      <td>Dealer</td>\n",
       "      <td>Manual</td>\n",
       "      <td>0</td>\n",
       "    </tr>\n",
       "    <tr>\n",
       "      <th>4</th>\n",
       "      <td>swift</td>\n",
       "      <td>2014</td>\n",
       "      <td>4.60</td>\n",
       "      <td>6.87</td>\n",
       "      <td>42450</td>\n",
       "      <td>Diesel</td>\n",
       "      <td>Dealer</td>\n",
       "      <td>Manual</td>\n",
       "      <td>0</td>\n",
       "    </tr>\n",
       "  </tbody>\n",
       "</table>\n",
       "</div>"
      ],
      "text/plain": [
       "  Car_Name  Year  Selling_Price  Present_Price  Kms_Driven Fuel_Type  \\\n",
       "0     ritz  2014           3.35           5.59       27000    Petrol   \n",
       "1      sx4  2013           4.75           9.54       43000    Diesel   \n",
       "2     ciaz  2017           7.25           9.85        6900    Petrol   \n",
       "3  wagon r  2011           2.85           4.15        5200    Petrol   \n",
       "4    swift  2014           4.60           6.87       42450    Diesel   \n",
       "\n",
       "  Seller_Type Transmission  Owner  \n",
       "0      Dealer       Manual      0  \n",
       "1      Dealer       Manual      0  \n",
       "2      Dealer       Manual      0  \n",
       "3      Dealer       Manual      0  \n",
       "4      Dealer       Manual      0  "
      ]
     },
     "execution_count": 3,
     "metadata": {},
     "output_type": "execute_result"
    }
   ],
   "source": [
    "# Checking the first 5 rows of the dataset\n",
    "car_dataset.head()"
   ]
  },
  {
   "cell_type": "code",
   "execution_count": 4,
   "id": "849ee73c",
   "metadata": {
    "execution": {
     "iopub.execute_input": "2022-12-19T19:28:39.867437Z",
     "iopub.status.busy": "2022-12-19T19:28:39.866633Z",
     "iopub.status.idle": "2022-12-19T19:28:39.874143Z",
     "shell.execute_reply": "2022-12-19T19:28:39.872479Z"
    },
    "papermill": {
     "duration": 0.018672,
     "end_time": "2022-12-19T19:28:39.876929",
     "exception": false,
     "start_time": "2022-12-19T19:28:39.858257",
     "status": "completed"
    },
    "tags": []
   },
   "outputs": [
    {
     "data": {
      "text/plain": [
       "(301, 9)"
      ]
     },
     "execution_count": 4,
     "metadata": {},
     "output_type": "execute_result"
    }
   ],
   "source": [
    "# Viewing the number of rows & columns\n",
    "car_dataset.shape"
   ]
  },
  {
   "cell_type": "code",
   "execution_count": 5,
   "id": "acb7ddb9",
   "metadata": {
    "execution": {
     "iopub.execute_input": "2022-12-19T19:28:39.894756Z",
     "iopub.status.busy": "2022-12-19T19:28:39.893984Z",
     "iopub.status.idle": "2022-12-19T19:28:39.922818Z",
     "shell.execute_reply": "2022-12-19T19:28:39.921239Z"
    },
    "papermill": {
     "duration": 0.041725,
     "end_time": "2022-12-19T19:28:39.925749",
     "exception": false,
     "start_time": "2022-12-19T19:28:39.884024",
     "status": "completed"
    },
    "tags": []
   },
   "outputs": [
    {
     "name": "stdout",
     "output_type": "stream",
     "text": [
      "<class 'pandas.core.frame.DataFrame'>\n",
      "RangeIndex: 301 entries, 0 to 300\n",
      "Data columns (total 9 columns):\n",
      " #   Column         Non-Null Count  Dtype  \n",
      "---  ------         --------------  -----  \n",
      " 0   Car_Name       301 non-null    object \n",
      " 1   Year           301 non-null    int64  \n",
      " 2   Selling_Price  301 non-null    float64\n",
      " 3   Present_Price  301 non-null    float64\n",
      " 4   Kms_Driven     301 non-null    int64  \n",
      " 5   Fuel_Type      301 non-null    object \n",
      " 6   Seller_Type    301 non-null    object \n",
      " 7   Transmission   301 non-null    object \n",
      " 8   Owner          301 non-null    int64  \n",
      "dtypes: float64(2), int64(3), object(4)\n",
      "memory usage: 21.3+ KB\n"
     ]
    }
   ],
   "source": [
    "# Retrieving more info about the dataset\n",
    "car_dataset.info()"
   ]
  },
  {
   "cell_type": "code",
   "execution_count": 6,
   "id": "7b92a382",
   "metadata": {
    "execution": {
     "iopub.execute_input": "2022-12-19T19:28:39.942604Z",
     "iopub.status.busy": "2022-12-19T19:28:39.942150Z",
     "iopub.status.idle": "2022-12-19T19:28:39.951774Z",
     "shell.execute_reply": "2022-12-19T19:28:39.950697Z"
    },
    "papermill": {
     "duration": 0.020776,
     "end_time": "2022-12-19T19:28:39.954018",
     "exception": false,
     "start_time": "2022-12-19T19:28:39.933242",
     "status": "completed"
    },
    "tags": []
   },
   "outputs": [
    {
     "data": {
      "text/plain": [
       "Car_Name         0\n",
       "Year             0\n",
       "Selling_Price    0\n",
       "Present_Price    0\n",
       "Kms_Driven       0\n",
       "Fuel_Type        0\n",
       "Seller_Type      0\n",
       "Transmission     0\n",
       "Owner            0\n",
       "dtype: int64"
      ]
     },
     "execution_count": 6,
     "metadata": {},
     "output_type": "execute_result"
    }
   ],
   "source": [
    "# Check to see if we have missing values (Null values)\n",
    "car_dataset.isnull().sum()"
   ]
  },
  {
   "cell_type": "code",
   "execution_count": 7,
   "id": "7eed7b74",
   "metadata": {
    "execution": {
     "iopub.execute_input": "2022-12-19T19:28:39.970230Z",
     "iopub.status.busy": "2022-12-19T19:28:39.969806Z",
     "iopub.status.idle": "2022-12-19T19:28:39.979043Z",
     "shell.execute_reply": "2022-12-19T19:28:39.977860Z"
    },
    "papermill": {
     "duration": 0.021039,
     "end_time": "2022-12-19T19:28:39.982177",
     "exception": false,
     "start_time": "2022-12-19T19:28:39.961138",
     "status": "completed"
    },
    "tags": []
   },
   "outputs": [
    {
     "name": "stdout",
     "output_type": "stream",
     "text": [
      "Petrol    239\n",
      "Diesel     60\n",
      "CNG         2\n",
      "Name: Fuel_Type, dtype: int64\n",
      "Dealer        195\n",
      "Individual    106\n",
      "Name: Seller_Type, dtype: int64\n",
      "Manual       261\n",
      "Automatic     40\n",
      "Name: Transmission, dtype: int64\n"
     ]
    }
   ],
   "source": [
    "# Seeing the distribution of categorical data \n",
    "print(car_dataset.Fuel_Type.value_counts())\n",
    "print(car_dataset.Seller_Type.value_counts())\n",
    "print(car_dataset.Transmission.value_counts())"
   ]
  },
  {
   "cell_type": "markdown",
   "id": "88d462d6",
   "metadata": {
    "papermill": {
     "duration": 0.006949,
     "end_time": "2022-12-19T19:28:39.997377",
     "exception": false,
     "start_time": "2022-12-19T19:28:39.990428",
     "status": "completed"
    },
    "tags": []
   },
   "source": [
    "# **Encoding the categorical data**"
   ]
  },
  {
   "cell_type": "code",
   "execution_count": 8,
   "id": "dd83dabc",
   "metadata": {
    "execution": {
     "iopub.execute_input": "2022-12-19T19:28:40.014863Z",
     "iopub.status.busy": "2022-12-19T19:28:40.014205Z",
     "iopub.status.idle": "2022-12-19T19:28:40.025597Z",
     "shell.execute_reply": "2022-12-19T19:28:40.024489Z"
    },
    "papermill": {
     "duration": 0.022745,
     "end_time": "2022-12-19T19:28:40.028206",
     "exception": false,
     "start_time": "2022-12-19T19:28:40.005461",
     "status": "completed"
    },
    "tags": []
   },
   "outputs": [],
   "source": [
    " # Encoding the categorical data for fuel type column\n",
    "car_dataset.replace({'Fuel_Type':{'Petrol':0, 'Diesel':1, 'CNG':2, }},inplace=True)\n",
    "\n",
    " # Encoding the categorical data for seller type column\n",
    "car_dataset.replace({'Seller_Type':{'Dealer':0, 'Individual':1}},inplace=True)\n",
    "\n",
    " # Encoding the categorical data for transmission column\n",
    "car_dataset.replace({'Transmission':{'Manual':0, 'Automatic':1}},inplace=True)"
   ]
  },
  {
   "cell_type": "code",
   "execution_count": 9,
   "id": "dac49274",
   "metadata": {
    "execution": {
     "iopub.execute_input": "2022-12-19T19:28:40.045155Z",
     "iopub.status.busy": "2022-12-19T19:28:40.044492Z",
     "iopub.status.idle": "2022-12-19T19:28:40.059341Z",
     "shell.execute_reply": "2022-12-19T19:28:40.057538Z"
    },
    "papermill": {
     "duration": 0.030067,
     "end_time": "2022-12-19T19:28:40.065585",
     "exception": false,
     "start_time": "2022-12-19T19:28:40.035518",
     "status": "completed"
    },
    "tags": []
   },
   "outputs": [
    {
     "data": {
      "text/html": [
       "<div>\n",
       "<style scoped>\n",
       "    .dataframe tbody tr th:only-of-type {\n",
       "        vertical-align: middle;\n",
       "    }\n",
       "\n",
       "    .dataframe tbody tr th {\n",
       "        vertical-align: top;\n",
       "    }\n",
       "\n",
       "    .dataframe thead th {\n",
       "        text-align: right;\n",
       "    }\n",
       "</style>\n",
       "<table border=\"1\" class=\"dataframe\">\n",
       "  <thead>\n",
       "    <tr style=\"text-align: right;\">\n",
       "      <th></th>\n",
       "      <th>Car_Name</th>\n",
       "      <th>Year</th>\n",
       "      <th>Selling_Price</th>\n",
       "      <th>Present_Price</th>\n",
       "      <th>Kms_Driven</th>\n",
       "      <th>Fuel_Type</th>\n",
       "      <th>Seller_Type</th>\n",
       "      <th>Transmission</th>\n",
       "      <th>Owner</th>\n",
       "    </tr>\n",
       "  </thead>\n",
       "  <tbody>\n",
       "    <tr>\n",
       "      <th>0</th>\n",
       "      <td>ritz</td>\n",
       "      <td>2014</td>\n",
       "      <td>3.35</td>\n",
       "      <td>5.59</td>\n",
       "      <td>27000</td>\n",
       "      <td>0</td>\n",
       "      <td>0</td>\n",
       "      <td>0</td>\n",
       "      <td>0</td>\n",
       "    </tr>\n",
       "    <tr>\n",
       "      <th>1</th>\n",
       "      <td>sx4</td>\n",
       "      <td>2013</td>\n",
       "      <td>4.75</td>\n",
       "      <td>9.54</td>\n",
       "      <td>43000</td>\n",
       "      <td>1</td>\n",
       "      <td>0</td>\n",
       "      <td>0</td>\n",
       "      <td>0</td>\n",
       "    </tr>\n",
       "    <tr>\n",
       "      <th>2</th>\n",
       "      <td>ciaz</td>\n",
       "      <td>2017</td>\n",
       "      <td>7.25</td>\n",
       "      <td>9.85</td>\n",
       "      <td>6900</td>\n",
       "      <td>0</td>\n",
       "      <td>0</td>\n",
       "      <td>0</td>\n",
       "      <td>0</td>\n",
       "    </tr>\n",
       "    <tr>\n",
       "      <th>3</th>\n",
       "      <td>wagon r</td>\n",
       "      <td>2011</td>\n",
       "      <td>2.85</td>\n",
       "      <td>4.15</td>\n",
       "      <td>5200</td>\n",
       "      <td>0</td>\n",
       "      <td>0</td>\n",
       "      <td>0</td>\n",
       "      <td>0</td>\n",
       "    </tr>\n",
       "    <tr>\n",
       "      <th>4</th>\n",
       "      <td>swift</td>\n",
       "      <td>2014</td>\n",
       "      <td>4.60</td>\n",
       "      <td>6.87</td>\n",
       "      <td>42450</td>\n",
       "      <td>1</td>\n",
       "      <td>0</td>\n",
       "      <td>0</td>\n",
       "      <td>0</td>\n",
       "    </tr>\n",
       "  </tbody>\n",
       "</table>\n",
       "</div>"
      ],
      "text/plain": [
       "  Car_Name  Year  Selling_Price  Present_Price  Kms_Driven  Fuel_Type  \\\n",
       "0     ritz  2014           3.35           5.59       27000          0   \n",
       "1      sx4  2013           4.75           9.54       43000          1   \n",
       "2     ciaz  2017           7.25           9.85        6900          0   \n",
       "3  wagon r  2011           2.85           4.15        5200          0   \n",
       "4    swift  2014           4.60           6.87       42450          1   \n",
       "\n",
       "   Seller_Type  Transmission  Owner  \n",
       "0            0             0      0  \n",
       "1            0             0      0  \n",
       "2            0             0      0  \n",
       "3            0             0      0  \n",
       "4            0             0      0  "
      ]
     },
     "execution_count": 9,
     "metadata": {},
     "output_type": "execute_result"
    }
   ],
   "source": [
    "# Checking if the encoding was done correctly \n",
    "car_dataset.head()"
   ]
  },
  {
   "cell_type": "markdown",
   "id": "d0c9420c",
   "metadata": {
    "papermill": {
     "duration": 0.008424,
     "end_time": "2022-12-19T19:28:40.082877",
     "exception": false,
     "start_time": "2022-12-19T19:28:40.074453",
     "status": "completed"
    },
    "tags": []
   },
   "source": [
    "# Splitting the data into training data & test data"
   ]
  },
  {
   "cell_type": "code",
   "execution_count": 10,
   "id": "7c00dc57",
   "metadata": {
    "execution": {
     "iopub.execute_input": "2022-12-19T19:28:40.105938Z",
     "iopub.status.busy": "2022-12-19T19:28:40.104868Z",
     "iopub.status.idle": "2022-12-19T19:28:40.113417Z",
     "shell.execute_reply": "2022-12-19T19:28:40.112487Z"
    },
    "papermill": {
     "duration": 0.024665,
     "end_time": "2022-12-19T19:28:40.116304",
     "exception": false,
     "start_time": "2022-12-19T19:28:40.091639",
     "status": "completed"
    },
    "tags": []
   },
   "outputs": [],
   "source": [
    "# Splitting the data into X & Y (Independant & dependant variable)\n",
    "X = car_dataset.drop(['Car_Name','Selling_Price'], axis=1)\n",
    "Y = car_dataset['Selling_Price']"
   ]
  },
  {
   "cell_type": "code",
   "execution_count": 11,
   "id": "fa8a6ea7",
   "metadata": {
    "execution": {
     "iopub.execute_input": "2022-12-19T19:28:40.140290Z",
     "iopub.status.busy": "2022-12-19T19:28:40.139600Z",
     "iopub.status.idle": "2022-12-19T19:28:40.152375Z",
     "shell.execute_reply": "2022-12-19T19:28:40.151231Z"
    },
    "papermill": {
     "duration": 0.027953,
     "end_time": "2022-12-19T19:28:40.155265",
     "exception": false,
     "start_time": "2022-12-19T19:28:40.127312",
     "status": "completed"
    },
    "tags": []
   },
   "outputs": [
    {
     "data": {
      "text/html": [
       "<div>\n",
       "<style scoped>\n",
       "    .dataframe tbody tr th:only-of-type {\n",
       "        vertical-align: middle;\n",
       "    }\n",
       "\n",
       "    .dataframe tbody tr th {\n",
       "        vertical-align: top;\n",
       "    }\n",
       "\n",
       "    .dataframe thead th {\n",
       "        text-align: right;\n",
       "    }\n",
       "</style>\n",
       "<table border=\"1\" class=\"dataframe\">\n",
       "  <thead>\n",
       "    <tr style=\"text-align: right;\">\n",
       "      <th></th>\n",
       "      <th>Year</th>\n",
       "      <th>Present_Price</th>\n",
       "      <th>Kms_Driven</th>\n",
       "      <th>Fuel_Type</th>\n",
       "      <th>Seller_Type</th>\n",
       "      <th>Transmission</th>\n",
       "      <th>Owner</th>\n",
       "    </tr>\n",
       "  </thead>\n",
       "  <tbody>\n",
       "    <tr>\n",
       "      <th>0</th>\n",
       "      <td>2014</td>\n",
       "      <td>5.59</td>\n",
       "      <td>27000</td>\n",
       "      <td>0</td>\n",
       "      <td>0</td>\n",
       "      <td>0</td>\n",
       "      <td>0</td>\n",
       "    </tr>\n",
       "    <tr>\n",
       "      <th>1</th>\n",
       "      <td>2013</td>\n",
       "      <td>9.54</td>\n",
       "      <td>43000</td>\n",
       "      <td>1</td>\n",
       "      <td>0</td>\n",
       "      <td>0</td>\n",
       "      <td>0</td>\n",
       "    </tr>\n",
       "    <tr>\n",
       "      <th>2</th>\n",
       "      <td>2017</td>\n",
       "      <td>9.85</td>\n",
       "      <td>6900</td>\n",
       "      <td>0</td>\n",
       "      <td>0</td>\n",
       "      <td>0</td>\n",
       "      <td>0</td>\n",
       "    </tr>\n",
       "    <tr>\n",
       "      <th>3</th>\n",
       "      <td>2011</td>\n",
       "      <td>4.15</td>\n",
       "      <td>5200</td>\n",
       "      <td>0</td>\n",
       "      <td>0</td>\n",
       "      <td>0</td>\n",
       "      <td>0</td>\n",
       "    </tr>\n",
       "    <tr>\n",
       "      <th>4</th>\n",
       "      <td>2014</td>\n",
       "      <td>6.87</td>\n",
       "      <td>42450</td>\n",
       "      <td>1</td>\n",
       "      <td>0</td>\n",
       "      <td>0</td>\n",
       "      <td>0</td>\n",
       "    </tr>\n",
       "  </tbody>\n",
       "</table>\n",
       "</div>"
      ],
      "text/plain": [
       "   Year  Present_Price  Kms_Driven  Fuel_Type  Seller_Type  Transmission  \\\n",
       "0  2014           5.59       27000          0            0             0   \n",
       "1  2013           9.54       43000          1            0             0   \n",
       "2  2017           9.85        6900          0            0             0   \n",
       "3  2011           4.15        5200          0            0             0   \n",
       "4  2014           6.87       42450          1            0             0   \n",
       "\n",
       "   Owner  \n",
       "0      0  \n",
       "1      0  \n",
       "2      0  \n",
       "3      0  \n",
       "4      0  "
      ]
     },
     "execution_count": 11,
     "metadata": {},
     "output_type": "execute_result"
    }
   ],
   "source": [
    "# Viewing the split data (independant & dependant variables)\n",
    "X.head()"
   ]
  },
  {
   "cell_type": "code",
   "execution_count": 12,
   "id": "13d1ae5b",
   "metadata": {
    "execution": {
     "iopub.execute_input": "2022-12-19T19:28:40.180833Z",
     "iopub.status.busy": "2022-12-19T19:28:40.180419Z",
     "iopub.status.idle": "2022-12-19T19:28:40.188990Z",
     "shell.execute_reply": "2022-12-19T19:28:40.187706Z"
    },
    "papermill": {
     "duration": 0.025373,
     "end_time": "2022-12-19T19:28:40.192265",
     "exception": false,
     "start_time": "2022-12-19T19:28:40.166892",
     "status": "completed"
    },
    "tags": []
   },
   "outputs": [
    {
     "name": "stdout",
     "output_type": "stream",
     "text": [
      "0       3.35\n",
      "1       4.75\n",
      "2       7.25\n",
      "3       2.85\n",
      "4       4.60\n",
      "       ...  \n",
      "296     9.50\n",
      "297     4.00\n",
      "298     3.35\n",
      "299    11.50\n",
      "300     5.30\n",
      "Name: Selling_Price, Length: 301, dtype: float64\n"
     ]
    }
   ],
   "source": [
    "# We can use either head or print to view the data\n",
    "print(Y)"
   ]
  },
  {
   "cell_type": "code",
   "execution_count": 13,
   "id": "bbd6ccc8",
   "metadata": {
    "execution": {
     "iopub.execute_input": "2022-12-19T19:28:40.215562Z",
     "iopub.status.busy": "2022-12-19T19:28:40.214566Z",
     "iopub.status.idle": "2022-12-19T19:28:40.222617Z",
     "shell.execute_reply": "2022-12-19T19:28:40.221287Z"
    },
    "papermill": {
     "duration": 0.021705,
     "end_time": "2022-12-19T19:28:40.225212",
     "exception": false,
     "start_time": "2022-12-19T19:28:40.203507",
     "status": "completed"
    },
    "tags": []
   },
   "outputs": [],
   "source": [
    "# Splitting the data intro training and test data\n",
    "X_train, X_test, Y_train, Y_test = train_test_split(X, Y, test_size = 0.05)\n"
   ]
  },
  {
   "cell_type": "markdown",
   "id": "fd13e29d",
   "metadata": {
    "papermill": {
     "duration": 0.009628,
     "end_time": "2022-12-19T19:28:40.242828",
     "exception": false,
     "start_time": "2022-12-19T19:28:40.233200",
     "status": "completed"
    },
    "tags": []
   },
   "source": [
    "# 1. Linear Regression Model"
   ]
  },
  {
   "cell_type": "code",
   "execution_count": 14,
   "id": "2dc4c12c",
   "metadata": {
    "execution": {
     "iopub.execute_input": "2022-12-19T19:28:40.265129Z",
     "iopub.status.busy": "2022-12-19T19:28:40.263901Z",
     "iopub.status.idle": "2022-12-19T19:28:40.269442Z",
     "shell.execute_reply": "2022-12-19T19:28:40.268531Z"
    },
    "papermill": {
     "duration": 0.017776,
     "end_time": "2022-12-19T19:28:40.271850",
     "exception": false,
     "start_time": "2022-12-19T19:28:40.254074",
     "status": "completed"
    },
    "tags": []
   },
   "outputs": [],
   "source": [
    "# Loading the Linear Regression Model \n",
    "lin_reg_model = LinearRegression()"
   ]
  },
  {
   "cell_type": "code",
   "execution_count": 15,
   "id": "adc02c6c",
   "metadata": {
    "execution": {
     "iopub.execute_input": "2022-12-19T19:28:40.290486Z",
     "iopub.status.busy": "2022-12-19T19:28:40.289010Z",
     "iopub.status.idle": "2022-12-19T19:28:40.318995Z",
     "shell.execute_reply": "2022-12-19T19:28:40.317552Z"
    },
    "papermill": {
     "duration": 0.042259,
     "end_time": "2022-12-19T19:28:40.321993",
     "exception": false,
     "start_time": "2022-12-19T19:28:40.279734",
     "status": "completed"
    },
    "tags": []
   },
   "outputs": [
    {
     "data": {
      "text/plain": [
       "LinearRegression()"
      ]
     },
     "execution_count": 15,
     "metadata": {},
     "output_type": "execute_result"
    }
   ],
   "source": [
    "#  Fitting our data into the Linear Regression Model (Training our model)\n",
    "lin_reg_model.fit(X_train, Y_train)"
   ]
  },
  {
   "cell_type": "code",
   "execution_count": 16,
   "id": "1a0f5a2c",
   "metadata": {
    "execution": {
     "iopub.execute_input": "2022-12-19T19:28:40.339324Z",
     "iopub.status.busy": "2022-12-19T19:28:40.338917Z",
     "iopub.status.idle": "2022-12-19T19:28:40.347061Z",
     "shell.execute_reply": "2022-12-19T19:28:40.345717Z"
    },
    "papermill": {
     "duration": 0.020143,
     "end_time": "2022-12-19T19:28:40.350142",
     "exception": false,
     "start_time": "2022-12-19T19:28:40.329999",
     "status": "completed"
    },
    "tags": []
   },
   "outputs": [],
   "source": [
    "# Predicitions on training data\n",
    "training_data_prediction = lin_reg_model.predict(X_train)"
   ]
  },
  {
   "cell_type": "code",
   "execution_count": 17,
   "id": "d4cb4d14",
   "metadata": {
    "execution": {
     "iopub.execute_input": "2022-12-19T19:28:40.372392Z",
     "iopub.status.busy": "2022-12-19T19:28:40.371570Z",
     "iopub.status.idle": "2022-12-19T19:28:40.384684Z",
     "shell.execute_reply": "2022-12-19T19:28:40.383432Z"
    },
    "papermill": {
     "duration": 0.028564,
     "end_time": "2022-12-19T19:28:40.389616",
     "exception": false,
     "start_time": "2022-12-19T19:28:40.361052",
     "status": "completed"
    },
    "tags": []
   },
   "outputs": [
    {
     "name": "stdout",
     "output_type": "stream",
     "text": [
      "R Scored Error:  0.8849963099393188\n"
     ]
    }
   ],
   "source": [
    "# Testing the accuracy of our model (R Squared Error)\n",
    "error_score = metrics.r2_score(Y_train, training_data_prediction)\n",
    "print(\"R Scored Error: \", error_score)"
   ]
  },
  {
   "cell_type": "markdown",
   "id": "9df75cbf",
   "metadata": {
    "papermill": {
     "duration": 0.007573,
     "end_time": "2022-12-19T19:28:40.407051",
     "exception": false,
     "start_time": "2022-12-19T19:28:40.399478",
     "status": "completed"
    },
    "tags": []
   },
   "source": [
    "# Visualizing the actual price & predicited prices of the training data"
   ]
  },
  {
   "cell_type": "code",
   "execution_count": 18,
   "id": "20d62212",
   "metadata": {
    "execution": {
     "iopub.execute_input": "2022-12-19T19:28:40.425437Z",
     "iopub.status.busy": "2022-12-19T19:28:40.424650Z",
     "iopub.status.idle": "2022-12-19T19:28:40.719233Z",
     "shell.execute_reply": "2022-12-19T19:28:40.718061Z"
    },
    "papermill": {
     "duration": 0.306844,
     "end_time": "2022-12-19T19:28:40.721776",
     "exception": false,
     "start_time": "2022-12-19T19:28:40.414932",
     "status": "completed"
    },
    "tags": []
   },
   "outputs": [
    {
     "data": {
      "text/plain": [
       "<function matplotlib.pyplot.show(close=None, block=None)>"
      ]
     },
     "execution_count": 18,
     "metadata": {},
     "output_type": "execute_result"
    },
    {
     "data": {
      "image/png": "[encoded data removed]",
      "text/plain": [
       "<Figure size 432x288 with 1 Axes>"
      ]
     },
     "metadata": {
      "needs_background": "light"
     },
     "output_type": "display_data"
    }
   ],
   "source": [
    "plt.scatter(Y_train, training_data_prediction)\n",
    "plt.xlabel(\"Actual Price\")\n",
    "plt.ylabel(\"Predicted Price\")\n",
    "plt.title(\"Predicted Vs Actual\")\n",
    "plt.show"
   ]
  },
  {
   "cell_type": "markdown",
   "id": "ff54b8b1",
   "metadata": {
    "papermill": {
     "duration": 0.007959,
     "end_time": "2022-12-19T19:28:40.737915",
     "exception": false,
     "start_time": "2022-12-19T19:28:40.729956",
     "status": "completed"
    },
    "tags": []
   },
   "source": [
    "# Using the Linear Regression Model on the test data"
   ]
  },
  {
   "cell_type": "code",
   "execution_count": 19,
   "id": "586a2c29",
   "metadata": {
    "execution": {
     "iopub.execute_input": "2022-12-19T19:28:40.757006Z",
     "iopub.status.busy": "2022-12-19T19:28:40.755814Z",
     "iopub.status.idle": "2022-12-19T19:28:40.763219Z",
     "shell.execute_reply": "2022-12-19T19:28:40.762359Z"
    },
    "papermill": {
     "duration": 0.019437,
     "end_time": "2022-12-19T19:28:40.765732",
     "exception": false,
     "start_time": "2022-12-19T19:28:40.746295",
     "status": "completed"
    },
    "tags": []
   },
   "outputs": [],
   "source": [
    "# Prediction on Test Data\n",
    "test_data_prediction = lin_reg_model.predict(X_test)"
   ]
  },
  {
   "cell_type": "code",
   "execution_count": 20,
   "id": "f22ea351",
   "metadata": {
    "execution": {
     "iopub.execute_input": "2022-12-19T19:28:40.787675Z",
     "iopub.status.busy": "2022-12-19T19:28:40.786740Z",
     "iopub.status.idle": "2022-12-19T19:28:40.795746Z",
     "shell.execute_reply": "2022-12-19T19:28:40.794263Z"
    },
    "papermill": {
     "duration": 0.023831,
     "end_time": "2022-12-19T19:28:40.799127",
     "exception": false,
     "start_time": "2022-12-19T19:28:40.775296",
     "status": "completed"
    },
    "tags": []
   },
   "outputs": [
    {
     "name": "stdout",
     "output_type": "stream",
     "text": [
      "R Scored Error:  0.8205939740851652\n"
     ]
    }
   ],
   "source": [
    "# R Squared Error of predictions on Test Data\n",
    "error_score = metrics.r2_score(Y_test, test_data_prediction)\n",
    "print(\"R Scored Error: \", error_score)"
   ]
  },
  {
   "cell_type": "code",
   "execution_count": 21,
   "id": "59b5c507",
   "metadata": {
    "execution": {
     "iopub.execute_input": "2022-12-19T19:28:40.821503Z",
     "iopub.status.busy": "2022-12-19T19:28:40.820261Z",
     "iopub.status.idle": "2022-12-19T19:28:41.096644Z",
     "shell.execute_reply": "2022-12-19T19:28:41.095294Z"
    },
    "papermill": {
     "duration": 0.290912,
     "end_time": "2022-12-19T19:28:41.099850",
     "exception": false,
     "start_time": "2022-12-19T19:28:40.808938",
     "status": "completed"
    },
    "tags": []
   },
   "outputs": [
    {
     "data": {
      "text/plain": [
       "<function matplotlib.pyplot.show(close=None, block=None)>"
      ]
     },
     "execution_count": 21,
     "metadata": {},
     "output_type": "execute_result"
    },
    {
     "data": {
      "image/png": "[encoded data removed]",
      "text/plain": [
       "<Figure size 432x288 with 1 Axes>"
      ]
     },
     "metadata": {
      "needs_background": "light"
     },
     "output_type": "display_data"
    }
   ],
   "source": [
    "# Plotting the test data predictions vs actual \n",
    "plt.scatter(Y_test, test_data_prediction)\n",
    "plt.xlabel(\"Actual Price\")\n",
    "plt.ylabel(\"Predicted Price\")\n",
    "plt.title(\"Predicted Vs Actual\")\n",
    "plt.show"
   ]
  }
 ],
 "metadata": {
  "kernelspec": {
   "display_name": "Python 3",
   "language": "python",
   "name": "python3"
  },
  "language_info": {
   "codemirror_mode": {
    "name": "ipython",
    "version": 3
   },
   "file_extension": ".py",
   "mimetype": "text/x-python",
   "name": "python",
   "nbconvert_exporter": "python",
   "pygments_lexer": "ipython3",
   "version": "3.7.12"
  },
  "papermill": {
   "default_parameters": {},
   "duration": 12.174993,
   "end_time": "2022-12-19T19:28:41.935397",
   "environment_variables": {},
   "exception": null,
   "input_path": "__notebook__.ipynb",
   "output_path": "__notebook__.ipynb",
   "parameters": {},
   "start_time": "2022-12-19T19:28:29.760404",
   "version": "2.3.4"
  }
 },
 "nbformat": 4,
 "nbformat_minor": 5
}
