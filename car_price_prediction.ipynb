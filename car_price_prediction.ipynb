{
 "cells": [
  {
   "cell_type": "code",
   "execution_count": 1,
   "id": "d2530acc",
   "metadata": {
    "_cell_guid": "b1076dfc-b9ad-4769-8c92-a6c4dae69d19",
    "_uuid": "8f2839f25d086af736a60e9eeb907d3b93b6e0e5",
    "execution": {
     "iopub.execute_input": "2022-12-19T19:12:01.704666Z",
     "iopub.status.busy": "2022-12-19T19:12:01.702571Z",
     "iopub.status.idle": "2022-12-19T19:12:03.273906Z",
     "shell.execute_reply": "2022-12-19T19:12:03.272579Z"
    },
    "papermill": {
     "duration": 1.582892,
     "end_time": "2022-12-19T19:12:03.276772",
     "exception": false,
     "start_time": "2022-12-19T19:12:01.693880",
     "status": "completed"
    },
    "tags": []
   },
   "outputs": [],
   "source": [
    "# Importing the libaries & dependencies \n",
    "import pandas as pd\n",
    "import matplotlib.pyplot as plt\n",
    "import seaborn as sns\n",
    "from sklearn.model_selection import train_test_split\n",
    "from sklearn.linear_model import LinearRegression\n",
    "from sklearn.linear_model import Lasso\n",
    "from sklearn import metrics "
   ]
  },
  {
   "cell_type": "code",
   "execution_count": 2,
   "id": "da17b16b",
   "metadata": {
    "execution": {
     "iopub.execute_input": "2022-12-19T19:12:03.289419Z",
     "iopub.status.busy": "2022-12-19T19:12:03.288973Z",
     "iopub.status.idle": "2022-12-19T19:12:03.313320Z",
     "shell.execute_reply": "2022-12-19T19:12:03.311962Z"
    },
    "papermill": {
     "duration": 0.033752,
     "end_time": "2022-12-19T19:12:03.316118",
     "exception": false,
     "start_time": "2022-12-19T19:12:03.282366",
     "status": "completed"
    },
    "tags": []
   },
   "outputs": [],
   "source": [
    "# Adding the data (Data Collection & Processing)\n",
    "car_dataset = pd.read_csv('/kaggle/input/vehicle-dataset-from-cardekho/car data.csv')\n"
   ]
  },
  {
   "cell_type": "code",
   "execution_count": 3,
   "id": "39a3af59",
   "metadata": {
    "execution": {
     "iopub.execute_input": "2022-12-19T19:12:03.329603Z",
     "iopub.status.busy": "2022-12-19T19:12:03.328344Z",
     "iopub.status.idle": "2022-12-19T19:12:03.353784Z",
     "shell.execute_reply": "2022-12-19T19:12:03.352544Z"
    },
    "papermill": {
     "duration": 0.0356,
     "end_time": "2022-12-19T19:12:03.357075",
     "exception": false,
     "start_time": "2022-12-19T19:12:03.321475",
     "status": "completed"
    },
    "tags": []
   },
   "outputs": [
    {
     "data": {
      "text/html": [
       "<div>\n",
       "<style scoped>\n",
       "    .dataframe tbody tr th:only-of-type {\n",
       "        vertical-align: middle;\n",
       "    }\n",
       "\n",
       "    .dataframe tbody tr th {\n",
       "        vertical-align: top;\n",
       "    }\n",
       "\n",
       "    .dataframe thead th {\n",
       "        text-align: right;\n",
       "    }\n",
       "</style>\n",
       "<table border=\"1\" class=\"dataframe\">\n",
       "  <thead>\n",
       "    <tr style=\"text-align: right;\">\n",
       "      <th></th>\n",
       "      <th>Car_Name</th>\n",
       "      <th>Year</th>\n",
       "      <th>Selling_Price</th>\n",
       "      <th>Present_Price</th>\n",
       "      <th>Kms_Driven</th>\n",
       "      <th>Fuel_Type</th>\n",
       "      <th>Seller_Type</th>\n",
       "      <th>Transmission</th>\n",
       "      <th>Owner</th>\n",
       "    </tr>\n",
       "  </thead>\n",
       "  <tbody>\n",
       "    <tr>\n",
       "      <th>0</th>\n",
       "      <td>ritz</td>\n",
       "      <td>2014</td>\n",
       "      <td>3.35</td>\n",
       "      <td>5.59</td>\n",
       "      <td>27000</td>\n",
       "      <td>Petrol</td>\n",
       "      <td>Dealer</td>\n",
       "      <td>Manual</td>\n",
       "      <td>0</td>\n",
       "    </tr>\n",
       "    <tr>\n",
       "      <th>1</th>\n",
       "      <td>sx4</td>\n",
       "      <td>2013</td>\n",
       "      <td>4.75</td>\n",
       "      <td>9.54</td>\n",
       "      <td>43000</td>\n",
       "      <td>Diesel</td>\n",
       "      <td>Dealer</td>\n",
       "      <td>Manual</td>\n",
       "      <td>0</td>\n",
       "    </tr>\n",
       "    <tr>\n",
       "      <th>2</th>\n",
       "      <td>ciaz</td>\n",
       "      <td>2017</td>\n",
       "      <td>7.25</td>\n",
       "      <td>9.85</td>\n",
       "      <td>6900</td>\n",
       "      <td>Petrol</td>\n",
       "      <td>Dealer</td>\n",
       "      <td>Manual</td>\n",
       "      <td>0</td>\n",
       "    </tr>\n",
       "    <tr>\n",
       "      <th>3</th>\n",
       "      <td>wagon r</td>\n",
       "      <td>2011</td>\n",
       "      <td>2.85</td>\n",
       "      <td>4.15</td>\n",
       "      <td>5200</td>\n",
       "      <td>Petrol</td>\n",
       "      <td>Dealer</td>\n",
       "      <td>Manual</td>\n",
       "      <td>0</td>\n",
       "    </tr>\n",
       "    <tr>\n",
       "      <th>4</th>\n",
       "      <td>swift</td>\n",
       "      <td>2014</td>\n",
       "      <td>4.60</td>\n",
       "      <td>6.87</td>\n",
       "      <td>42450</td>\n",
       "      <td>Diesel</td>\n",
       "      <td>Dealer</td>\n",
       "      <td>Manual</td>\n",
       "      <td>0</td>\n",
       "    </tr>\n",
       "  </tbody>\n",
       "</table>\n",
       "</div>"
      ],
      "text/plain": [
       "  Car_Name  Year  Selling_Price  Present_Price  Kms_Driven Fuel_Type  \\\n",
       "0     ritz  2014           3.35           5.59       27000    Petrol   \n",
       "1      sx4  2013           4.75           9.54       43000    Diesel   \n",
       "2     ciaz  2017           7.25           9.85        6900    Petrol   \n",
       "3  wagon r  2011           2.85           4.15        5200    Petrol   \n",
       "4    swift  2014           4.60           6.87       42450    Diesel   \n",
       "\n",
       "  Seller_Type Transmission  Owner  \n",
       "0      Dealer       Manual      0  \n",
       "1      Dealer       Manual      0  \n",
       "2      Dealer       Manual      0  \n",
       "3      Dealer       Manual      0  \n",
       "4      Dealer       Manual      0  "
      ]
     },
     "execution_count": 3,
     "metadata": {},
     "output_type": "execute_result"
    }
   ],
   "source": [
    "# Checking the first 5 rows of the dataset\n",
    "car_dataset.head()"
   ]
  },
  {
   "cell_type": "code",
   "execution_count": 4,
   "id": "aa887d07",
   "metadata": {
    "execution": {
     "iopub.execute_input": "2022-12-19T19:12:03.370536Z",
     "iopub.status.busy": "2022-12-19T19:12:03.369623Z",
     "iopub.status.idle": "2022-12-19T19:12:03.376101Z",
     "shell.execute_reply": "2022-12-19T19:12:03.375172Z"
    },
    "papermill": {
     "duration": 0.015791,
     "end_time": "2022-12-19T19:12:03.378394",
     "exception": false,
     "start_time": "2022-12-19T19:12:03.362603",
     "status": "completed"
    },
    "tags": []
   },
   "outputs": [
    {
     "data": {
      "text/plain": [
       "(301, 9)"
      ]
     },
     "execution_count": 4,
     "metadata": {},
     "output_type": "execute_result"
    }
   ],
   "source": [
    "# Viewing the number of rows & columns\n",
    "car_dataset.shape"
   ]
  },
  {
   "cell_type": "code",
   "execution_count": 5,
   "id": "5af91921",
   "metadata": {
    "execution": {
     "iopub.execute_input": "2022-12-19T19:12:03.392312Z",
     "iopub.status.busy": "2022-12-19T19:12:03.391479Z",
     "iopub.status.idle": "2022-12-19T19:12:03.420390Z",
     "shell.execute_reply": "2022-12-19T19:12:03.418215Z"
    },
    "papermill": {
     "duration": 0.039163,
     "end_time": "2022-12-19T19:12:03.423410",
     "exception": false,
     "start_time": "2022-12-19T19:12:03.384247",
     "status": "completed"
    },
    "tags": []
   },
   "outputs": [
    {
     "name": "stdout",
     "output_type": "stream",
     "text": [
      "<class 'pandas.core.frame.DataFrame'>\n",
      "RangeIndex: 301 entries, 0 to 300\n",
      "Data columns (total 9 columns):\n",
      " #   Column         Non-Null Count  Dtype  \n",
      "---  ------         --------------  -----  \n",
      " 0   Car_Name       301 non-null    object \n",
      " 1   Year           301 non-null    int64  \n",
      " 2   Selling_Price  301 non-null    float64\n",
      " 3   Present_Price  301 non-null    float64\n",
      " 4   Kms_Driven     301 non-null    int64  \n",
      " 5   Fuel_Type      301 non-null    object \n",
      " 6   Seller_Type    301 non-null    object \n",
      " 7   Transmission   301 non-null    object \n",
      " 8   Owner          301 non-null    int64  \n",
      "dtypes: float64(2), int64(3), object(4)\n",
      "memory usage: 21.3+ KB\n"
     ]
    }
   ],
   "source": [
    "# Retrieving more info about the dataset\n",
    "car_dataset.info()"
   ]
  },
  {
   "cell_type": "code",
   "execution_count": 6,
   "id": "dd0f0e36",
   "metadata": {
    "execution": {
     "iopub.execute_input": "2022-12-19T19:12:03.436904Z",
     "iopub.status.busy": "2022-12-19T19:12:03.436473Z",
     "iopub.status.idle": "2022-12-19T19:12:03.446708Z",
     "shell.execute_reply": "2022-12-19T19:12:03.445476Z"
    },
    "papermill": {
     "duration": 0.019996,
     "end_time": "2022-12-19T19:12:03.449146",
     "exception": false,
     "start_time": "2022-12-19T19:12:03.429150",
     "status": "completed"
    },
    "tags": []
   },
   "outputs": [
    {
     "data": {
      "text/plain": [
       "Car_Name         0\n",
       "Year             0\n",
       "Selling_Price    0\n",
       "Present_Price    0\n",
       "Kms_Driven       0\n",
       "Fuel_Type        0\n",
       "Seller_Type      0\n",
       "Transmission     0\n",
       "Owner            0\n",
       "dtype: int64"
      ]
     },
     "execution_count": 6,
     "metadata": {},
     "output_type": "execute_result"
    }
   ],
   "source": [
    "# Check to see if we have missing values (Null values)\n",
    "car_dataset.isnull().sum()"
   ]
  },
  {
   "cell_type": "code",
   "execution_count": 7,
   "id": "8100f39b",
   "metadata": {
    "execution": {
     "iopub.execute_input": "2022-12-19T19:12:03.462869Z",
     "iopub.status.busy": "2022-12-19T19:12:03.462136Z",
     "iopub.status.idle": "2022-12-19T19:12:03.472577Z",
     "shell.execute_reply": "2022-12-19T19:12:03.471048Z"
    },
    "papermill": {
     "duration": 0.021752,
     "end_time": "2022-12-19T19:12:03.476629",
     "exception": false,
     "start_time": "2022-12-19T19:12:03.454877",
     "status": "completed"
    },
    "tags": []
   },
   "outputs": [
    {
     "name": "stdout",
     "output_type": "stream",
     "text": [
      "Petrol    239\n",
      "Diesel     60\n",
      "CNG         2\n",
      "Name: Fuel_Type, dtype: int64\n",
      "Dealer        195\n",
      "Individual    106\n",
      "Name: Seller_Type, dtype: int64\n",
      "Manual       261\n",
      "Automatic     40\n",
      "Name: Transmission, dtype: int64\n"
     ]
    }
   ],
   "source": [
    "# Seeing the distribution of categorical data \n",
    "print(car_dataset.Fuel_Type.value_counts())\n",
    "print(car_dataset.Seller_Type.value_counts())\n",
    "print(car_dataset.Transmission.value_counts())"
   ]
  },
  {
   "cell_type": "markdown",
   "id": "561593aa",
   "metadata": {
    "papermill": {
     "duration": 0.005654,
     "end_time": "2022-12-19T19:12:03.488442",
     "exception": false,
     "start_time": "2022-12-19T19:12:03.482788",
     "status": "completed"
    },
    "tags": []
   },
   "source": [
    "**Encoding the categorical data**"
   ]
  },
  {
   "cell_type": "code",
   "execution_count": 8,
   "id": "50c5fcc9",
   "metadata": {
    "execution": {
     "iopub.execute_input": "2022-12-19T19:12:03.502992Z",
     "iopub.status.busy": "2022-12-19T19:12:03.501935Z",
     "iopub.status.idle": "2022-12-19T19:12:03.515690Z",
     "shell.execute_reply": "2022-12-19T19:12:03.514227Z"
    },
    "papermill": {
     "duration": 0.024266,
     "end_time": "2022-12-19T19:12:03.518507",
     "exception": false,
     "start_time": "2022-12-19T19:12:03.494241",
     "status": "completed"
    },
    "tags": []
   },
   "outputs": [],
   "source": [
    " # Encoding the categorical data for fuel type column\n",
    "car_dataset.replace({'Fuel_Type':{'Petrol':0, 'Diesel':1, 'CNG':2, }},inplace=True)\n",
    "\n",
    " # Encoding the categorical data for seller type column\n",
    "car_dataset.replace({'Seller_Type':{'Dealer':0, 'Individual':1}},inplace=True)\n",
    "\n",
    " # Encoding the categorical data for transmission column\n",
    "car_dataset.replace({'Transmission':{'Manual':0, 'Automatic':1}},inplace=True)"
   ]
  },
  {
   "cell_type": "code",
   "execution_count": 9,
   "id": "7aea323b",
   "metadata": {
    "execution": {
     "iopub.execute_input": "2022-12-19T19:12:03.535036Z",
     "iopub.status.busy": "2022-12-19T19:12:03.534227Z",
     "iopub.status.idle": "2022-12-19T19:12:03.549494Z",
     "shell.execute_reply": "2022-12-19T19:12:03.548113Z"
    },
    "papermill": {
     "duration": 0.025931,
     "end_time": "2022-12-19T19:12:03.552183",
     "exception": false,
     "start_time": "2022-12-19T19:12:03.526252",
     "status": "completed"
    },
    "tags": []
   },
   "outputs": [
    {
     "data": {
      "text/html": [
       "<div>\n",
       "<style scoped>\n",
       "    .dataframe tbody tr th:only-of-type {\n",
       "        vertical-align: middle;\n",
       "    }\n",
       "\n",
       "    .dataframe tbody tr th {\n",
       "        vertical-align: top;\n",
       "    }\n",
       "\n",
       "    .dataframe thead th {\n",
       "        text-align: right;\n",
       "    }\n",
       "</style>\n",
       "<table border=\"1\" class=\"dataframe\">\n",
       "  <thead>\n",
       "    <tr style=\"text-align: right;\">\n",
       "      <th></th>\n",
       "      <th>Car_Name</th>\n",
       "      <th>Year</th>\n",
       "      <th>Selling_Price</th>\n",
       "      <th>Present_Price</th>\n",
       "      <th>Kms_Driven</th>\n",
       "      <th>Fuel_Type</th>\n",
       "      <th>Seller_Type</th>\n",
       "      <th>Transmission</th>\n",
       "      <th>Owner</th>\n",
       "    </tr>\n",
       "  </thead>\n",
       "  <tbody>\n",
       "    <tr>\n",
       "      <th>0</th>\n",
       "      <td>ritz</td>\n",
       "      <td>2014</td>\n",
       "      <td>3.35</td>\n",
       "      <td>5.59</td>\n",
       "      <td>27000</td>\n",
       "      <td>0</td>\n",
       "      <td>0</td>\n",
       "      <td>0</td>\n",
       "      <td>0</td>\n",
       "    </tr>\n",
       "    <tr>\n",
       "      <th>1</th>\n",
       "      <td>sx4</td>\n",
       "      <td>2013</td>\n",
       "      <td>4.75</td>\n",
       "      <td>9.54</td>\n",
       "      <td>43000</td>\n",
       "      <td>1</td>\n",
       "      <td>0</td>\n",
       "      <td>0</td>\n",
       "      <td>0</td>\n",
       "    </tr>\n",
       "    <tr>\n",
       "      <th>2</th>\n",
       "      <td>ciaz</td>\n",
       "      <td>2017</td>\n",
       "      <td>7.25</td>\n",
       "      <td>9.85</td>\n",
       "      <td>6900</td>\n",
       "      <td>0</td>\n",
       "      <td>0</td>\n",
       "      <td>0</td>\n",
       "      <td>0</td>\n",
       "    </tr>\n",
       "    <tr>\n",
       "      <th>3</th>\n",
       "      <td>wagon r</td>\n",
       "      <td>2011</td>\n",
       "      <td>2.85</td>\n",
       "      <td>4.15</td>\n",
       "      <td>5200</td>\n",
       "      <td>0</td>\n",
       "      <td>0</td>\n",
       "      <td>0</td>\n",
       "      <td>0</td>\n",
       "    </tr>\n",
       "    <tr>\n",
       "      <th>4</th>\n",
       "      <td>swift</td>\n",
       "      <td>2014</td>\n",
       "      <td>4.60</td>\n",
       "      <td>6.87</td>\n",
       "      <td>42450</td>\n",
       "      <td>1</td>\n",
       "      <td>0</td>\n",
       "      <td>0</td>\n",
       "      <td>0</td>\n",
       "    </tr>\n",
       "  </tbody>\n",
       "</table>\n",
       "</div>"
      ],
      "text/plain": [
       "  Car_Name  Year  Selling_Price  Present_Price  Kms_Driven  Fuel_Type  \\\n",
       "0     ritz  2014           3.35           5.59       27000          0   \n",
       "1      sx4  2013           4.75           9.54       43000          1   \n",
       "2     ciaz  2017           7.25           9.85        6900          0   \n",
       "3  wagon r  2011           2.85           4.15        5200          0   \n",
       "4    swift  2014           4.60           6.87       42450          1   \n",
       "\n",
       "   Seller_Type  Transmission  Owner  \n",
       "0            0             0      0  \n",
       "1            0             0      0  \n",
       "2            0             0      0  \n",
       "3            0             0      0  \n",
       "4            0             0      0  "
      ]
     },
     "execution_count": 9,
     "metadata": {},
     "output_type": "execute_result"
    }
   ],
   "source": [
    "# Checking if the encoding was done correctly \n",
    "car_dataset.head()"
   ]
  },
  {
   "cell_type": "code",
   "execution_count": 10,
   "id": "d4c07472",
   "metadata": {
    "execution": {
     "iopub.execute_input": "2022-12-19T19:12:03.567128Z",
     "iopub.status.busy": "2022-12-19T19:12:03.566665Z",
     "iopub.status.idle": "2022-12-19T19:12:03.576775Z",
     "shell.execute_reply": "2022-12-19T19:12:03.575343Z"
    },
    "papermill": {
     "duration": 0.021332,
     "end_time": "2022-12-19T19:12:03.579714",
     "exception": false,
     "start_time": "2022-12-19T19:12:03.558382",
     "status": "completed"
    },
    "tags": []
   },
   "outputs": [],
   "source": [
    "# Splitting the data into X & Y (Independant & dependant variable)\n",
    "X = car_dataset.drop(['Car_Name','Selling_Price'], axis=1)\n",
    "Y = car_dataset['Selling_Price']"
   ]
  },
  {
   "cell_type": "code",
   "execution_count": 11,
   "id": "f5367bcd",
   "metadata": {
    "execution": {
     "iopub.execute_input": "2022-12-19T19:12:03.593794Z",
     "iopub.status.busy": "2022-12-19T19:12:03.593376Z",
     "iopub.status.idle": "2022-12-19T19:12:03.606815Z",
     "shell.execute_reply": "2022-12-19T19:12:03.605513Z"
    },
    "papermill": {
     "duration": 0.023368,
     "end_time": "2022-12-19T19:12:03.609165",
     "exception": false,
     "start_time": "2022-12-19T19:12:03.585797",
     "status": "completed"
    },
    "tags": []
   },
   "outputs": [
    {
     "data": {
      "text/html": [
       "<div>\n",
       "<style scoped>\n",
       "    .dataframe tbody tr th:only-of-type {\n",
       "        vertical-align: middle;\n",
       "    }\n",
       "\n",
       "    .dataframe tbody tr th {\n",
       "        vertical-align: top;\n",
       "    }\n",
       "\n",
       "    .dataframe thead th {\n",
       "        text-align: right;\n",
       "    }\n",
       "</style>\n",
       "<table border=\"1\" class=\"dataframe\">\n",
       "  <thead>\n",
       "    <tr style=\"text-align: right;\">\n",
       "      <th></th>\n",
       "      <th>Year</th>\n",
       "      <th>Present_Price</th>\n",
       "      <th>Kms_Driven</th>\n",
       "      <th>Fuel_Type</th>\n",
       "      <th>Seller_Type</th>\n",
       "      <th>Transmission</th>\n",
       "      <th>Owner</th>\n",
       "    </tr>\n",
       "  </thead>\n",
       "  <tbody>\n",
       "    <tr>\n",
       "      <th>0</th>\n",
       "      <td>2014</td>\n",
       "      <td>5.59</td>\n",
       "      <td>27000</td>\n",
       "      <td>0</td>\n",
       "      <td>0</td>\n",
       "      <td>0</td>\n",
       "      <td>0</td>\n",
       "    </tr>\n",
       "    <tr>\n",
       "      <th>1</th>\n",
       "      <td>2013</td>\n",
       "      <td>9.54</td>\n",
       "      <td>43000</td>\n",
       "      <td>1</td>\n",
       "      <td>0</td>\n",
       "      <td>0</td>\n",
       "      <td>0</td>\n",
       "    </tr>\n",
       "    <tr>\n",
       "      <th>2</th>\n",
       "      <td>2017</td>\n",
       "      <td>9.85</td>\n",
       "      <td>6900</td>\n",
       "      <td>0</td>\n",
       "      <td>0</td>\n",
       "      <td>0</td>\n",
       "      <td>0</td>\n",
       "    </tr>\n",
       "    <tr>\n",
       "      <th>3</th>\n",
       "      <td>2011</td>\n",
       "      <td>4.15</td>\n",
       "      <td>5200</td>\n",
       "      <td>0</td>\n",
       "      <td>0</td>\n",
       "      <td>0</td>\n",
       "      <td>0</td>\n",
       "    </tr>\n",
       "    <tr>\n",
       "      <th>4</th>\n",
       "      <td>2014</td>\n",
       "      <td>6.87</td>\n",
       "      <td>42450</td>\n",
       "      <td>1</td>\n",
       "      <td>0</td>\n",
       "      <td>0</td>\n",
       "      <td>0</td>\n",
       "    </tr>\n",
       "  </tbody>\n",
       "</table>\n",
       "</div>"
      ],
      "text/plain": [
       "   Year  Present_Price  Kms_Driven  Fuel_Type  Seller_Type  Transmission  \\\n",
       "0  2014           5.59       27000          0            0             0   \n",
       "1  2013           9.54       43000          1            0             0   \n",
       "2  2017           9.85        6900          0            0             0   \n",
       "3  2011           4.15        5200          0            0             0   \n",
       "4  2014           6.87       42450          1            0             0   \n",
       "\n",
       "   Owner  \n",
       "0      0  \n",
       "1      0  \n",
       "2      0  \n",
       "3      0  \n",
       "4      0  "
      ]
     },
     "execution_count": 11,
     "metadata": {},
     "output_type": "execute_result"
    }
   ],
   "source": [
    "# Viewing the split data (independant & dependant variables)\n",
    "X.head()"
   ]
  },
  {
   "cell_type": "code",
   "execution_count": 12,
   "id": "b3e958ba",
   "metadata": {
    "execution": {
     "iopub.execute_input": "2022-12-19T19:12:03.623390Z",
     "iopub.status.busy": "2022-12-19T19:12:03.622952Z",
     "iopub.status.idle": "2022-12-19T19:12:03.631834Z",
     "shell.execute_reply": "2022-12-19T19:12:03.630084Z"
    },
    "papermill": {
     "duration": 0.020129,
     "end_time": "2022-12-19T19:12:03.635571",
     "exception": false,
     "start_time": "2022-12-19T19:12:03.615442",
     "status": "completed"
    },
    "tags": []
   },
   "outputs": [
    {
     "name": "stdout",
     "output_type": "stream",
     "text": [
      "0       3.35\n",
      "1       4.75\n",
      "2       7.25\n",
      "3       2.85\n",
      "4       4.60\n",
      "       ...  \n",
      "296     9.50\n",
      "297     4.00\n",
      "298     3.35\n",
      "299    11.50\n",
      "300     5.30\n",
      "Name: Selling_Price, Length: 301, dtype: float64\n"
     ]
    }
   ],
   "source": [
    "# We can use either head or print to view the data\n",
    "print(Y)"
   ]
  },
  {
   "cell_type": "code",
   "execution_count": 13,
   "id": "97a8d0e3",
   "metadata": {
    "execution": {
     "iopub.execute_input": "2022-12-19T19:12:03.650733Z",
     "iopub.status.busy": "2022-12-19T19:12:03.650258Z",
     "iopub.status.idle": "2022-12-19T19:12:03.658160Z",
     "shell.execute_reply": "2022-12-19T19:12:03.656797Z"
    },
    "papermill": {
     "duration": 0.018537,
     "end_time": "2022-12-19T19:12:03.661005",
     "exception": false,
     "start_time": "2022-12-19T19:12:03.642468",
     "status": "completed"
    },
    "tags": []
   },
   "outputs": [],
   "source": [
    "# Splitting the data intro training and test data\n",
    "X_train, X_test, Y_train, Y_test = train_test_split(X, Y, test_size = 0.05)\n"
   ]
  },
  {
   "cell_type": "code",
   "execution_count": 14,
   "id": "012e052f",
   "metadata": {
    "execution": {
     "iopub.execute_input": "2022-12-19T19:12:03.675824Z",
     "iopub.status.busy": "2022-12-19T19:12:03.675354Z",
     "iopub.status.idle": "2022-12-19T19:12:03.680264Z",
     "shell.execute_reply": "2022-12-19T19:12:03.679153Z"
    },
    "papermill": {
     "duration": 0.015235,
     "end_time": "2022-12-19T19:12:03.682702",
     "exception": false,
     "start_time": "2022-12-19T19:12:03.667467",
     "status": "completed"
    },
    "tags": []
   },
   "outputs": [],
   "source": [
    "# Loading the Linear Regression Model \n",
    "lin_reg_model = LinearRegression()"
   ]
  },
  {
   "cell_type": "code",
   "execution_count": 15,
   "id": "7234144a",
   "metadata": {
    "execution": {
     "iopub.execute_input": "2022-12-19T19:12:03.697576Z",
     "iopub.status.busy": "2022-12-19T19:12:03.696880Z",
     "iopub.status.idle": "2022-12-19T19:12:03.726765Z",
     "shell.execute_reply": "2022-12-19T19:12:03.725244Z"
    },
    "papermill": {
     "duration": 0.040635,
     "end_time": "2022-12-19T19:12:03.729726",
     "exception": false,
     "start_time": "2022-12-19T19:12:03.689091",
     "status": "completed"
    },
    "tags": []
   },
   "outputs": [
    {
     "data": {
      "text/plain": [
       "LinearRegression()"
      ]
     },
     "execution_count": 15,
     "metadata": {},
     "output_type": "execute_result"
    }
   ],
   "source": [
    "#  Fitting our data into the Linear Regression Model (Training our model)\n",
    "lin_reg_model.fit(X_train, Y_train)"
   ]
  },
  {
   "cell_type": "markdown",
   "id": "10694abd",
   "metadata": {
    "papermill": {
     "duration": 0.006105,
     "end_time": "2022-12-19T19:12:03.742583",
     "exception": false,
     "start_time": "2022-12-19T19:12:03.736478",
     "status": "completed"
    },
    "tags": []
   },
   "source": [
    "# **Linear Regression Model Evaluation**"
   ]
  },
  {
   "cell_type": "code",
   "execution_count": 16,
   "id": "4ae14eb4",
   "metadata": {
    "execution": {
     "iopub.execute_input": "2022-12-19T19:12:03.757934Z",
     "iopub.status.busy": "2022-12-19T19:12:03.756706Z",
     "iopub.status.idle": "2022-12-19T19:12:03.766085Z",
     "shell.execute_reply": "2022-12-19T19:12:03.764893Z"
    },
    "papermill": {
     "duration": 0.019643,
     "end_time": "2022-12-19T19:12:03.768566",
     "exception": false,
     "start_time": "2022-12-19T19:12:03.748923",
     "status": "completed"
    },
    "tags": []
   },
   "outputs": [],
   "source": [
    "# Predicitions on training data\n",
    "training_data_prediction = lin_reg_model.predict(X_train)"
   ]
  },
  {
   "cell_type": "code",
   "execution_count": 17,
   "id": "01c21e8c",
   "metadata": {
    "execution": {
     "iopub.execute_input": "2022-12-19T19:12:03.783847Z",
     "iopub.status.busy": "2022-12-19T19:12:03.782670Z",
     "iopub.status.idle": "2022-12-19T19:12:03.790500Z",
     "shell.execute_reply": "2022-12-19T19:12:03.789185Z"
    },
    "papermill": {
     "duration": 0.017898,
     "end_time": "2022-12-19T19:12:03.792874",
     "exception": false,
     "start_time": "2022-12-19T19:12:03.774976",
     "status": "completed"
    },
    "tags": []
   },
   "outputs": [
    {
     "name": "stdout",
     "output_type": "stream",
     "text": [
      "R Scored Error:  0.8748855518807209\n"
     ]
    }
   ],
   "source": [
    "# Testing the accuracy of our model (R Squared Error)\n",
    "error_score = metrics.r2_score(Y_train, training_data_prediction)\n",
    "print(\"R Scored Error: \", error_score)"
   ]
  }
 ],
 "metadata": {
  "kernelspec": {
   "display_name": "Python 3",
   "language": "python",
   "name": "python3"
  },
  "language_info": {
   "codemirror_mode": {
    "name": "ipython",
    "version": 3
   },
   "file_extension": ".py",
   "mimetype": "text/x-python",
   "name": "python",
   "nbconvert_exporter": "python",
   "pygments_lexer": "ipython3",
   "version": "3.7.12"
  },
  "papermill": {
   "default_parameters": {},
   "duration": 12.811278,
   "end_time": "2022-12-19T19:12:04.622750",
   "environment_variables": {},
   "exception": null,
   "input_path": "__notebook__.ipynb",
   "output_path": "__notebook__.ipynb",
   "parameters": {},
   "start_time": "2022-12-19T19:11:51.811472",
   "version": "2.3.4"
  }
 },
 "nbformat": 4,
 "nbformat_minor": 5
}
