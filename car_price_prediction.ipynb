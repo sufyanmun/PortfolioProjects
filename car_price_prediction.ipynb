{
 "cells": [
  {
   "cell_type": "code",
   "execution_count": 1,
   "id": "6d2ff09c",
   "metadata": {
    "_cell_guid": "b1076dfc-b9ad-4769-8c92-a6c4dae69d19",
    "_uuid": "8f2839f25d086af736a60e9eeb907d3b93b6e0e5",
    "execution": {
     "iopub.execute_input": "2022-12-19T18:53:45.015898Z",
     "iopub.status.busy": "2022-12-19T18:53:45.014597Z",
     "iopub.status.idle": "2022-12-19T18:53:46.526188Z",
     "shell.execute_reply": "2022-12-19T18:53:46.524884Z"
    },
    "papermill": {
     "duration": 1.524772,
     "end_time": "2022-12-19T18:53:46.529115",
     "exception": false,
     "start_time": "2022-12-19T18:53:45.004343",
     "status": "completed"
    },
    "tags": []
   },
   "outputs": [],
   "source": [
    "# Importing the libaries & dependencies \n",
    "import pandas as pd\n",
    "import matplotlib.pyplot as plt\n",
    "import seaborn as sns\n",
    "from sklearn.model_selection import train_test_split\n",
    "from sklearn.linear_model import LinearRegression\n",
    "from sklearn.linear_model import Lasso\n",
    "from sklearn import metrics "
   ]
  },
  {
   "cell_type": "code",
   "execution_count": 2,
   "id": "349bbdce",
   "metadata": {
    "execution": {
     "iopub.execute_input": "2022-12-19T18:53:46.541563Z",
     "iopub.status.busy": "2022-12-19T18:53:46.541127Z",
     "iopub.status.idle": "2022-12-19T18:53:46.567036Z",
     "shell.execute_reply": "2022-12-19T18:53:46.565272Z"
    },
    "papermill": {
     "duration": 0.035435,
     "end_time": "2022-12-19T18:53:46.570074",
     "exception": false,
     "start_time": "2022-12-19T18:53:46.534639",
     "status": "completed"
    },
    "tags": []
   },
   "outputs": [],
   "source": [
    "# Adding the data (Data Collection & Processing)\n",
    "car_dataset = pd.read_csv('/kaggle/input/vehicle-dataset-from-cardekho/car data.csv')\n"
   ]
  },
  {
   "cell_type": "code",
   "execution_count": 3,
   "id": "9e7b1e0c",
   "metadata": {
    "execution": {
     "iopub.execute_input": "2022-12-19T18:53:46.582978Z",
     "iopub.status.busy": "2022-12-19T18:53:46.581885Z",
     "iopub.status.idle": "2022-12-19T18:53:46.609296Z",
     "shell.execute_reply": "2022-12-19T18:53:46.607767Z"
    },
    "papermill": {
     "duration": 0.036898,
     "end_time": "2022-12-19T18:53:46.612309",
     "exception": false,
     "start_time": "2022-12-19T18:53:46.575411",
     "status": "completed"
    },
    "tags": []
   },
   "outputs": [
    {
     "data": {
      "text/html": [
       "<div>\n",
       "<style scoped>\n",
       "    .dataframe tbody tr th:only-of-type {\n",
       "        vertical-align: middle;\n",
       "    }\n",
       "\n",
       "    .dataframe tbody tr th {\n",
       "        vertical-align: top;\n",
       "    }\n",
       "\n",
       "    .dataframe thead th {\n",
       "        text-align: right;\n",
       "    }\n",
       "</style>\n",
       "<table border=\"1\" class=\"dataframe\">\n",
       "  <thead>\n",
       "    <tr style=\"text-align: right;\">\n",
       "      <th></th>\n",
       "      <th>Car_Name</th>\n",
       "      <th>Year</th>\n",
       "      <th>Selling_Price</th>\n",
       "      <th>Present_Price</th>\n",
       "      <th>Kms_Driven</th>\n",
       "      <th>Fuel_Type</th>\n",
       "      <th>Seller_Type</th>\n",
       "      <th>Transmission</th>\n",
       "      <th>Owner</th>\n",
       "    </tr>\n",
       "  </thead>\n",
       "  <tbody>\n",
       "    <tr>\n",
       "      <th>0</th>\n",
       "      <td>ritz</td>\n",
       "      <td>2014</td>\n",
       "      <td>3.35</td>\n",
       "      <td>5.59</td>\n",
       "      <td>27000</td>\n",
       "      <td>Petrol</td>\n",
       "      <td>Dealer</td>\n",
       "      <td>Manual</td>\n",
       "      <td>0</td>\n",
       "    </tr>\n",
       "    <tr>\n",
       "      <th>1</th>\n",
       "      <td>sx4</td>\n",
       "      <td>2013</td>\n",
       "      <td>4.75</td>\n",
       "      <td>9.54</td>\n",
       "      <td>43000</td>\n",
       "      <td>Diesel</td>\n",
       "      <td>Dealer</td>\n",
       "      <td>Manual</td>\n",
       "      <td>0</td>\n",
       "    </tr>\n",
       "    <tr>\n",
       "      <th>2</th>\n",
       "      <td>ciaz</td>\n",
       "      <td>2017</td>\n",
       "      <td>7.25</td>\n",
       "      <td>9.85</td>\n",
       "      <td>6900</td>\n",
       "      <td>Petrol</td>\n",
       "      <td>Dealer</td>\n",
       "      <td>Manual</td>\n",
       "      <td>0</td>\n",
       "    </tr>\n",
       "    <tr>\n",
       "      <th>3</th>\n",
       "      <td>wagon r</td>\n",
       "      <td>2011</td>\n",
       "      <td>2.85</td>\n",
       "      <td>4.15</td>\n",
       "      <td>5200</td>\n",
       "      <td>Petrol</td>\n",
       "      <td>Dealer</td>\n",
       "      <td>Manual</td>\n",
       "      <td>0</td>\n",
       "    </tr>\n",
       "    <tr>\n",
       "      <th>4</th>\n",
       "      <td>swift</td>\n",
       "      <td>2014</td>\n",
       "      <td>4.60</td>\n",
       "      <td>6.87</td>\n",
       "      <td>42450</td>\n",
       "      <td>Diesel</td>\n",
       "      <td>Dealer</td>\n",
       "      <td>Manual</td>\n",
       "      <td>0</td>\n",
       "    </tr>\n",
       "  </tbody>\n",
       "</table>\n",
       "</div>"
      ],
      "text/plain": [
       "  Car_Name  Year  Selling_Price  Present_Price  Kms_Driven Fuel_Type  \\\n",
       "0     ritz  2014           3.35           5.59       27000    Petrol   \n",
       "1      sx4  2013           4.75           9.54       43000    Diesel   \n",
       "2     ciaz  2017           7.25           9.85        6900    Petrol   \n",
       "3  wagon r  2011           2.85           4.15        5200    Petrol   \n",
       "4    swift  2014           4.60           6.87       42450    Diesel   \n",
       "\n",
       "  Seller_Type Transmission  Owner  \n",
       "0      Dealer       Manual      0  \n",
       "1      Dealer       Manual      0  \n",
       "2      Dealer       Manual      0  \n",
       "3      Dealer       Manual      0  \n",
       "4      Dealer       Manual      0  "
      ]
     },
     "execution_count": 3,
     "metadata": {},
     "output_type": "execute_result"
    }
   ],
   "source": [
    "# Checking the first 5 rows of the dataset\n",
    "car_dataset.head()"
   ]
  },
  {
   "cell_type": "code",
   "execution_count": 4,
   "id": "e16dac6a",
   "metadata": {
    "execution": {
     "iopub.execute_input": "2022-12-19T18:53:46.625227Z",
     "iopub.status.busy": "2022-12-19T18:53:46.624790Z",
     "iopub.status.idle": "2022-12-19T18:53:46.631489Z",
     "shell.execute_reply": "2022-12-19T18:53:46.630697Z"
    },
    "papermill": {
     "duration": 0.015812,
     "end_time": "2022-12-19T18:53:46.633664",
     "exception": false,
     "start_time": "2022-12-19T18:53:46.617852",
     "status": "completed"
    },
    "tags": []
   },
   "outputs": [
    {
     "data": {
      "text/plain": [
       "(301, 9)"
      ]
     },
     "execution_count": 4,
     "metadata": {},
     "output_type": "execute_result"
    }
   ],
   "source": [
    "# Viewing the number of rows & columns\n",
    "car_dataset.shape"
   ]
  },
  {
   "cell_type": "code",
   "execution_count": 5,
   "id": "32dda05e",
   "metadata": {
    "execution": {
     "iopub.execute_input": "2022-12-19T18:53:46.646948Z",
     "iopub.status.busy": "2022-12-19T18:53:46.646275Z",
     "iopub.status.idle": "2022-12-19T18:53:46.676985Z",
     "shell.execute_reply": "2022-12-19T18:53:46.675562Z"
    },
    "papermill": {
     "duration": 0.040535,
     "end_time": "2022-12-19T18:53:46.679887",
     "exception": false,
     "start_time": "2022-12-19T18:53:46.639352",
     "status": "completed"
    },
    "tags": []
   },
   "outputs": [
    {
     "name": "stdout",
     "output_type": "stream",
     "text": [
      "<class 'pandas.core.frame.DataFrame'>\n",
      "RangeIndex: 301 entries, 0 to 300\n",
      "Data columns (total 9 columns):\n",
      " #   Column         Non-Null Count  Dtype  \n",
      "---  ------         --------------  -----  \n",
      " 0   Car_Name       301 non-null    object \n",
      " 1   Year           301 non-null    int64  \n",
      " 2   Selling_Price  301 non-null    float64\n",
      " 3   Present_Price  301 non-null    float64\n",
      " 4   Kms_Driven     301 non-null    int64  \n",
      " 5   Fuel_Type      301 non-null    object \n",
      " 6   Seller_Type    301 non-null    object \n",
      " 7   Transmission   301 non-null    object \n",
      " 8   Owner          301 non-null    int64  \n",
      "dtypes: float64(2), int64(3), object(4)\n",
      "memory usage: 21.3+ KB\n"
     ]
    }
   ],
   "source": [
    "# Retrieving more info about the dataset\n",
    "car_dataset.info()"
   ]
  },
  {
   "cell_type": "code",
   "execution_count": 6,
   "id": "6841dba2",
   "metadata": {
    "execution": {
     "iopub.execute_input": "2022-12-19T18:53:46.693058Z",
     "iopub.status.busy": "2022-12-19T18:53:46.692594Z",
     "iopub.status.idle": "2022-12-19T18:53:46.702407Z",
     "shell.execute_reply": "2022-12-19T18:53:46.701184Z"
    },
    "papermill": {
     "duration": 0.019234,
     "end_time": "2022-12-19T18:53:46.704914",
     "exception": false,
     "start_time": "2022-12-19T18:53:46.685680",
     "status": "completed"
    },
    "tags": []
   },
   "outputs": [
    {
     "data": {
      "text/plain": [
       "Car_Name         0\n",
       "Year             0\n",
       "Selling_Price    0\n",
       "Present_Price    0\n",
       "Kms_Driven       0\n",
       "Fuel_Type        0\n",
       "Seller_Type      0\n",
       "Transmission     0\n",
       "Owner            0\n",
       "dtype: int64"
      ]
     },
     "execution_count": 6,
     "metadata": {},
     "output_type": "execute_result"
    }
   ],
   "source": [
    "# Check to see if we have missing values (Null values)\n",
    "car_dataset.isnull().sum()"
   ]
  },
  {
   "cell_type": "code",
   "execution_count": 7,
   "id": "6c7ba42b",
   "metadata": {
    "execution": {
     "iopub.execute_input": "2022-12-19T18:53:46.718895Z",
     "iopub.status.busy": "2022-12-19T18:53:46.717831Z",
     "iopub.status.idle": "2022-12-19T18:53:46.728439Z",
     "shell.execute_reply": "2022-12-19T18:53:46.727162Z"
    },
    "papermill": {
     "duration": 0.020745,
     "end_time": "2022-12-19T18:53:46.731507",
     "exception": false,
     "start_time": "2022-12-19T18:53:46.710762",
     "status": "completed"
    },
    "tags": []
   },
   "outputs": [
    {
     "name": "stdout",
     "output_type": "stream",
     "text": [
      "Petrol    239\n",
      "Diesel     60\n",
      "CNG         2\n",
      "Name: Fuel_Type, dtype: int64\n",
      "Dealer        195\n",
      "Individual    106\n",
      "Name: Seller_Type, dtype: int64\n",
      "Manual       261\n",
      "Automatic     40\n",
      "Name: Transmission, dtype: int64\n"
     ]
    }
   ],
   "source": [
    "# Seeing the distribution of categorical data \n",
    "print(car_dataset.Fuel_Type.value_counts())\n",
    "print(car_dataset.Seller_Type.value_counts())\n",
    "print(car_dataset.Transmission.value_counts())"
   ]
  },
  {
   "cell_type": "markdown",
   "id": "270d8f88",
   "metadata": {
    "papermill": {
     "duration": 0.005443,
     "end_time": "2022-12-19T18:53:46.742846",
     "exception": false,
     "start_time": "2022-12-19T18:53:46.737403",
     "status": "completed"
    },
    "tags": []
   },
   "source": [
    "**Encoding the categorical data**"
   ]
  },
  {
   "cell_type": "code",
   "execution_count": 8,
   "id": "45edc5e1",
   "metadata": {
    "execution": {
     "iopub.execute_input": "2022-12-19T18:53:46.757846Z",
     "iopub.status.busy": "2022-12-19T18:53:46.757443Z",
     "iopub.status.idle": "2022-12-19T18:53:46.769857Z",
     "shell.execute_reply": "2022-12-19T18:53:46.768557Z"
    },
    "papermill": {
     "duration": 0.023824,
     "end_time": "2022-12-19T18:53:46.772496",
     "exception": false,
     "start_time": "2022-12-19T18:53:46.748672",
     "status": "completed"
    },
    "tags": []
   },
   "outputs": [],
   "source": [
    " # Encoding the categorical data for fuel type column\n",
    "car_dataset.replace({'Fuel_Type':{'Petrol':0, 'Diesel':1, 'CNG':2, }},inplace=True)\n",
    "\n",
    " # Encoding the categorical data for seller type column\n",
    "car_dataset.replace({'Seller_Type':{'Dealer':0, 'Individual':1}},inplace=True)\n",
    "\n",
    " # Encoding the categorical data for transmission column\n",
    "car_dataset.replace({'Transmission':{'Manual':0, 'Automatic':1}},inplace=True)"
   ]
  },
  {
   "cell_type": "code",
   "execution_count": 9,
   "id": "ebbafa77",
   "metadata": {
    "execution": {
     "iopub.execute_input": "2022-12-19T18:53:46.785827Z",
     "iopub.status.busy": "2022-12-19T18:53:46.785416Z",
     "iopub.status.idle": "2022-12-19T18:53:46.800451Z",
     "shell.execute_reply": "2022-12-19T18:53:46.799192Z"
    },
    "papermill": {
     "duration": 0.024936,
     "end_time": "2022-12-19T18:53:46.803282",
     "exception": false,
     "start_time": "2022-12-19T18:53:46.778346",
     "status": "completed"
    },
    "tags": []
   },
   "outputs": [
    {
     "data": {
      "text/html": [
       "<div>\n",
       "<style scoped>\n",
       "    .dataframe tbody tr th:only-of-type {\n",
       "        vertical-align: middle;\n",
       "    }\n",
       "\n",
       "    .dataframe tbody tr th {\n",
       "        vertical-align: top;\n",
       "    }\n",
       "\n",
       "    .dataframe thead th {\n",
       "        text-align: right;\n",
       "    }\n",
       "</style>\n",
       "<table border=\"1\" class=\"dataframe\">\n",
       "  <thead>\n",
       "    <tr style=\"text-align: right;\">\n",
       "      <th></th>\n",
       "      <th>Car_Name</th>\n",
       "      <th>Year</th>\n",
       "      <th>Selling_Price</th>\n",
       "      <th>Present_Price</th>\n",
       "      <th>Kms_Driven</th>\n",
       "      <th>Fuel_Type</th>\n",
       "      <th>Seller_Type</th>\n",
       "      <th>Transmission</th>\n",
       "      <th>Owner</th>\n",
       "    </tr>\n",
       "  </thead>\n",
       "  <tbody>\n",
       "    <tr>\n",
       "      <th>0</th>\n",
       "      <td>ritz</td>\n",
       "      <td>2014</td>\n",
       "      <td>3.35</td>\n",
       "      <td>5.59</td>\n",
       "      <td>27000</td>\n",
       "      <td>0</td>\n",
       "      <td>0</td>\n",
       "      <td>0</td>\n",
       "      <td>0</td>\n",
       "    </tr>\n",
       "    <tr>\n",
       "      <th>1</th>\n",
       "      <td>sx4</td>\n",
       "      <td>2013</td>\n",
       "      <td>4.75</td>\n",
       "      <td>9.54</td>\n",
       "      <td>43000</td>\n",
       "      <td>1</td>\n",
       "      <td>0</td>\n",
       "      <td>0</td>\n",
       "      <td>0</td>\n",
       "    </tr>\n",
       "    <tr>\n",
       "      <th>2</th>\n",
       "      <td>ciaz</td>\n",
       "      <td>2017</td>\n",
       "      <td>7.25</td>\n",
       "      <td>9.85</td>\n",
       "      <td>6900</td>\n",
       "      <td>0</td>\n",
       "      <td>0</td>\n",
       "      <td>0</td>\n",
       "      <td>0</td>\n",
       "    </tr>\n",
       "    <tr>\n",
       "      <th>3</th>\n",
       "      <td>wagon r</td>\n",
       "      <td>2011</td>\n",
       "      <td>2.85</td>\n",
       "      <td>4.15</td>\n",
       "      <td>5200</td>\n",
       "      <td>0</td>\n",
       "      <td>0</td>\n",
       "      <td>0</td>\n",
       "      <td>0</td>\n",
       "    </tr>\n",
       "    <tr>\n",
       "      <th>4</th>\n",
       "      <td>swift</td>\n",
       "      <td>2014</td>\n",
       "      <td>4.60</td>\n",
       "      <td>6.87</td>\n",
       "      <td>42450</td>\n",
       "      <td>1</td>\n",
       "      <td>0</td>\n",
       "      <td>0</td>\n",
       "      <td>0</td>\n",
       "    </tr>\n",
       "  </tbody>\n",
       "</table>\n",
       "</div>"
      ],
      "text/plain": [
       "  Car_Name  Year  Selling_Price  Present_Price  Kms_Driven  Fuel_Type  \\\n",
       "0     ritz  2014           3.35           5.59       27000          0   \n",
       "1      sx4  2013           4.75           9.54       43000          1   \n",
       "2     ciaz  2017           7.25           9.85        6900          0   \n",
       "3  wagon r  2011           2.85           4.15        5200          0   \n",
       "4    swift  2014           4.60           6.87       42450          1   \n",
       "\n",
       "   Seller_Type  Transmission  Owner  \n",
       "0            0             0      0  \n",
       "1            0             0      0  \n",
       "2            0             0      0  \n",
       "3            0             0      0  \n",
       "4            0             0      0  "
      ]
     },
     "execution_count": 9,
     "metadata": {},
     "output_type": "execute_result"
    }
   ],
   "source": [
    "# Checking if the encoding was done correctly \n",
    "car_dataset.head()"
   ]
  },
  {
   "cell_type": "code",
   "execution_count": 10,
   "id": "094cc2f2",
   "metadata": {
    "execution": {
     "iopub.execute_input": "2022-12-19T18:53:46.817695Z",
     "iopub.status.busy": "2022-12-19T18:53:46.816830Z",
     "iopub.status.idle": "2022-12-19T18:53:46.826490Z",
     "shell.execute_reply": "2022-12-19T18:53:46.825256Z"
    },
    "papermill": {
     "duration": 0.019479,
     "end_time": "2022-12-19T18:53:46.829097",
     "exception": false,
     "start_time": "2022-12-19T18:53:46.809618",
     "status": "completed"
    },
    "tags": []
   },
   "outputs": [],
   "source": [
    "# Splitting the data into X & Y (Independant & dependant variable)\n",
    "X = car_dataset.drop(['Car_Name','Selling_Price'], axis=1)\n",
    "Y = car_dataset['Selling_Price']"
   ]
  },
  {
   "cell_type": "code",
   "execution_count": 11,
   "id": "89a92719",
   "metadata": {
    "execution": {
     "iopub.execute_input": "2022-12-19T18:53:46.843721Z",
     "iopub.status.busy": "2022-12-19T18:53:46.842968Z",
     "iopub.status.idle": "2022-12-19T18:53:46.857231Z",
     "shell.execute_reply": "2022-12-19T18:53:46.856190Z"
    },
    "papermill": {
     "duration": 0.02492,
     "end_time": "2022-12-19T18:53:46.860143",
     "exception": false,
     "start_time": "2022-12-19T18:53:46.835223",
     "status": "completed"
    },
    "tags": []
   },
   "outputs": [
    {
     "data": {
      "text/html": [
       "<div>\n",
       "<style scoped>\n",
       "    .dataframe tbody tr th:only-of-type {\n",
       "        vertical-align: middle;\n",
       "    }\n",
       "\n",
       "    .dataframe tbody tr th {\n",
       "        vertical-align: top;\n",
       "    }\n",
       "\n",
       "    .dataframe thead th {\n",
       "        text-align: right;\n",
       "    }\n",
       "</style>\n",
       "<table border=\"1\" class=\"dataframe\">\n",
       "  <thead>\n",
       "    <tr style=\"text-align: right;\">\n",
       "      <th></th>\n",
       "      <th>Year</th>\n",
       "      <th>Present_Price</th>\n",
       "      <th>Kms_Driven</th>\n",
       "      <th>Fuel_Type</th>\n",
       "      <th>Seller_Type</th>\n",
       "      <th>Transmission</th>\n",
       "      <th>Owner</th>\n",
       "    </tr>\n",
       "  </thead>\n",
       "  <tbody>\n",
       "    <tr>\n",
       "      <th>0</th>\n",
       "      <td>2014</td>\n",
       "      <td>5.59</td>\n",
       "      <td>27000</td>\n",
       "      <td>0</td>\n",
       "      <td>0</td>\n",
       "      <td>0</td>\n",
       "      <td>0</td>\n",
       "    </tr>\n",
       "    <tr>\n",
       "      <th>1</th>\n",
       "      <td>2013</td>\n",
       "      <td>9.54</td>\n",
       "      <td>43000</td>\n",
       "      <td>1</td>\n",
       "      <td>0</td>\n",
       "      <td>0</td>\n",
       "      <td>0</td>\n",
       "    </tr>\n",
       "    <tr>\n",
       "      <th>2</th>\n",
       "      <td>2017</td>\n",
       "      <td>9.85</td>\n",
       "      <td>6900</td>\n",
       "      <td>0</td>\n",
       "      <td>0</td>\n",
       "      <td>0</td>\n",
       "      <td>0</td>\n",
       "    </tr>\n",
       "    <tr>\n",
       "      <th>3</th>\n",
       "      <td>2011</td>\n",
       "      <td>4.15</td>\n",
       "      <td>5200</td>\n",
       "      <td>0</td>\n",
       "      <td>0</td>\n",
       "      <td>0</td>\n",
       "      <td>0</td>\n",
       "    </tr>\n",
       "    <tr>\n",
       "      <th>4</th>\n",
       "      <td>2014</td>\n",
       "      <td>6.87</td>\n",
       "      <td>42450</td>\n",
       "      <td>1</td>\n",
       "      <td>0</td>\n",
       "      <td>0</td>\n",
       "      <td>0</td>\n",
       "    </tr>\n",
       "  </tbody>\n",
       "</table>\n",
       "</div>"
      ],
      "text/plain": [
       "   Year  Present_Price  Kms_Driven  Fuel_Type  Seller_Type  Transmission  \\\n",
       "0  2014           5.59       27000          0            0             0   \n",
       "1  2013           9.54       43000          1            0             0   \n",
       "2  2017           9.85        6900          0            0             0   \n",
       "3  2011           4.15        5200          0            0             0   \n",
       "4  2014           6.87       42450          1            0             0   \n",
       "\n",
       "   Owner  \n",
       "0      0  \n",
       "1      0  \n",
       "2      0  \n",
       "3      0  \n",
       "4      0  "
      ]
     },
     "execution_count": 11,
     "metadata": {},
     "output_type": "execute_result"
    }
   ],
   "source": [
    "# Viewing the split data (independant & dependant variables)\n",
    "X.head()"
   ]
  },
  {
   "cell_type": "code",
   "execution_count": 12,
   "id": "bde9ede2",
   "metadata": {
    "execution": {
     "iopub.execute_input": "2022-12-19T18:53:46.874836Z",
     "iopub.status.busy": "2022-12-19T18:53:46.874395Z",
     "iopub.status.idle": "2022-12-19T18:53:46.882875Z",
     "shell.execute_reply": "2022-12-19T18:53:46.881674Z"
    },
    "papermill": {
     "duration": 0.019303,
     "end_time": "2022-12-19T18:53:46.885890",
     "exception": false,
     "start_time": "2022-12-19T18:53:46.866587",
     "status": "completed"
    },
    "tags": []
   },
   "outputs": [
    {
     "name": "stdout",
     "output_type": "stream",
     "text": [
      "0       3.35\n",
      "1       4.75\n",
      "2       7.25\n",
      "3       2.85\n",
      "4       4.60\n",
      "       ...  \n",
      "296     9.50\n",
      "297     4.00\n",
      "298     3.35\n",
      "299    11.50\n",
      "300     5.30\n",
      "Name: Selling_Price, Length: 301, dtype: float64\n"
     ]
    }
   ],
   "source": [
    "# We can use either head or print to view the data\n",
    "print(Y)"
   ]
  },
  {
   "cell_type": "code",
   "execution_count": 13,
   "id": "f11e95a5",
   "metadata": {
    "execution": {
     "iopub.execute_input": "2022-12-19T18:53:46.901476Z",
     "iopub.status.busy": "2022-12-19T18:53:46.900634Z",
     "iopub.status.idle": "2022-12-19T18:53:46.907912Z",
     "shell.execute_reply": "2022-12-19T18:53:46.906843Z"
    },
    "papermill": {
     "duration": 0.018197,
     "end_time": "2022-12-19T18:53:46.911125",
     "exception": false,
     "start_time": "2022-12-19T18:53:46.892928",
     "status": "completed"
    },
    "tags": []
   },
   "outputs": [],
   "source": [
    "# Splitting the data intro training and test data\n",
    "X_train, X_test, Y_train, Y_test = train_test_split(X, Y, test_size = 0.05)\n"
   ]
  },
  {
   "cell_type": "markdown",
   "id": "3b51351b",
   "metadata": {
    "papermill": {
     "duration": 0.006269,
     "end_time": "2022-12-19T18:53:46.923796",
     "exception": false,
     "start_time": "2022-12-19T18:53:46.917527",
     "status": "completed"
    },
    "tags": []
   },
   "source": [
    "Model Training"
   ]
  },
  {
   "cell_type": "code",
   "execution_count": 14,
   "id": "8fe12190",
   "metadata": {
    "execution": {
     "iopub.execute_input": "2022-12-19T18:53:46.939362Z",
     "iopub.status.busy": "2022-12-19T18:53:46.938916Z",
     "iopub.status.idle": "2022-12-19T18:53:46.943741Z",
     "shell.execute_reply": "2022-12-19T18:53:46.942472Z"
    },
    "papermill": {
     "duration": 0.016125,
     "end_time": "2022-12-19T18:53:46.946516",
     "exception": false,
     "start_time": "2022-12-19T18:53:46.930391",
     "status": "completed"
    },
    "tags": []
   },
   "outputs": [],
   "source": [
    "# Loading the Linear Regression Model \n",
    "lin_reg_model = LinearRegression()"
   ]
  },
  {
   "cell_type": "code",
   "execution_count": 15,
   "id": "04a739b1",
   "metadata": {
    "execution": {
     "iopub.execute_input": "2022-12-19T18:53:46.961099Z",
     "iopub.status.busy": "2022-12-19T18:53:46.960662Z",
     "iopub.status.idle": "2022-12-19T18:53:46.991696Z",
     "shell.execute_reply": "2022-12-19T18:53:46.990315Z"
    },
    "papermill": {
     "duration": 0.041867,
     "end_time": "2022-12-19T18:53:46.994845",
     "exception": false,
     "start_time": "2022-12-19T18:53:46.952978",
     "status": "completed"
    },
    "tags": []
   },
   "outputs": [
    {
     "data": {
      "text/plain": [
       "LinearRegression()"
      ]
     },
     "execution_count": 15,
     "metadata": {},
     "output_type": "execute_result"
    }
   ],
   "source": [
    "lin_reg_model.fit(X_train, Y_train)"
   ]
  },
  {
   "cell_type": "markdown",
   "id": "9b4669cd",
   "metadata": {
    "papermill": {
     "duration": 0.007866,
     "end_time": "2022-12-19T18:53:47.011725",
     "exception": false,
     "start_time": "2022-12-19T18:53:47.003859",
     "status": "completed"
    },
    "tags": []
   },
   "source": [
    "Linear Regression Model Evaluation"
   ]
  },
  {
   "cell_type": "code",
   "execution_count": null,
   "id": "2f24aba1",
   "metadata": {
    "papermill": {
     "duration": 0.00654,
     "end_time": "2022-12-19T18:53:47.025837",
     "exception": false,
     "start_time": "2022-12-19T18:53:47.019297",
     "status": "completed"
    },
    "tags": []
   },
   "outputs": [],
   "source": []
  },
  {
   "cell_type": "markdown",
   "id": "2ece9f8c",
   "metadata": {
    "papermill": {
     "duration": 0.007998,
     "end_time": "2022-12-19T18:53:47.041951",
     "exception": false,
     "start_time": "2022-12-19T18:53:47.033953",
     "status": "completed"
    },
    "tags": []
   },
   "source": [
    "Linear Regression Model Evaluation "
   ]
  }
 ],
 "metadata": {
  "kernelspec": {
   "display_name": "Python 3",
   "language": "python",
   "name": "python3"
  },
  "language_info": {
   "codemirror_mode": {
    "name": "ipython",
    "version": 3
   },
   "file_extension": ".py",
   "mimetype": "text/x-python",
   "name": "python",
   "nbconvert_exporter": "python",
   "pygments_lexer": "ipython3",
   "version": "3.7.12"
  },
  "papermill": {
   "default_parameters": {},
   "duration": 11.868435,
   "end_time": "2022-12-19T18:53:47.773670",
   "environment_variables": {},
   "exception": null,
   "input_path": "__notebook__.ipynb",
   "output_path": "__notebook__.ipynb",
   "parameters": {},
   "start_time": "2022-12-19T18:53:35.905235",
   "version": "2.3.4"
  }
 },
 "nbformat": 4,
 "nbformat_minor": 5
}
