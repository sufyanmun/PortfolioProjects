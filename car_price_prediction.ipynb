{
 "cells": [
  {
   "cell_type": "code",
   "execution_count": 1,
   "id": "5ba87292",
   "metadata": {
    "_cell_guid": "b1076dfc-b9ad-4769-8c92-a6c4dae69d19",
    "_uuid": "8f2839f25d086af736a60e9eeb907d3b93b6e0e5",
    "execution": {
     "iopub.execute_input": "2022-12-19T19:15:29.852966Z",
     "iopub.status.busy": "2022-12-19T19:15:29.852452Z",
     "iopub.status.idle": "2022-12-19T19:15:31.195753Z",
     "shell.execute_reply": "2022-12-19T19:15:31.194439Z"
    },
    "papermill": {
     "duration": 1.354449,
     "end_time": "2022-12-19T19:15:31.198683",
     "exception": false,
     "start_time": "2022-12-19T19:15:29.844234",
     "status": "completed"
    },
    "tags": []
   },
   "outputs": [],
   "source": [
    "# Importing the libaries & dependencies \n",
    "import pandas as pd\n",
    "import matplotlib.pyplot as plt\n",
    "import seaborn as sns\n",
    "from sklearn.model_selection import train_test_split\n",
    "from sklearn.linear_model import LinearRegression\n",
    "from sklearn.linear_model import Lasso\n",
    "from sklearn import metrics "
   ]
  },
  {
   "cell_type": "code",
   "execution_count": 2,
   "id": "3d8fdaf2",
   "metadata": {
    "execution": {
     "iopub.execute_input": "2022-12-19T19:15:31.211082Z",
     "iopub.status.busy": "2022-12-19T19:15:31.210506Z",
     "iopub.status.idle": "2022-12-19T19:15:31.232439Z",
     "shell.execute_reply": "2022-12-19T19:15:31.231589Z"
    },
    "papermill": {
     "duration": 0.030819,
     "end_time": "2022-12-19T19:15:31.234820",
     "exception": false,
     "start_time": "2022-12-19T19:15:31.204001",
     "status": "completed"
    },
    "tags": []
   },
   "outputs": [],
   "source": [
    "# Adding the data (Data Collection & Processing)\n",
    "car_dataset = pd.read_csv('/kaggle/input/vehicle-dataset-from-cardekho/car data.csv')\n"
   ]
  },
  {
   "cell_type": "code",
   "execution_count": 3,
   "id": "326e0247",
   "metadata": {
    "execution": {
     "iopub.execute_input": "2022-12-19T19:15:31.247198Z",
     "iopub.status.busy": "2022-12-19T19:15:31.246373Z",
     "iopub.status.idle": "2022-12-19T19:15:31.269747Z",
     "shell.execute_reply": "2022-12-19T19:15:31.268854Z"
    },
    "papermill": {
     "duration": 0.033011,
     "end_time": "2022-12-19T19:15:31.272985",
     "exception": false,
     "start_time": "2022-12-19T19:15:31.239974",
     "status": "completed"
    },
    "tags": []
   },
   "outputs": [
    {
     "data": {
      "text/html": [
       "<div>\n",
       "<style scoped>\n",
       "    .dataframe tbody tr th:only-of-type {\n",
       "        vertical-align: middle;\n",
       "    }\n",
       "\n",
       "    .dataframe tbody tr th {\n",
       "        vertical-align: top;\n",
       "    }\n",
       "\n",
       "    .dataframe thead th {\n",
       "        text-align: right;\n",
       "    }\n",
       "</style>\n",
       "<table border=\"1\" class=\"dataframe\">\n",
       "  <thead>\n",
       "    <tr style=\"text-align: right;\">\n",
       "      <th></th>\n",
       "      <th>Car_Name</th>\n",
       "      <th>Year</th>\n",
       "      <th>Selling_Price</th>\n",
       "      <th>Present_Price</th>\n",
       "      <th>Kms_Driven</th>\n",
       "      <th>Fuel_Type</th>\n",
       "      <th>Seller_Type</th>\n",
       "      <th>Transmission</th>\n",
       "      <th>Owner</th>\n",
       "    </tr>\n",
       "  </thead>\n",
       "  <tbody>\n",
       "    <tr>\n",
       "      <th>0</th>\n",
       "      <td>ritz</td>\n",
       "      <td>2014</td>\n",
       "      <td>3.35</td>\n",
       "      <td>5.59</td>\n",
       "      <td>27000</td>\n",
       "      <td>Petrol</td>\n",
       "      <td>Dealer</td>\n",
       "      <td>Manual</td>\n",
       "      <td>0</td>\n",
       "    </tr>\n",
       "    <tr>\n",
       "      <th>1</th>\n",
       "      <td>sx4</td>\n",
       "      <td>2013</td>\n",
       "      <td>4.75</td>\n",
       "      <td>9.54</td>\n",
       "      <td>43000</td>\n",
       "      <td>Diesel</td>\n",
       "      <td>Dealer</td>\n",
       "      <td>Manual</td>\n",
       "      <td>0</td>\n",
       "    </tr>\n",
       "    <tr>\n",
       "      <th>2</th>\n",
       "      <td>ciaz</td>\n",
       "      <td>2017</td>\n",
       "      <td>7.25</td>\n",
       "      <td>9.85</td>\n",
       "      <td>6900</td>\n",
       "      <td>Petrol</td>\n",
       "      <td>Dealer</td>\n",
       "      <td>Manual</td>\n",
       "      <td>0</td>\n",
       "    </tr>\n",
       "    <tr>\n",
       "      <th>3</th>\n",
       "      <td>wagon r</td>\n",
       "      <td>2011</td>\n",
       "      <td>2.85</td>\n",
       "      <td>4.15</td>\n",
       "      <td>5200</td>\n",
       "      <td>Petrol</td>\n",
       "      <td>Dealer</td>\n",
       "      <td>Manual</td>\n",
       "      <td>0</td>\n",
       "    </tr>\n",
       "    <tr>\n",
       "      <th>4</th>\n",
       "      <td>swift</td>\n",
       "      <td>2014</td>\n",
       "      <td>4.60</td>\n",
       "      <td>6.87</td>\n",
       "      <td>42450</td>\n",
       "      <td>Diesel</td>\n",
       "      <td>Dealer</td>\n",
       "      <td>Manual</td>\n",
       "      <td>0</td>\n",
       "    </tr>\n",
       "  </tbody>\n",
       "</table>\n",
       "</div>"
      ],
      "text/plain": [
       "  Car_Name  Year  Selling_Price  Present_Price  Kms_Driven Fuel_Type  \\\n",
       "0     ritz  2014           3.35           5.59       27000    Petrol   \n",
       "1      sx4  2013           4.75           9.54       43000    Diesel   \n",
       "2     ciaz  2017           7.25           9.85        6900    Petrol   \n",
       "3  wagon r  2011           2.85           4.15        5200    Petrol   \n",
       "4    swift  2014           4.60           6.87       42450    Diesel   \n",
       "\n",
       "  Seller_Type Transmission  Owner  \n",
       "0      Dealer       Manual      0  \n",
       "1      Dealer       Manual      0  \n",
       "2      Dealer       Manual      0  \n",
       "3      Dealer       Manual      0  \n",
       "4      Dealer       Manual      0  "
      ]
     },
     "execution_count": 3,
     "metadata": {},
     "output_type": "execute_result"
    }
   ],
   "source": [
    "# Checking the first 5 rows of the dataset\n",
    "car_dataset.head()"
   ]
  },
  {
   "cell_type": "code",
   "execution_count": 4,
   "id": "0aaaa1b6",
   "metadata": {
    "execution": {
     "iopub.execute_input": "2022-12-19T19:15:31.285818Z",
     "iopub.status.busy": "2022-12-19T19:15:31.285393Z",
     "iopub.status.idle": "2022-12-19T19:15:31.292199Z",
     "shell.execute_reply": "2022-12-19T19:15:31.291033Z"
    },
    "papermill": {
     "duration": 0.016147,
     "end_time": "2022-12-19T19:15:31.294578",
     "exception": false,
     "start_time": "2022-12-19T19:15:31.278431",
     "status": "completed"
    },
    "tags": []
   },
   "outputs": [
    {
     "data": {
      "text/plain": [
       "(301, 9)"
      ]
     },
     "execution_count": 4,
     "metadata": {},
     "output_type": "execute_result"
    }
   ],
   "source": [
    "# Viewing the number of rows & columns\n",
    "car_dataset.shape"
   ]
  },
  {
   "cell_type": "code",
   "execution_count": 5,
   "id": "0a55cdb7",
   "metadata": {
    "execution": {
     "iopub.execute_input": "2022-12-19T19:15:31.307731Z",
     "iopub.status.busy": "2022-12-19T19:15:31.307294Z",
     "iopub.status.idle": "2022-12-19T19:15:31.332305Z",
     "shell.execute_reply": "2022-12-19T19:15:31.330830Z"
    },
    "papermill": {
     "duration": 0.034707,
     "end_time": "2022-12-19T19:15:31.334883",
     "exception": false,
     "start_time": "2022-12-19T19:15:31.300176",
     "status": "completed"
    },
    "tags": []
   },
   "outputs": [
    {
     "name": "stdout",
     "output_type": "stream",
     "text": [
      "<class 'pandas.core.frame.DataFrame'>\n",
      "RangeIndex: 301 entries, 0 to 300\n",
      "Data columns (total 9 columns):\n",
      " #   Column         Non-Null Count  Dtype  \n",
      "---  ------         --------------  -----  \n",
      " 0   Car_Name       301 non-null    object \n",
      " 1   Year           301 non-null    int64  \n",
      " 2   Selling_Price  301 non-null    float64\n",
      " 3   Present_Price  301 non-null    float64\n",
      " 4   Kms_Driven     301 non-null    int64  \n",
      " 5   Fuel_Type      301 non-null    object \n",
      " 6   Seller_Type    301 non-null    object \n",
      " 7   Transmission   301 non-null    object \n",
      " 8   Owner          301 non-null    int64  \n",
      "dtypes: float64(2), int64(3), object(4)\n",
      "memory usage: 21.3+ KB\n"
     ]
    }
   ],
   "source": [
    "# Retrieving more info about the dataset\n",
    "car_dataset.info()"
   ]
  },
  {
   "cell_type": "code",
   "execution_count": 6,
   "id": "2763476a",
   "metadata": {
    "execution": {
     "iopub.execute_input": "2022-12-19T19:15:31.348104Z",
     "iopub.status.busy": "2022-12-19T19:15:31.347634Z",
     "iopub.status.idle": "2022-12-19T19:15:31.357591Z",
     "shell.execute_reply": "2022-12-19T19:15:31.356301Z"
    },
    "papermill": {
     "duration": 0.019142,
     "end_time": "2022-12-19T19:15:31.359859",
     "exception": false,
     "start_time": "2022-12-19T19:15:31.340717",
     "status": "completed"
    },
    "tags": []
   },
   "outputs": [
    {
     "data": {
      "text/plain": [
       "Car_Name         0\n",
       "Year             0\n",
       "Selling_Price    0\n",
       "Present_Price    0\n",
       "Kms_Driven       0\n",
       "Fuel_Type        0\n",
       "Seller_Type      0\n",
       "Transmission     0\n",
       "Owner            0\n",
       "dtype: int64"
      ]
     },
     "execution_count": 6,
     "metadata": {},
     "output_type": "execute_result"
    }
   ],
   "source": [
    "# Check to see if we have missing values (Null values)\n",
    "car_dataset.isnull().sum()"
   ]
  },
  {
   "cell_type": "code",
   "execution_count": 7,
   "id": "47241b0a",
   "metadata": {
    "execution": {
     "iopub.execute_input": "2022-12-19T19:15:31.372871Z",
     "iopub.status.busy": "2022-12-19T19:15:31.372106Z",
     "iopub.status.idle": "2022-12-19T19:15:31.382273Z",
     "shell.execute_reply": "2022-12-19T19:15:31.380667Z"
    },
    "papermill": {
     "duration": 0.019532,
     "end_time": "2022-12-19T19:15:31.384860",
     "exception": false,
     "start_time": "2022-12-19T19:15:31.365328",
     "status": "completed"
    },
    "tags": []
   },
   "outputs": [
    {
     "name": "stdout",
     "output_type": "stream",
     "text": [
      "Petrol    239\n",
      "Diesel     60\n",
      "CNG         2\n",
      "Name: Fuel_Type, dtype: int64\n",
      "Dealer        195\n",
      "Individual    106\n",
      "Name: Seller_Type, dtype: int64\n",
      "Manual       261\n",
      "Automatic     40\n",
      "Name: Transmission, dtype: int64\n"
     ]
    }
   ],
   "source": [
    "# Seeing the distribution of categorical data \n",
    "print(car_dataset.Fuel_Type.value_counts())\n",
    "print(car_dataset.Seller_Type.value_counts())\n",
    "print(car_dataset.Transmission.value_counts())"
   ]
  },
  {
   "cell_type": "markdown",
   "id": "4cd6f122",
   "metadata": {
    "papermill": {
     "duration": 0.005388,
     "end_time": "2022-12-19T19:15:31.396117",
     "exception": false,
     "start_time": "2022-12-19T19:15:31.390729",
     "status": "completed"
    },
    "tags": []
   },
   "source": [
    "# **Encoding the categorical data**"
   ]
  },
  {
   "cell_type": "code",
   "execution_count": 8,
   "id": "28b81e2a",
   "metadata": {
    "execution": {
     "iopub.execute_input": "2022-12-19T19:15:31.409634Z",
     "iopub.status.busy": "2022-12-19T19:15:31.409200Z",
     "iopub.status.idle": "2022-12-19T19:15:31.421114Z",
     "shell.execute_reply": "2022-12-19T19:15:31.419944Z"
    },
    "papermill": {
     "duration": 0.022027,
     "end_time": "2022-12-19T19:15:31.423835",
     "exception": false,
     "start_time": "2022-12-19T19:15:31.401808",
     "status": "completed"
    },
    "tags": []
   },
   "outputs": [],
   "source": [
    " # Encoding the categorical data for fuel type column\n",
    "car_dataset.replace({'Fuel_Type':{'Petrol':0, 'Diesel':1, 'CNG':2, }},inplace=True)\n",
    "\n",
    " # Encoding the categorical data for seller type column\n",
    "car_dataset.replace({'Seller_Type':{'Dealer':0, 'Individual':1}},inplace=True)\n",
    "\n",
    " # Encoding the categorical data for transmission column\n",
    "car_dataset.replace({'Transmission':{'Manual':0, 'Automatic':1}},inplace=True)"
   ]
  },
  {
   "cell_type": "code",
   "execution_count": 9,
   "id": "83c808c2",
   "metadata": {
    "execution": {
     "iopub.execute_input": "2022-12-19T19:15:31.438699Z",
     "iopub.status.busy": "2022-12-19T19:15:31.438229Z",
     "iopub.status.idle": "2022-12-19T19:15:31.453378Z",
     "shell.execute_reply": "2022-12-19T19:15:31.452114Z"
    },
    "papermill": {
     "duration": 0.024635,
     "end_time": "2022-12-19T19:15:31.455780",
     "exception": false,
     "start_time": "2022-12-19T19:15:31.431145",
     "status": "completed"
    },
    "tags": []
   },
   "outputs": [
    {
     "data": {
      "text/html": [
       "<div>\n",
       "<style scoped>\n",
       "    .dataframe tbody tr th:only-of-type {\n",
       "        vertical-align: middle;\n",
       "    }\n",
       "\n",
       "    .dataframe tbody tr th {\n",
       "        vertical-align: top;\n",
       "    }\n",
       "\n",
       "    .dataframe thead th {\n",
       "        text-align: right;\n",
       "    }\n",
       "</style>\n",
       "<table border=\"1\" class=\"dataframe\">\n",
       "  <thead>\n",
       "    <tr style=\"text-align: right;\">\n",
       "      <th></th>\n",
       "      <th>Car_Name</th>\n",
       "      <th>Year</th>\n",
       "      <th>Selling_Price</th>\n",
       "      <th>Present_Price</th>\n",
       "      <th>Kms_Driven</th>\n",
       "      <th>Fuel_Type</th>\n",
       "      <th>Seller_Type</th>\n",
       "      <th>Transmission</th>\n",
       "      <th>Owner</th>\n",
       "    </tr>\n",
       "  </thead>\n",
       "  <tbody>\n",
       "    <tr>\n",
       "      <th>0</th>\n",
       "      <td>ritz</td>\n",
       "      <td>2014</td>\n",
       "      <td>3.35</td>\n",
       "      <td>5.59</td>\n",
       "      <td>27000</td>\n",
       "      <td>0</td>\n",
       "      <td>0</td>\n",
       "      <td>0</td>\n",
       "      <td>0</td>\n",
       "    </tr>\n",
       "    <tr>\n",
       "      <th>1</th>\n",
       "      <td>sx4</td>\n",
       "      <td>2013</td>\n",
       "      <td>4.75</td>\n",
       "      <td>9.54</td>\n",
       "      <td>43000</td>\n",
       "      <td>1</td>\n",
       "      <td>0</td>\n",
       "      <td>0</td>\n",
       "      <td>0</td>\n",
       "    </tr>\n",
       "    <tr>\n",
       "      <th>2</th>\n",
       "      <td>ciaz</td>\n",
       "      <td>2017</td>\n",
       "      <td>7.25</td>\n",
       "      <td>9.85</td>\n",
       "      <td>6900</td>\n",
       "      <td>0</td>\n",
       "      <td>0</td>\n",
       "      <td>0</td>\n",
       "      <td>0</td>\n",
       "    </tr>\n",
       "    <tr>\n",
       "      <th>3</th>\n",
       "      <td>wagon r</td>\n",
       "      <td>2011</td>\n",
       "      <td>2.85</td>\n",
       "      <td>4.15</td>\n",
       "      <td>5200</td>\n",
       "      <td>0</td>\n",
       "      <td>0</td>\n",
       "      <td>0</td>\n",
       "      <td>0</td>\n",
       "    </tr>\n",
       "    <tr>\n",
       "      <th>4</th>\n",
       "      <td>swift</td>\n",
       "      <td>2014</td>\n",
       "      <td>4.60</td>\n",
       "      <td>6.87</td>\n",
       "      <td>42450</td>\n",
       "      <td>1</td>\n",
       "      <td>0</td>\n",
       "      <td>0</td>\n",
       "      <td>0</td>\n",
       "    </tr>\n",
       "  </tbody>\n",
       "</table>\n",
       "</div>"
      ],
      "text/plain": [
       "  Car_Name  Year  Selling_Price  Present_Price  Kms_Driven  Fuel_Type  \\\n",
       "0     ritz  2014           3.35           5.59       27000          0   \n",
       "1      sx4  2013           4.75           9.54       43000          1   \n",
       "2     ciaz  2017           7.25           9.85        6900          0   \n",
       "3  wagon r  2011           2.85           4.15        5200          0   \n",
       "4    swift  2014           4.60           6.87       42450          1   \n",
       "\n",
       "   Seller_Type  Transmission  Owner  \n",
       "0            0             0      0  \n",
       "1            0             0      0  \n",
       "2            0             0      0  \n",
       "3            0             0      0  \n",
       "4            0             0      0  "
      ]
     },
     "execution_count": 9,
     "metadata": {},
     "output_type": "execute_result"
    }
   ],
   "source": [
    "# Checking if the encoding was done correctly \n",
    "car_dataset.head()"
   ]
  },
  {
   "cell_type": "code",
   "execution_count": 10,
   "id": "caa40b49",
   "metadata": {
    "execution": {
     "iopub.execute_input": "2022-12-19T19:15:31.469348Z",
     "iopub.status.busy": "2022-12-19T19:15:31.468901Z",
     "iopub.status.idle": "2022-12-19T19:15:31.477504Z",
     "shell.execute_reply": "2022-12-19T19:15:31.476452Z"
    },
    "papermill": {
     "duration": 0.018166,
     "end_time": "2022-12-19T19:15:31.479894",
     "exception": false,
     "start_time": "2022-12-19T19:15:31.461728",
     "status": "completed"
    },
    "tags": []
   },
   "outputs": [],
   "source": [
    "# Splitting the data into X & Y (Independant & dependant variable)\n",
    "X = car_dataset.drop(['Car_Name','Selling_Price'], axis=1)\n",
    "Y = car_dataset['Selling_Price']"
   ]
  },
  {
   "cell_type": "code",
   "execution_count": 11,
   "id": "03dce8ae",
   "metadata": {
    "execution": {
     "iopub.execute_input": "2022-12-19T19:15:31.493407Z",
     "iopub.status.busy": "2022-12-19T19:15:31.493018Z",
     "iopub.status.idle": "2022-12-19T19:15:31.505989Z",
     "shell.execute_reply": "2022-12-19T19:15:31.504787Z"
    },
    "papermill": {
     "duration": 0.022479,
     "end_time": "2022-12-19T19:15:31.508238",
     "exception": false,
     "start_time": "2022-12-19T19:15:31.485759",
     "status": "completed"
    },
    "tags": []
   },
   "outputs": [
    {
     "data": {
      "text/html": [
       "<div>\n",
       "<style scoped>\n",
       "    .dataframe tbody tr th:only-of-type {\n",
       "        vertical-align: middle;\n",
       "    }\n",
       "\n",
       "    .dataframe tbody tr th {\n",
       "        vertical-align: top;\n",
       "    }\n",
       "\n",
       "    .dataframe thead th {\n",
       "        text-align: right;\n",
       "    }\n",
       "</style>\n",
       "<table border=\"1\" class=\"dataframe\">\n",
       "  <thead>\n",
       "    <tr style=\"text-align: right;\">\n",
       "      <th></th>\n",
       "      <th>Year</th>\n",
       "      <th>Present_Price</th>\n",
       "      <th>Kms_Driven</th>\n",
       "      <th>Fuel_Type</th>\n",
       "      <th>Seller_Type</th>\n",
       "      <th>Transmission</th>\n",
       "      <th>Owner</th>\n",
       "    </tr>\n",
       "  </thead>\n",
       "  <tbody>\n",
       "    <tr>\n",
       "      <th>0</th>\n",
       "      <td>2014</td>\n",
       "      <td>5.59</td>\n",
       "      <td>27000</td>\n",
       "      <td>0</td>\n",
       "      <td>0</td>\n",
       "      <td>0</td>\n",
       "      <td>0</td>\n",
       "    </tr>\n",
       "    <tr>\n",
       "      <th>1</th>\n",
       "      <td>2013</td>\n",
       "      <td>9.54</td>\n",
       "      <td>43000</td>\n",
       "      <td>1</td>\n",
       "      <td>0</td>\n",
       "      <td>0</td>\n",
       "      <td>0</td>\n",
       "    </tr>\n",
       "    <tr>\n",
       "      <th>2</th>\n",
       "      <td>2017</td>\n",
       "      <td>9.85</td>\n",
       "      <td>6900</td>\n",
       "      <td>0</td>\n",
       "      <td>0</td>\n",
       "      <td>0</td>\n",
       "      <td>0</td>\n",
       "    </tr>\n",
       "    <tr>\n",
       "      <th>3</th>\n",
       "      <td>2011</td>\n",
       "      <td>4.15</td>\n",
       "      <td>5200</td>\n",
       "      <td>0</td>\n",
       "      <td>0</td>\n",
       "      <td>0</td>\n",
       "      <td>0</td>\n",
       "    </tr>\n",
       "    <tr>\n",
       "      <th>4</th>\n",
       "      <td>2014</td>\n",
       "      <td>6.87</td>\n",
       "      <td>42450</td>\n",
       "      <td>1</td>\n",
       "      <td>0</td>\n",
       "      <td>0</td>\n",
       "      <td>0</td>\n",
       "    </tr>\n",
       "  </tbody>\n",
       "</table>\n",
       "</div>"
      ],
      "text/plain": [
       "   Year  Present_Price  Kms_Driven  Fuel_Type  Seller_Type  Transmission  \\\n",
       "0  2014           5.59       27000          0            0             0   \n",
       "1  2013           9.54       43000          1            0             0   \n",
       "2  2017           9.85        6900          0            0             0   \n",
       "3  2011           4.15        5200          0            0             0   \n",
       "4  2014           6.87       42450          1            0             0   \n",
       "\n",
       "   Owner  \n",
       "0      0  \n",
       "1      0  \n",
       "2      0  \n",
       "3      0  \n",
       "4      0  "
      ]
     },
     "execution_count": 11,
     "metadata": {},
     "output_type": "execute_result"
    }
   ],
   "source": [
    "# Viewing the split data (independant & dependant variables)\n",
    "X.head()"
   ]
  },
  {
   "cell_type": "code",
   "execution_count": 12,
   "id": "43b8292b",
   "metadata": {
    "execution": {
     "iopub.execute_input": "2022-12-19T19:15:31.522043Z",
     "iopub.status.busy": "2022-12-19T19:15:31.521636Z",
     "iopub.status.idle": "2022-12-19T19:15:31.529805Z",
     "shell.execute_reply": "2022-12-19T19:15:31.528683Z"
    },
    "papermill": {
     "duration": 0.018419,
     "end_time": "2022-12-19T19:15:31.532788",
     "exception": false,
     "start_time": "2022-12-19T19:15:31.514369",
     "status": "completed"
    },
    "tags": []
   },
   "outputs": [
    {
     "name": "stdout",
     "output_type": "stream",
     "text": [
      "0       3.35\n",
      "1       4.75\n",
      "2       7.25\n",
      "3       2.85\n",
      "4       4.60\n",
      "       ...  \n",
      "296     9.50\n",
      "297     4.00\n",
      "298     3.35\n",
      "299    11.50\n",
      "300     5.30\n",
      "Name: Selling_Price, Length: 301, dtype: float64\n"
     ]
    }
   ],
   "source": [
    "# We can use either head or print to view the data\n",
    "print(Y)"
   ]
  },
  {
   "cell_type": "code",
   "execution_count": 13,
   "id": "909c630a",
   "metadata": {
    "execution": {
     "iopub.execute_input": "2022-12-19T19:15:31.547701Z",
     "iopub.status.busy": "2022-12-19T19:15:31.547316Z",
     "iopub.status.idle": "2022-12-19T19:15:31.554191Z",
     "shell.execute_reply": "2022-12-19T19:15:31.553332Z"
    },
    "papermill": {
     "duration": 0.01648,
     "end_time": "2022-12-19T19:15:31.556322",
     "exception": false,
     "start_time": "2022-12-19T19:15:31.539842",
     "status": "completed"
    },
    "tags": []
   },
   "outputs": [],
   "source": [
    "# Splitting the data intro training and test data\n",
    "X_train, X_test, Y_train, Y_test = train_test_split(X, Y, test_size = 0.05)\n"
   ]
  },
  {
   "cell_type": "code",
   "execution_count": 14,
   "id": "86e56ed7",
   "metadata": {
    "execution": {
     "iopub.execute_input": "2022-12-19T19:15:31.570314Z",
     "iopub.status.busy": "2022-12-19T19:15:31.569905Z",
     "iopub.status.idle": "2022-12-19T19:15:31.574644Z",
     "shell.execute_reply": "2022-12-19T19:15:31.573403Z"
    },
    "papermill": {
     "duration": 0.014456,
     "end_time": "2022-12-19T19:15:31.576938",
     "exception": false,
     "start_time": "2022-12-19T19:15:31.562482",
     "status": "completed"
    },
    "tags": []
   },
   "outputs": [],
   "source": [
    "# Loading the Linear Regression Model \n",
    "lin_reg_model = LinearRegression()"
   ]
  },
  {
   "cell_type": "code",
   "execution_count": 15,
   "id": "4f407aad",
   "metadata": {
    "execution": {
     "iopub.execute_input": "2022-12-19T19:15:31.590822Z",
     "iopub.status.busy": "2022-12-19T19:15:31.590400Z",
     "iopub.status.idle": "2022-12-19T19:15:31.616818Z",
     "shell.execute_reply": "2022-12-19T19:15:31.615629Z"
    },
    "papermill": {
     "duration": 0.035845,
     "end_time": "2022-12-19T19:15:31.619153",
     "exception": false,
     "start_time": "2022-12-19T19:15:31.583308",
     "status": "completed"
    },
    "tags": []
   },
   "outputs": [
    {
     "data": {
      "text/plain": [
       "LinearRegression()"
      ]
     },
     "execution_count": 15,
     "metadata": {},
     "output_type": "execute_result"
    }
   ],
   "source": [
    "#  Fitting our data into the Linear Regression Model (Training our model)\n",
    "lin_reg_model.fit(X_train, Y_train)"
   ]
  },
  {
   "cell_type": "markdown",
   "id": "0e2e3c05",
   "metadata": {
    "papermill": {
     "duration": 0.00596,
     "end_time": "2022-12-19T19:15:31.631510",
     "exception": false,
     "start_time": "2022-12-19T19:15:31.625550",
     "status": "completed"
    },
    "tags": []
   },
   "source": [
    "# **Linear Regression Model Evaluation**"
   ]
  },
  {
   "cell_type": "code",
   "execution_count": 16,
   "id": "58df46b7",
   "metadata": {
    "execution": {
     "iopub.execute_input": "2022-12-19T19:15:31.645626Z",
     "iopub.status.busy": "2022-12-19T19:15:31.644775Z",
     "iopub.status.idle": "2022-12-19T19:15:31.652346Z",
     "shell.execute_reply": "2022-12-19T19:15:31.651455Z"
    },
    "papermill": {
     "duration": 0.016883,
     "end_time": "2022-12-19T19:15:31.654377",
     "exception": false,
     "start_time": "2022-12-19T19:15:31.637494",
     "status": "completed"
    },
    "tags": []
   },
   "outputs": [],
   "source": [
    "# Predicitions on training data\n",
    "training_data_prediction = lin_reg_model.predict(X_train)"
   ]
  },
  {
   "cell_type": "code",
   "execution_count": 17,
   "id": "22a40985",
   "metadata": {
    "execution": {
     "iopub.execute_input": "2022-12-19T19:15:31.668637Z",
     "iopub.status.busy": "2022-12-19T19:15:31.668201Z",
     "iopub.status.idle": "2022-12-19T19:15:31.675335Z",
     "shell.execute_reply": "2022-12-19T19:15:31.674012Z"
    },
    "papermill": {
     "duration": 0.017497,
     "end_time": "2022-12-19T19:15:31.678044",
     "exception": false,
     "start_time": "2022-12-19T19:15:31.660547",
     "status": "completed"
    },
    "tags": []
   },
   "outputs": [
    {
     "name": "stdout",
     "output_type": "stream",
     "text": [
      "R Scored Error:  0.8783372881729601\n"
     ]
    }
   ],
   "source": [
    "# Testing the accuracy of our model (R Squared Error)\n",
    "error_score = metrics.r2_score(Y_train, training_data_prediction)\n",
    "print(\"R Scored Error: \", error_score)"
   ]
  }
 ],
 "metadata": {
  "kernelspec": {
   "display_name": "Python 3",
   "language": "python",
   "name": "python3"
  },
  "language_info": {
   "codemirror_mode": {
    "name": "ipython",
    "version": 3
   },
   "file_extension": ".py",
   "mimetype": "text/x-python",
   "name": "python",
   "nbconvert_exporter": "python",
   "pygments_lexer": "ipython3",
   "version": "3.7.12"
  },
  "papermill": {
   "default_parameters": {},
   "duration": 12.821127,
   "end_time": "2022-12-19T19:15:32.507586",
   "environment_variables": {},
   "exception": null,
   "input_path": "__notebook__.ipynb",
   "output_path": "__notebook__.ipynb",
   "parameters": {},
   "start_time": "2022-12-19T19:15:19.686459",
   "version": "2.3.4"
  }
 },
 "nbformat": 4,
 "nbformat_minor": 5
}
