{
 "cells": [
  {
   "cell_type": "code",
   "execution_count": 1,
   "id": "59efb3e7",
   "metadata": {
    "_cell_guid": "b1076dfc-b9ad-4769-8c92-a6c4dae69d19",
    "_uuid": "8f2839f25d086af736a60e9eeb907d3b93b6e0e5",
    "execution": {
     "iopub.execute_input": "2022-12-19T02:52:27.559135Z",
     "iopub.status.busy": "2022-12-19T02:52:27.558465Z",
     "iopub.status.idle": "2022-12-19T02:52:28.551413Z",
     "shell.execute_reply": "2022-12-19T02:52:28.550044Z"
    },
    "papermill": {
     "duration": 1.003035,
     "end_time": "2022-12-19T02:52:28.554707",
     "exception": false,
     "start_time": "2022-12-19T02:52:27.551672",
     "status": "completed"
    },
    "tags": []
   },
   "outputs": [],
   "source": [
    "# Imports the SciPy Libraries\n",
    "import sys\n",
    "import scipy\n",
    "import numpy\n",
    "import matplotlib\n",
    "import pandas as pd\n",
    "import sklearn\n"
   ]
  },
  {
   "cell_type": "code",
   "execution_count": 2,
   "id": "c95d9441",
   "metadata": {
    "execution": {
     "iopub.execute_input": "2022-12-19T02:52:28.563829Z",
     "iopub.status.busy": "2022-12-19T02:52:28.563265Z",
     "iopub.status.idle": "2022-12-19T02:52:28.802043Z",
     "shell.execute_reply": "2022-12-19T02:52:28.800709Z"
    },
    "papermill": {
     "duration": 0.246572,
     "end_time": "2022-12-19T02:52:28.804763",
     "exception": false,
     "start_time": "2022-12-19T02:52:28.558191",
     "status": "completed"
    },
    "tags": []
   },
   "outputs": [],
   "source": [
    "# Load libraries\n",
    "from pandas import read_csv\n",
    "from pandas.plotting import scatter_matrix\n",
    "from matplotlib import pyplot\n",
    "from sklearn.model_selection import train_test_split\n",
    "from sklearn.model_selection import cross_val_score\n",
    "from sklearn.model_selection import StratifiedKFold\n",
    "from sklearn.metrics import classification_report\n",
    "from sklearn.metrics import confusion_matrix\n",
    "from sklearn.metrics import accuracy_score\n",
    "from sklearn.linear_model import LogisticRegression\n",
    "from sklearn.tree import DecisionTreeClassifier\n",
    "from sklearn.neighbors import KNeighborsClassifier\n",
    "from sklearn.discriminant_analysis import LinearDiscriminantAnalysis\n",
    "from sklearn.naive_bayes import GaussianNB\n",
    "from sklearn.svm import SVC"
   ]
  },
  {
   "cell_type": "code",
   "execution_count": 3,
   "id": "e37dab12",
   "metadata": {
    "execution": {
     "iopub.execute_input": "2022-12-19T02:52:28.812857Z",
     "iopub.status.busy": "2022-12-19T02:52:28.812453Z",
     "iopub.status.idle": "2022-12-19T02:52:28.963551Z",
     "shell.execute_reply": "2022-12-19T02:52:28.962256Z"
    },
    "papermill": {
     "duration": 0.158405,
     "end_time": "2022-12-19T02:52:28.966431",
     "exception": false,
     "start_time": "2022-12-19T02:52:28.808026",
     "status": "completed"
    },
    "tags": []
   },
   "outputs": [],
   "source": [
    "# Load dataset from the url selected\n",
    "url = \"https://raw.githubusercontent.com/jbrownlee/Datasets/master/iris.csv\"\n",
    "names = ['sepal-length', 'sepal-width', 'petal-length', 'petal-width', 'class']\n",
    "dataset = read_csv(url, names=names)"
   ]
  },
  {
   "cell_type": "code",
   "execution_count": 4,
   "id": "e3edf3d7",
   "metadata": {
    "execution": {
     "iopub.execute_input": "2022-12-19T02:52:28.975057Z",
     "iopub.status.busy": "2022-12-19T02:52:28.974605Z",
     "iopub.status.idle": "2022-12-19T02:52:28.981126Z",
     "shell.execute_reply": "2022-12-19T02:52:28.980140Z"
    },
    "papermill": {
     "duration": 0.014707,
     "end_time": "2022-12-19T02:52:28.984505",
     "exception": false,
     "start_time": "2022-12-19T02:52:28.969798",
     "status": "completed"
    },
    "tags": []
   },
   "outputs": [
    {
     "name": "stdout",
     "output_type": "stream",
     "text": [
      "(150, 5)\n"
     ]
    }
   ],
   "source": [
    "# Shows the shape of the dataset\n",
    "print(dataset.shape)"
   ]
  },
  {
   "cell_type": "code",
   "execution_count": 5,
   "id": "7c11ad0c",
   "metadata": {
    "execution": {
     "iopub.execute_input": "2022-12-19T02:52:28.994031Z",
     "iopub.status.busy": "2022-12-19T02:52:28.993504Z",
     "iopub.status.idle": "2022-12-19T02:52:29.009937Z",
     "shell.execute_reply": "2022-12-19T02:52:29.008317Z"
    },
    "papermill": {
     "duration": 0.024529,
     "end_time": "2022-12-19T02:52:29.013336",
     "exception": false,
     "start_time": "2022-12-19T02:52:28.988807",
     "status": "completed"
    },
    "tags": []
   },
   "outputs": [
    {
     "name": "stdout",
     "output_type": "stream",
     "text": [
      "    sepal-length  sepal-width  petal-length  petal-width        class\n",
      "0            5.1          3.5           1.4          0.2  Iris-setosa\n",
      "1            4.9          3.0           1.4          0.2  Iris-setosa\n",
      "2            4.7          3.2           1.3          0.2  Iris-setosa\n",
      "3            4.6          3.1           1.5          0.2  Iris-setosa\n",
      "4            5.0          3.6           1.4          0.2  Iris-setosa\n",
      "5            5.4          3.9           1.7          0.4  Iris-setosa\n",
      "6            4.6          3.4           1.4          0.3  Iris-setosa\n",
      "7            5.0          3.4           1.5          0.2  Iris-setosa\n",
      "8            4.4          2.9           1.4          0.2  Iris-setosa\n",
      "9            4.9          3.1           1.5          0.1  Iris-setosa\n",
      "10           5.4          3.7           1.5          0.2  Iris-setosa\n",
      "11           4.8          3.4           1.6          0.2  Iris-setosa\n",
      "12           4.8          3.0           1.4          0.1  Iris-setosa\n",
      "13           4.3          3.0           1.1          0.1  Iris-setosa\n",
      "14           5.8          4.0           1.2          0.2  Iris-setosa\n",
      "15           5.7          4.4           1.5          0.4  Iris-setosa\n",
      "16           5.4          3.9           1.3          0.4  Iris-setosa\n",
      "17           5.1          3.5           1.4          0.3  Iris-setosa\n",
      "18           5.7          3.8           1.7          0.3  Iris-setosa\n",
      "19           5.1          3.8           1.5          0.3  Iris-setosa\n"
     ]
    }
   ],
   "source": [
    "# Shows the first twenty rows of the dataset \n",
    "print(dataset.head(20))"
   ]
  },
  {
   "cell_type": "code",
   "execution_count": 6,
   "id": "01df64bf",
   "metadata": {
    "execution": {
     "iopub.execute_input": "2022-12-19T02:52:29.021914Z",
     "iopub.status.busy": "2022-12-19T02:52:29.021494Z",
     "iopub.status.idle": "2022-12-19T02:52:29.051788Z",
     "shell.execute_reply": "2022-12-19T02:52:29.050598Z"
    },
    "papermill": {
     "duration": 0.037989,
     "end_time": "2022-12-19T02:52:29.054991",
     "exception": false,
     "start_time": "2022-12-19T02:52:29.017002",
     "status": "completed"
    },
    "tags": []
   },
   "outputs": [
    {
     "name": "stdout",
     "output_type": "stream",
     "text": [
      "       sepal-length  sepal-width  petal-length  petal-width\n",
      "count    150.000000   150.000000    150.000000   150.000000\n",
      "mean       5.843333     3.054000      3.758667     1.198667\n",
      "std        0.828066     0.433594      1.764420     0.763161\n",
      "min        4.300000     2.000000      1.000000     0.100000\n",
      "25%        5.100000     2.800000      1.600000     0.300000\n",
      "50%        5.800000     3.000000      4.350000     1.300000\n",
      "75%        6.400000     3.300000      5.100000     1.800000\n",
      "max        7.900000     4.400000      6.900000     2.500000\n"
     ]
    }
   ],
   "source": [
    "# Provies a statistical descriptions of the dataset\n",
    "print(dataset.describe())"
   ]
  },
  {
   "cell_type": "code",
   "execution_count": 7,
   "id": "076f0af6",
   "metadata": {
    "execution": {
     "iopub.execute_input": "2022-12-19T02:52:29.064392Z",
     "iopub.status.busy": "2022-12-19T02:52:29.063987Z",
     "iopub.status.idle": "2022-12-19T02:52:29.071424Z",
     "shell.execute_reply": "2022-12-19T02:52:29.070173Z"
    },
    "papermill": {
     "duration": 0.015054,
     "end_time": "2022-12-19T02:52:29.073932",
     "exception": false,
     "start_time": "2022-12-19T02:52:29.058878",
     "status": "completed"
    },
    "tags": []
   },
   "outputs": [
    {
     "name": "stdout",
     "output_type": "stream",
     "text": [
      "class\n",
      "Iris-setosa        50\n",
      "Iris-versicolor    50\n",
      "Iris-virginica     50\n",
      "dtype: int64\n"
     ]
    }
   ],
   "source": [
    "# Shows the class distribution of the dataset\n",
    "print(dataset.groupby('class').size())"
   ]
  },
  {
   "cell_type": "code",
   "execution_count": 8,
   "id": "3d7eda35",
   "metadata": {
    "execution": {
     "iopub.execute_input": "2022-12-19T02:52:29.082729Z",
     "iopub.status.busy": "2022-12-19T02:52:29.082298Z",
     "iopub.status.idle": "2022-12-19T02:52:29.507213Z",
     "shell.execute_reply": "2022-12-19T02:52:29.505965Z"
    },
    "papermill": {
     "duration": 0.432425,
     "end_time": "2022-12-19T02:52:29.509819",
     "exception": false,
     "start_time": "2022-12-19T02:52:29.077394",
     "status": "completed"
    },
    "tags": []
   },
   "outputs": [
    {
     "data": {
      "image/png": "[encoded data removed]",
      "text/plain": [
       "<Figure size 432x288 with 4 Axes>"
      ]
     },
     "metadata": {
      "needs_background": "light"
     },
     "output_type": "display_data"
    }
   ],
   "source": [
    "# box and whisker plots of the data\n",
    "dataset.plot(kind='box', subplots=True, layout=(2,2), sharex=False, sharey=False)\n",
    "pyplot.show()"
   ]
  },
  {
   "cell_type": "code",
   "execution_count": 9,
   "id": "2aef51b3",
   "metadata": {
    "execution": {
     "iopub.execute_input": "2022-12-19T02:52:29.519351Z",
     "iopub.status.busy": "2022-12-19T02:52:29.518914Z",
     "iopub.status.idle": "2022-12-19T02:52:29.994658Z",
     "shell.execute_reply": "2022-12-19T02:52:29.993845Z"
    },
    "papermill": {
     "duration": 0.483418,
     "end_time": "2022-12-19T02:52:29.997089",
     "exception": false,
     "start_time": "2022-12-19T02:52:29.513671",
     "status": "completed"
    },
    "tags": []
   },
   "outputs": [
    {
     "data": {
      "image/png": "[encoded data removed]",
      "text/plain": [
       "<Figure size 432x288 with 4 Axes>"
      ]
     },
     "metadata": {
      "needs_background": "light"
     },
     "output_type": "display_data"
    }
   ],
   "source": [
    "# Creates a histogram of the data\n",
    "dataset.hist()\n",
    "pyplot.show()"
   ]
  }
 ],
 "metadata": {
  "kernelspec": {
   "display_name": "Python 3",
   "language": "python",
   "name": "python3"
  },
  "language_info": {
   "codemirror_mode": {
    "name": "ipython",
    "version": 3
   },
   "file_extension": ".py",
   "mimetype": "text/x-python",
   "name": "python",
   "nbconvert_exporter": "python",
   "pygments_lexer": "ipython3",
   "version": "3.7.12"
  },
  "papermill": {
   "default_parameters": {},
   "duration": 11.571662,
   "end_time": "2022-12-19T02:52:30.722589",
   "environment_variables": {},
   "exception": null,
   "input_path": "__notebook__.ipynb",
   "output_path": "__notebook__.ipynb",
   "parameters": {},
   "start_time": "2022-12-19T02:52:19.150927",
   "version": "2.3.4"
  }
 },
 "nbformat": 4,
 "nbformat_minor": 5
}
