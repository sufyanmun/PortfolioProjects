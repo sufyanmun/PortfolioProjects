{
 "cells": [
  {
   "cell_type": "code",
   "execution_count": 1,
   "id": "77e67465",
   "metadata": {
    "_cell_guid": "b1076dfc-b9ad-4769-8c92-a6c4dae69d19",
    "_uuid": "8f2839f25d086af736a60e9eeb907d3b93b6e0e5",
    "execution": {
     "iopub.execute_input": "2022-12-14T19:39:32.426431Z",
     "iopub.status.busy": "2022-12-14T19:39:32.425973Z",
     "iopub.status.idle": "2022-12-14T19:39:33.426324Z",
     "shell.execute_reply": "2022-12-14T19:39:33.424983Z"
    },
    "papermill": {
     "duration": 1.008476,
     "end_time": "2022-12-14T19:39:33.429027",
     "exception": false,
     "start_time": "2022-12-14T19:39:32.420551",
     "status": "completed"
    },
    "tags": []
   },
   "outputs": [],
   "source": [
    "# Imports the SciPy Libraries\n",
    "import sys\n",
    "import scipy\n",
    "import numpy\n",
    "import matplotlib\n",
    "import pandas as pd\n",
    "import sklearn\n"
   ]
  },
  {
   "cell_type": "code",
   "execution_count": 2,
   "id": "70bc5f38",
   "metadata": {
    "execution": {
     "iopub.execute_input": "2022-12-14T19:39:33.440138Z",
     "iopub.status.busy": "2022-12-14T19:39:33.439680Z",
     "iopub.status.idle": "2022-12-14T19:39:33.710671Z",
     "shell.execute_reply": "2022-12-14T19:39:33.709445Z"
    },
    "papermill": {
     "duration": 0.277835,
     "end_time": "2022-12-14T19:39:33.713345",
     "exception": false,
     "start_time": "2022-12-14T19:39:33.435510",
     "status": "completed"
    },
    "tags": []
   },
   "outputs": [],
   "source": [
    "# Load libraries\n",
    "from pandas import read_csv\n",
    "from pandas.plotting import scatter_matrix\n",
    "from matplotlib import pyplot\n",
    "from sklearn.model_selection import train_test_split\n",
    "from sklearn.model_selection import cross_val_score\n",
    "from sklearn.model_selection import StratifiedKFold\n",
    "from sklearn.metrics import classification_report\n",
    "from sklearn.metrics import confusion_matrix\n",
    "from sklearn.metrics import accuracy_score\n",
    "from sklearn.linear_model import LogisticRegression\n",
    "from sklearn.tree import DecisionTreeClassifier\n",
    "from sklearn.neighbors import KNeighborsClassifier\n",
    "from sklearn.discriminant_analysis import LinearDiscriminantAnalysis\n",
    "from sklearn.naive_bayes import GaussianNB\n",
    "from sklearn.svm import SVC"
   ]
  },
  {
   "cell_type": "code",
   "execution_count": 3,
   "id": "94045010",
   "metadata": {
    "execution": {
     "iopub.execute_input": "2022-12-14T19:39:33.720704Z",
     "iopub.status.busy": "2022-12-14T19:39:33.720256Z",
     "iopub.status.idle": "2022-12-14T19:39:34.330885Z",
     "shell.execute_reply": "2022-12-14T19:39:34.329943Z"
    },
    "papermill": {
     "duration": 0.617518,
     "end_time": "2022-12-14T19:39:34.333714",
     "exception": false,
     "start_time": "2022-12-14T19:39:33.716196",
     "status": "completed"
    },
    "tags": []
   },
   "outputs": [],
   "source": [
    "# Load dataset from the url selected\n",
    "url = \"https://raw.githubusercontent.com/jbrownlee/Datasets/master/iris.csv\"\n",
    "names = ['sepal-length', 'sepal-width', 'petal-length', 'petal-width', 'class']\n",
    "dataset = read_csv(url, names=names)"
   ]
  },
  {
   "cell_type": "code",
   "execution_count": 4,
   "id": "1097fb4f",
   "metadata": {
    "execution": {
     "iopub.execute_input": "2022-12-14T19:39:34.341494Z",
     "iopub.status.busy": "2022-12-14T19:39:34.340663Z",
     "iopub.status.idle": "2022-12-14T19:39:34.347242Z",
     "shell.execute_reply": "2022-12-14T19:39:34.346109Z"
    },
    "papermill": {
     "duration": 0.013136,
     "end_time": "2022-12-14T19:39:34.349739",
     "exception": false,
     "start_time": "2022-12-14T19:39:34.336603",
     "status": "completed"
    },
    "tags": []
   },
   "outputs": [
    {
     "name": "stdout",
     "output_type": "stream",
     "text": [
      "(150, 5)\n"
     ]
    }
   ],
   "source": [
    "# Shows the shape of the dataset\n",
    "print(dataset.shape)"
   ]
  },
  {
   "cell_type": "code",
   "execution_count": 5,
   "id": "1d373131",
   "metadata": {
    "execution": {
     "iopub.execute_input": "2022-12-14T19:39:34.357178Z",
     "iopub.status.busy": "2022-12-14T19:39:34.356783Z",
     "iopub.status.idle": "2022-12-14T19:39:34.376468Z",
     "shell.execute_reply": "2022-12-14T19:39:34.374284Z"
    },
    "papermill": {
     "duration": 0.026831,
     "end_time": "2022-12-14T19:39:34.379393",
     "exception": false,
     "start_time": "2022-12-14T19:39:34.352562",
     "status": "completed"
    },
    "tags": []
   },
   "outputs": [
    {
     "name": "stdout",
     "output_type": "stream",
     "text": [
      "    sepal-length  sepal-width  petal-length  petal-width        class\n",
      "0            5.1          3.5           1.4          0.2  Iris-setosa\n",
      "1            4.9          3.0           1.4          0.2  Iris-setosa\n",
      "2            4.7          3.2           1.3          0.2  Iris-setosa\n",
      "3            4.6          3.1           1.5          0.2  Iris-setosa\n",
      "4            5.0          3.6           1.4          0.2  Iris-setosa\n",
      "5            5.4          3.9           1.7          0.4  Iris-setosa\n",
      "6            4.6          3.4           1.4          0.3  Iris-setosa\n",
      "7            5.0          3.4           1.5          0.2  Iris-setosa\n",
      "8            4.4          2.9           1.4          0.2  Iris-setosa\n",
      "9            4.9          3.1           1.5          0.1  Iris-setosa\n",
      "10           5.4          3.7           1.5          0.2  Iris-setosa\n",
      "11           4.8          3.4           1.6          0.2  Iris-setosa\n",
      "12           4.8          3.0           1.4          0.1  Iris-setosa\n",
      "13           4.3          3.0           1.1          0.1  Iris-setosa\n",
      "14           5.8          4.0           1.2          0.2  Iris-setosa\n",
      "15           5.7          4.4           1.5          0.4  Iris-setosa\n",
      "16           5.4          3.9           1.3          0.4  Iris-setosa\n",
      "17           5.1          3.5           1.4          0.3  Iris-setosa\n",
      "18           5.7          3.8           1.7          0.3  Iris-setosa\n",
      "19           5.1          3.8           1.5          0.3  Iris-setosa\n"
     ]
    }
   ],
   "source": [
    "# Shows the first twenty rows of the dataset \n",
    "print(dataset.head(20))"
   ]
  },
  {
   "cell_type": "code",
   "execution_count": 6,
   "id": "33ecf930",
   "metadata": {
    "execution": {
     "iopub.execute_input": "2022-12-14T19:39:34.387412Z",
     "iopub.status.busy": "2022-12-14T19:39:34.386646Z",
     "iopub.status.idle": "2022-12-14T19:39:34.417189Z",
     "shell.execute_reply": "2022-12-14T19:39:34.415949Z"
    },
    "papermill": {
     "duration": 0.03788,
     "end_time": "2022-12-14T19:39:34.420370",
     "exception": false,
     "start_time": "2022-12-14T19:39:34.382490",
     "status": "completed"
    },
    "tags": []
   },
   "outputs": [
    {
     "name": "stdout",
     "output_type": "stream",
     "text": [
      "       sepal-length  sepal-width  petal-length  petal-width\n",
      "count    150.000000   150.000000    150.000000   150.000000\n",
      "mean       5.843333     3.054000      3.758667     1.198667\n",
      "std        0.828066     0.433594      1.764420     0.763161\n",
      "min        4.300000     2.000000      1.000000     0.100000\n",
      "25%        5.100000     2.800000      1.600000     0.300000\n",
      "50%        5.800000     3.000000      4.350000     1.300000\n",
      "75%        6.400000     3.300000      5.100000     1.800000\n",
      "max        7.900000     4.400000      6.900000     2.500000\n"
     ]
    }
   ],
   "source": [
    "# Provies a statistical descriptions of the dataset\n",
    "print(dataset.describe())"
   ]
  },
  {
   "cell_type": "code",
   "execution_count": 7,
   "id": "ec5706ea",
   "metadata": {
    "execution": {
     "iopub.execute_input": "2022-12-14T19:39:34.429058Z",
     "iopub.status.busy": "2022-12-14T19:39:34.428230Z",
     "iopub.status.idle": "2022-12-14T19:39:34.436772Z",
     "shell.execute_reply": "2022-12-14T19:39:34.435081Z"
    },
    "papermill": {
     "duration": 0.015926,
     "end_time": "2022-12-14T19:39:34.439871",
     "exception": false,
     "start_time": "2022-12-14T19:39:34.423945",
     "status": "completed"
    },
    "tags": []
   },
   "outputs": [
    {
     "name": "stdout",
     "output_type": "stream",
     "text": [
      "class\n",
      "Iris-setosa        50\n",
      "Iris-versicolor    50\n",
      "Iris-virginica     50\n",
      "dtype: int64\n"
     ]
    }
   ],
   "source": [
    "# Shows the class distribution of the dataset\n",
    "print(dataset.groupby('class').size())"
   ]
  }
 ],
 "metadata": {
  "kernelspec": {
   "display_name": "Python 3",
   "language": "python",
   "name": "python3"
  },
  "language_info": {
   "codemirror_mode": {
    "name": "ipython",
    "version": 3
   },
   "file_extension": ".py",
   "mimetype": "text/x-python",
   "name": "python",
   "nbconvert_exporter": "python",
   "pygments_lexer": "ipython3",
   "version": "3.7.12"
  },
  "papermill": {
   "default_parameters": {},
   "duration": 11.655849,
   "end_time": "2022-12-14T19:39:35.166429",
   "environment_variables": {},
   "exception": null,
   "input_path": "__notebook__.ipynb",
   "output_path": "__notebook__.ipynb",
   "parameters": {},
   "start_time": "2022-12-14T19:39:23.510580",
   "version": "2.3.4"
  }
 },
 "nbformat": 4,
 "nbformat_minor": 5
}
